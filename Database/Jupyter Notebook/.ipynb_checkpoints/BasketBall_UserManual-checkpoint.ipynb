{
 "cells": [
  {
   "cell_type": "markdown",
   "metadata": {},
   "source": [
    "# BasketBall Stats Database Manual "
   ]
  },
  {
   "cell_type": "markdown",
   "metadata": {},
   "source": [
    "# <font color='red'> Imports needed for Database </font>"
   ]
  },
  {
   "cell_type": "code",
   "execution_count": 1,
   "metadata": {},
   "outputs": [
    {
     "data": {
      "text/plain": [
       "['C:\\\\Users\\\\Bryan\\\\Desktop\\\\Basketball-Stats\\\\Database\\\\Jupyter Notebook',\n",
       " 'C:\\\\Users\\\\Bryan\\\\anaconda3\\\\python38.zip',\n",
       " 'C:\\\\Users\\\\Bryan\\\\anaconda3\\\\DLLs',\n",
       " 'C:\\\\Users\\\\Bryan\\\\anaconda3\\\\lib',\n",
       " 'C:\\\\Users\\\\Bryan\\\\anaconda3',\n",
       " '',\n",
       " 'C:\\\\Users\\\\Bryan\\\\anaconda3\\\\lib\\\\site-packages',\n",
       " 'C:\\\\Users\\\\Bryan\\\\Desktop\\\\Basketball-Stats\\\\Web_Scrapers\\\\Python_Scrapers',\n",
       " 'C:\\\\Users\\\\Bryan\\\\anaconda3\\\\lib\\\\site-packages\\\\win32',\n",
       " 'C:\\\\Users\\\\Bryan\\\\anaconda3\\\\lib\\\\site-packages\\\\win32\\\\lib',\n",
       " 'C:\\\\Users\\\\Bryan\\\\anaconda3\\\\lib\\\\site-packages\\\\Pythonwin',\n",
       " 'C:\\\\Users\\\\Bryan\\\\anaconda3\\\\lib\\\\site-packages\\\\IPython\\\\extensions',\n",
       " 'C:\\\\Users\\\\Bryan\\\\.ipython',\n",
       " 'C:\\\\Users\\\\Bryan\\\\Desktop\\\\Basketball-Stats\\\\Database\\\\Python Scripts',\n",
       " 'C:\\\\Users\\\\Bryan\\\\Desktop\\\\Basketball-Stats\\\\Database\\\\Python Scripts\\\\Call_Queries',\n",
       " 'C:\\\\Users\\\\Bryan\\\\Desktop\\\\Basketball-Stats\\\\Database\\\\Python Scripts\\\\Queries',\n",
       " 'C:\\\\Users\\\\Bryan\\\\Desktop\\\\Basketball-Stats\\\\Database\\\\Python Scripts\\\\Queries_Test']"
      ]
     },
     "execution_count": 1,
     "metadata": {},
     "output_type": "execute_result"
    }
   ],
   "source": [
    "# Imports needed for testing the visualization of queries and expected output\n",
    "import pyodbc\n",
    "import pymysql\n",
    "import sqlalchemy as sal\n",
    "from sqlalchemy import create_engine\n",
    "import pandas as pd\n",
    "import pathlib\n",
    "import sys\n",
    "import os\n",
    "\n",
    "# Add path for imports \n",
    "sys.path.append(str(pathlib.Path().absolute().parent) +'\\\\Python Scripts')\n",
    "sys.path.append(str(pathlib.Path().absolute().parent) +'\\\\Python Scripts' + '\\\\Call_Queries')\n",
    "sys.path.append(str(pathlib.Path().absolute().parent) +'\\\\Python Scripts' + '\\\\Queries')\n",
    "sys.path.append(str(pathlib.Path().absolute().parent) +'\\\\Python Scripts' + '\\\\Queries_Test')\n",
    "\n",
    "# print the sys paths\n",
    "sys.path"
   ]
  },
  {
   "cell_type": "markdown",
   "metadata": {},
   "source": [
    "# Tables of Contexts \n",
    "## <font color='black'>1. Phase 2 Overview </font>\n",
    "\n",
    "## <font color='black'>2. Database Information </font>\n",
    "\n",
    "## <font color='black'>3. Python Scripts </font>\n",
    "\n",
    "## <font color='black'>4. SQL Scripts </font>"
   ]
  },
  {
   "cell_type": "markdown",
   "metadata": {},
   "source": [
    "# <font color='red'>Phase 2 Overview: Storing and Retrieving the Data</font>\n",
    "\n",
    "\n",
    "## Python Moduels/ Libraries \n",
    "For <b>Phase Two</b> of this project, these are the following modules needed to run each of the programs.\n",
    "```\n",
    "lxml==4.6.2\n",
    "pandas==1.2.2\n",
    "pymysql==1.0.2\n",
    "pyodbc==4.0.30\n",
    "sqlalchemy==1.3.23\n",
    "```"
   ]
  },
  {
   "cell_type": "markdown",
   "metadata": {},
   "source": [
    "# <font color='red'>Database Information</font>"
   ]
  },
  {
   "cell_type": "markdown",
   "metadata": {},
   "source": [
    "## Database Tables"
   ]
  },
  {
   "cell_type": "markdown",
   "metadata": {},
   "source": [
    "### `Season`\n",
    "<strong>Primary Key:</strong> \n",
    "- `Season_ID`<br>\n",
    "\n",
    "<strong>Foreign Key:</strong><br> \n",
    "- `None`\n",
    "\n",
    "<strong>Check Constraints:</strong><br>\n",
    "- `Season_ID` BETWEEN 1980 and 2021\n",
    "\n",
    "<strong>NULL Constraints:</strong><br>\n",
    "- `Season_ID`\n",
    "\n",
    "<strong>Columns:</strong><br>\n",
    "- `Season_ID`: A INT that cannot be NULL that represents the a given year"
   ]
  },
  {
   "cell_type": "markdown",
   "metadata": {},
   "source": [
    "### `Team`\n",
    "<strong>Primary Key:</strong>\n",
    "- `Season_ID`<br>\n",
    "- `Team_ID`<br>\n",
    "\n",
    "<strong>Foreign Key:</strong>\n",
    "- `Season_ID` REFERENCES Season(Season_ID)\n",
    "\n",
    "<strong>Check Constraints:</strong> \n",
    "- `Season_ID` BETWEEN 1980 and 2021<br>\n",
    "- `Team_ID` BETWEEN 1 and 31<br>\n",
    "\n",
    "<strong>NULL Constraints:</strong>\n",
    " \n",
    "\n",
    "<strong>Columns:</strong>\n",
    "- `Season_ID`: A INT that represents a given year<br>\n",
    "- `Team_ID`:   A INT that represents a team<br>\n",
    "- `Team_Name`: A VARCHAR of length 45 for a team's name<br>\n",
    "- `Team_ABV`:  A VARCHAR of length 3 that represents a abbreviation for a team's name<br>\n"
   ]
  },
  {
   "cell_type": "markdown",
   "metadata": {},
   "source": [
    "### `Player`\n",
    "<strong>Primary Key:</strong>\n",
    "- `Player_ID`<br>\n",
    "\n",
    "<strong>Foreign Key:</strong>\n",
    "- `None`<br>\n",
    "\n",
    "<strong>Check Constraints:</strong> \n",
    "- `Player_ID` BETWEEN 1 and 3287\n",
    "\n",
    "<strong>NULL Constraints:</strong>\n",
    "- `Player_ID`<br>\n",
    "- `Birth_Date`<br>\n",
    "- `Player_Name`<br>\n",
    "\n",
    "<strong>Columns:</strong>\n",
    "- `Player_ID`:   A INT that represents a player<br>\n",
    "- `Birth_Date`:  A DATE that represents a player's date of birth<br>\n",
    "- `Player_Name`: A VARCHAR of length 45 that is a string that represents a player's name<br>"
   ]
  },
  {
   "cell_type": "markdown",
   "metadata": {},
   "source": [
    "### `Conference_Standings`\n",
    "<strong>Primary Key:</strong>\n",
    "- `Season_ID`<br>\n",
    "- `Team_ID`<br>\n",
    "\n",
    "<strong>Foreign Key:</strong>\n",
    "- `Season_ID` REFERENCES Team(Season_ID)<br>\n",
    "- `Team_ID` REFERENCES Team(Team_ID)<br>\n",
    "\n",
    "<strong>Check Constraints:</strong> \n",
    "- `Season_ID` BETWEEN 1980 AND 2021<br>\n",
    "- `Team_ID` BETWEEN 1 and 31\n",
    "\n",
    "<strong>NULL Constraints:</strong>\n",
    "- `Season_ID`<br> \t\t\t\t\n",
    "- `Team_ID`<br>\t\t\n",
    "- `Team_ABV`<br>\t\t\t\t\n",
    "- `Team_Name`<br>\t\t\t\n",
    "- `Wins`<br>\t\t\t\n",
    "- `Loses`<br>\t\t\t\t  \n",
    "- `Win_Lose_Percentage`<br> \t \n",
    "- `Games_Behind`<br>    \n",
    "- `Points_Per_Game`<br>\t\t  \n",
    "- `Opponents_Points_Per_Game`<br> \n",
    "- `Simple_Rating_System`<br>\n",
    "- `East_Or_West`<br>\n",
    "\n",
    "<strong>Columns:</strong>\n",
    "- `Season_ID`:                 A INT that represents a given year<br> \t\t\t\t\n",
    "- `Team_ID`:                   A INT that represents a team<br>\t\t\n",
    "- `Team_ABV`\t               A VARCHAR of length 3 that represents a abbreviation for a team's name<br>\n",
    "- `Team_Name`:\t\t           A VARCHAR of length 45 that represents a team name<br>\n",
    "- `Wins`:\t\t\t           A INT that represents the amount of wins for a team<br>\n",
    "- `Loses`:\t\t               A INT that represents the amount of losses for a team<br>\n",
    "- `Win_Lose_Percentage`:       A FLOAT that represents the percentage of wins/losess<br> \t \n",
    "- `Games_Behind`:              A VARCHAR of length 4 that represents the amount of games behind the number one team<br>    \n",
    "- `Points_Per_Game`:\t       A FLOAT that represents the amount of points per games for a given team<br>\n",
    "- `Opponents_Points_Per_Game`: A FLOAT that represents a opponents amount of points agaist a given team<br>\n",
    "- `Simple_Rating_System`:      A FLOAT is the team rating determined by average point differential and strength of schedule<br>\n",
    "- `East_Or_West`:              A BOOLEAN that represent East or Western Conference<br>"
   ]
  },
  {
   "cell_type": "markdown",
   "metadata": {},
   "source": [
    "### `Roster`\n",
    "<strong>Primary Key:</strong>\n",
    "- `Season_ID`\n",
    "- `Team_ID`\n",
    "- `Player_ID`\n",
    "\n",
    "<strong>Foreign Key:</strong>\n",
    "- `Season_ID` REFERENCES Team(Season_ID)\n",
    "- `Team_ID` REFERENCES Team(Team_ID)\n",
    "- `Player_ID` REFERENCES Player(Player_ID)\n",
    "\n",
    "<strong>Check Constraints:</strong> \n",
    "- `Season_ID` BETWEEN 1980 AND 2021\n",
    "- `Team_ID` BETWEEN 1 and 31\n",
    "- `Player_ID` BETWEEN 1 and 3287\n",
    "\n",
    "<strong>NULL Constraints:</strong>\n",
    "- `Season_ID`           \n",
    "- `Team_ID`             \n",
    "- `Player_ID`           \n",
    "- `Team_ABV`            \n",
    "- `Team_Name`       \n",
    "- `Player_Number`       \n",
    "- `Player_Name`        \n",
    "- `Player_Postion`     \n",
    "- `Player_Height`       \n",
    "- `Player_Weight`    \n",
    "- `Birth_Date`          \n",
    "- `Player_Nationality`  \n",
    "- `Player_Experience`  \n",
    "- `Player_College_Name`\n",
    "\n",
    "<strong>Columns:</strong>\n",
    "- `Season_ID`            A UNIQUE INT that represents a given year\n",
    "- `Team_ID`              A UNIQUE INT that represents a team\n",
    "- `Player_ID`            A UNIQUE INT that represents a player\n",
    "- `Team_ABV`             A VARCHAR of length 3 that represents a abbreviation for a team's name\n",
    "- `Team_Name`            A VARCHAR of length 45 that represents a team's name \n",
    "- `Player_Number`        A VARCHAR of length 45 that represents a player's number\n",
    "- `Player_Name`          A VARCHAR of length 45 that represents a player's name\n",
    "- `Player_Postion`       A VARCHAR that represents a player's postion in basketball\n",
    "- `Player_Height`        A VARCHAR of length 4 that represents a player's height, formated like 6-10\n",
    "- `Player_Weight`        A INT that represents a player's weight \n",
    "- `Birth_Date`           A DATE that represents a player's date of birth\n",
    "- `Player_Nationality`   A VARCHAR of length 3 that represents a countries abbreviation\n",
    "- `Player_Experience`:   A VARCHAR of length 2 that represents the amount of years a player has been in the NBA\n",
    "- `Player_College_Name`: A VARCHAR of length 100 that represents a college's name"
   ]
  },
  {
   "cell_type": "markdown",
   "metadata": {},
   "source": [
    "### `Team_Stats`\n",
    "<strong>Primary Key:</strong>\n",
    "- `Season_ID`\n",
    "- `Team_ID`\n",
    "\n",
    "<strong>Foreign Key:</strong>\n",
    "- `Season_ID` REFERENCES Team(Season_ID)\n",
    "- `Team_ID` REFERENCES Team(Team_ID)\n",
    "\n",
    "<strong>Check Constraints:</strong> \n",
    "- `Season_ID` BETWEEN 1980 AND 2021\n",
    "- `Team_ID` BETWEEN 1 and 31\n",
    "\n",
    "<strong>NULL Constraints:</strong>\n",
    "- `Season_ID`           \n",
    "- `Team_ID`             \n",
    "- `Team_ABV`         \n",
    "- `Team_Name` \n",
    "\n",
    "<strong>Columns:</strong>\n",
    "- `Season_ID`            A UNIQUE INT that represents a given year\n",
    "- `Team_ID`              A UNIQUE INT that represents a team\n",
    "- `Team_ABV`             A VARCHAR of length 3 that represents a abbreviation for a team's name\n",
    "- `Team_Name`            A VARCHAR of length 45 that represents a team's name \n"
   ]
  },
  {
   "cell_type": "markdown",
   "metadata": {},
   "source": [
    "### `Team_Advanced`\n",
    "<strong>Primary Key:</strong>\n",
    "- `Season_ID`\n",
    "- `Team_ID`\n",
    "\n",
    "<strong>Foreign Key:</strong>\n",
    "- `Season_ID` REFERENCES Team_Stats(Season_ID)\n",
    "- `Team_ID` REFERENCES Team_Stats(Team_ID)\n",
    "\n",
    "<strong>Check Constraints:</strong> \n",
    "- `Season_ID` BETWEEN 1980 AND 2021\n",
    "- `Team_ID` BETWEEN 1 and 31\n",
    "\n",
    "<strong>NULL Constraints:</strong>\n",
    "- `Season_ID`           \t\t \n",
    "- `Team_ID`             \t\t\n",
    "- `Team_ABV`                    \n",
    "- `Team_Name`                   \n",
    "- `Team_Wins`                    \n",
    "- `Team_Loses`                    \n",
    "- `Win_Lose_Percentage`           \n",
    "- `Simple_Rating_System`          \n",
    "- `Pace`                          \n",
    "- `Relative_Pace`               \n",
    "- `Offensive_Rating`              \n",
    "- `Relative_Offensive_Rating`    \n",
    "- `Defensive_Rating`             \n",
    "- `Relative_Defensive_Rating`     \n",
    "\n",
    "<strong>Columns:</strong>\n",
    "- `Season_ID`            A UNIQUE INT that represents a given year\n",
    "- `Team_ID`              A UNIQUE INT that represents a team\n",
    "- `Team_ABV`             A VARCHAR of length 3 that represents a abbreviation for a team's name\n",
    "- `Team_Name`            A VARCHAR of length 45 that represents a team's name \n",
    "- `Team_Wins`            A INT that represents a team's wins for a given year      \n",
    "- `Team_Loses`           A INT that represents a team's loses for a given year\n",
    "- `Win_Lose_Percentage`  A FLOAT that represents a team's win/loses percentage    \n",
    "- `Simple_Rating_System` A FLOAT that represents a team rating determined by average point differential and strength of schedule\n",
    "- `Pace`                 A FLOAT that represents an estimates of possessions per 48 minutes        \n",
    "- `Relative_Pace`        A FLOAT that represents an estimate of a team's possessions per 48 minutes relative to the league\n",
    "- `Offensive_Rating`     A FLOAT that represents an estimate of points scored per 100 possessions by a team\n",
    "- `Relative_Offensive_Rating` A FLOAT that represents a team's offensive rating relative to the league\n",
    "- `Defensive_Rating`          A FLOAT that represents an estimate of points allowed per 100 possessions by a team\n",
    "- `Relative_Defensive_Rating` A FLOAT that represents a team's defensive rating relative to the league "
   ]
  },
  {
   "cell_type": "markdown",
   "metadata": {},
   "source": [
    "### `Team_Misc`\n",
    "<strong>Primary Key:</strong>\n",
    "- `Season_ID`\n",
    "- `Team_ID`\n",
    "\n",
    "<strong>Foreign Key:</strong>\n",
    "- `Season_ID` REFERENCES Team_Stats(Season_ID)\n",
    "- `Team_ID` REFERENCES Team_Stats(Team_ID)\n",
    "\n",
    "<strong>Check Constraints:</strong> \n",
    "- `Season_ID` BETWEEN 1980 AND 2021\n",
    "- `Team_ID` BETWEEN 1 and 31\n",
    "\n",
    "<strong>NULL Constraints:</strong>\n",
    "- `Season_ID`           \t\t  \n",
    "- `Team_ID`             \t\t \n",
    "- `Team_ABV`                   \n",
    "- `Team_Name`                     \n",
    "- `Team_Average_Age`              \n",
    "- `Team_Wins`                  \n",
    "- `Team_Loses`                \n",
    "- `Pythagorean_Wins`            \n",
    "- `Pythagorean_Loses`            \n",
    "- `Margin_Of_Victory`             \n",
    "- `Strength_Of_Schedule`         \n",
    "- `Simple_Rating_System`          \n",
    "- `Offensive_Rating`             \n",
    "- `Defensive_Rating`             \n",
    "- `Net_Rating`                    \n",
    "- `Pace`                          \n",
    "- `Free_Throw_Attempt_Rate`     \n",
    "- `Three_Point_Attempt_Rate`      \n",
    "- `True_Shooting_Percentage`      \n",
    "- `Offensive_Rebound_Percentage` \n",
    "- `Defensive_Rebound_Percentage`  \n",
    "- `Arena`                         \n",
    "- `Attend`                        \n",
    "- `Attend_Per_Game`              \n",
    "            \n",
    "<strong>Columns:</strong>\n",
    "- `Season_ID`            A UNIQUE INT that represents a given year\n",
    "- `Team_ID`              A UNIQUE INT that represents a team\n",
    "- `Team_ABV`             A VARCHAR of length 3 that represents a abbreviation for a team's name\n",
    "- `Team_Name`            A VARCHAR of length 45 that represents a team's name \n",
    "- `Team_Wins`            A INT that represents a team's wins for a given year\n",
    "- `Team_Average_Age`     A FLOAT is the average age of the player\n",
    "- `Pythagorean_Wins`     A FLOAT that represents the Pythagorean wins or expected wins based on points scored and allowed   \n",
    "- `Pythagorean_Loses`    A FLOAT that represents the Pythagorean loses or expected wins based on points scored and allowed\n",
    "- `Margin_Of_Victory`    A FLOAT that represents the difference between the number of points scored by the winning team and the number of points scored by the losing team         \n",
    "- `Strength_Of_Schedule` A FLOAT that represents is the Strength of Schedule, a rating of how hard a schedule is      \n",
    "- `Simple_Rating_System` A FLOAT that represents the team rating that takes into account average point differential and strength of schedule         \n",
    "- `Offensive_Rating`     A FLOAT that represents an estimate of points scored per 100 possessions by a team            \n",
    "- `Defensive_Rating`     A FLOAT that represents an estimate of points allowed per 100 possessions by a team      \n",
    "- `Net_Rating`           A FLOAT that represents an estimate of points differential per 100 possessions             \n",
    "- `Pace`                 A FLOAT that represents an estimate of possessions per 48 minutes         \n",
    "- `Free_Throw_Attempt_Rate`  A FLOAT that represents the number of FT Attempts per FG Attempt    \n",
    "- `Three_Point_Attempt_Rate` A FLOAT that represents the number of percentage of FG Attempts from 3-Point Range\n",
    "- `True_Shooting_Percentage` A FLOAT that represents is the measurement of shooting efficiency\n",
    "- `Offensive_Rebound_Percentage` A FLOAT that represents is an estimated percentage of available offensive rebounds a player takes when in game\n",
    "- `Defensive_Rebound_Percentage` A FLOAT that represents is an estimated percentage of available defensive rebounds a player takes when in game   \n",
    "- `Arena` A VARCHAR of length 45 that represents the Area name for the team                       \n",
    "- `Attend` A INT that represents the total amount of people that attend                    \n",
    "- `Attend_Per_Game` A INT that represents the amount of people per game"
   ]
  },
  {
   "cell_type": "markdown",
   "metadata": {},
   "source": [
    "### `Team_Per_Game`\n",
    "<strong>Primary Key:</strong>\n",
    "- `Season_ID`\n",
    "- `Team_ID`\n",
    "\n",
    "<strong>Foreign Key:</strong>\n",
    "- `Season_ID` REFERENCES Team_Stats(Season_ID)\n",
    "- `Team_ID` REFERENCES Team_Stats(Team_ID)\n",
    "\n",
    "<strong>Check Constraints:</strong> \n",
    "- `Season_ID` BETWEEN 1980 AND 2021\n",
    "- `Team_ID` BETWEEN 1 and 31\n",
    "\n",
    "<strong>NULL Constraints:</strong>\n",
    "- `Season_ID`           \t\t  \n",
    "- `Team_ID`             \t\t \n",
    "- `Team_ABV`                   \n",
    "- `Team_Name`  \n",
    "- `Games_Played`       \t            \n",
    "- `Minutes_Played`         \n",
    "- `Field_Goals_Made`               \n",
    "- `Field_Goals_Attempted`         \n",
    "- `Field_Goals_Percentage`         \n",
    "- `Three_Points_Made`              \n",
    "- `Three_Points_Attempted`          \n",
    "- `Three_Points_Percentage`        \n",
    "- `Two_Points_Made`                  \n",
    "- `Two_Points_Attempted`            \n",
    "- `Two_Points_Percentage`          \n",
    "- `Free_Throws_Made`                \n",
    "- `Free_Throws_Attempted`           \n",
    "- `Free_Throws_Percentage`          \n",
    "- `Offensive_Rebound`               \n",
    "- `Defensive_Rebound`               \n",
    "- `True_Rebounds`                   \n",
    "- `Assists`                         \n",
    "- `Steals`                          \n",
    "- `Blocks`                       \n",
    "- `Turn_Over`                       \n",
    "- `Personal_Foul`                \n",
    "- `Points`                       \n",
    "- `Opponent` \n",
    "\n",
    "<strong>Columns:</strong>\n",
    "- `Season_ID`            A UNIQUE INT that represents a given year\n",
    "- `Team_ID`              A UNIQUE INT that represents a team\n",
    "- `Team_ABV`             A VARCHAR of length 3 that represents a abbreviation for a team's name\n",
    "- `Team_Name`            A VARCHAR of length 45 that represents a team's name \n",
    "- `Games_Played`       \t A INT is the amount of games the player played          \n",
    "- `Minutes_Played`       A INT is the amount of minutes the player played  \n",
    "- `Field_Goals_Made`        A FLOAT that represents is the amount Field Goals made      \n",
    "- `Field_Goals_Attempted`   A FLOAT that represents is the amount of Field Goals Attempted      \n",
    "- `Field_Goals_Percentage`  A FLOAT that represents is the percentage of Field Goals Made / Field Goals Attempted       \n",
    "- `Three_Points_Made`       A FLOAT that represents is the amount of 3 Point Shots Made      \n",
    "- `Three_Points_Attempted`  A FLOAT that represents is the amount of 3 Point Shots Attempted       \n",
    "- `Three_Points_Percentage` A FLOAT that represents is the percentage of 3 Points Made / 3 Point Shot Attempted       \n",
    "- `Two_Points_Made`        A FLOAT that represents is the amount of 2 Point Made          \n",
    "- `Two_Points_Attempted`   A FLOAT that represents is the amount of 2 Points Attempted         \n",
    "- `Two_Points_Percentage`  A FLOAT that represents is the percentage of 2 Point Made / 2 Points Attemped        \n",
    "- `Free_Throws_Made`       A FLOAT that represents is the amount of Free Throws Made        \n",
    "- `Free_Throws_Attempted`  A FLOAT that represents is the amount of Free Throws Attempted         \n",
    "- `Free_Throws_Percentage` A FLOAT that represents is the percentage of Free Throws Made / Free Throws Attempted        \n",
    "- `Offensive_Rebound` A FLOAT that represents is the amount of Offensive Rebound             \n",
    "- `Defensive_Rebound` A FLOAT that represents is the amount of Defensive Rebound               \n",
    "- `True_Rebounds` A FLOAT that represents is the amount of Rebound                   \n",
    "- `Assists`   A FLOAT that represents is the amount of Assist                     \n",
    "- `Steals`    A FLOAT that represents is the amount of Steals                      \n",
    "- `Blocks`    A FLOAT that represents is the amount of Blocks               \n",
    "- `Turn_Over` A FLOAT that represents the amount of turn overs                       \n",
    "- `Personal_Foul` A FLOAT that represents the amount of Personal Fouls  \n",
    "- `Points`   A FLOAT that represents the amount of Points Scored                \n",
    "- `Opponent` A BOOLEAN that represents if it opponent averages or the team's averages"
   ]
  },
  {
   "cell_type": "markdown",
   "metadata": {},
   "source": [
    "### `Team_Per_Poss`\n",
    "<strong>Primary Key:</strong>\n",
    "- `Season_ID`\n",
    "- `Team_ID`\n",
    "\n",
    "<strong>Foreign Key:</strong>\n",
    "- `Season_ID` REFERENCES Team_Stats(Season_ID)\n",
    "- `Team_ID` REFERENCES Team_Stats(Team_ID)\n",
    "\n",
    "<strong>Check Constraints:</strong> \n",
    "- `Season_ID` BETWEEN 1980 AND 2021\n",
    "- `Team_ID` BETWEEN 1 and 31\n",
    "\n",
    "<strong>NULL Constraints:</strong>\n",
    "- `Season_ID`           \t\t  \n",
    "- `Team_ID`             \t\t \n",
    "- `Team_ABV`                   \n",
    "- `Team_Name`  \n",
    "- `Games_Played`       \t            \n",
    "- `Minutes_Played`         \n",
    "- `Field_Goals_Made`               \n",
    "- `Field_Goals_Attempted`         \n",
    "- `Field_Goals_Percentage`         \n",
    "- `Three_Points_Made`              \n",
    "- `Three_Points_Attempted`          \n",
    "- `Three_Points_Percentage`        \n",
    "- `Two_Points_Made`                  \n",
    "- `Two_Points_Attempted`            \n",
    "- `Two_Points_Percentage`          \n",
    "- `Free_Throws_Made`                \n",
    "- `Free_Throws_Attempted`           \n",
    "- `Free_Throws_Percentage`          \n",
    "- `Offensive_Rebound`               \n",
    "- `Defensive_Rebound`               \n",
    "- `True_Rebounds`                   \n",
    "- `Assists`                         \n",
    "- `Steals`                          \n",
    "- `Blocks`                       \n",
    "- `Turn_Over`                       \n",
    "- `Personal_Foul`                \n",
    "- `Points`                       \n",
    "- `Opponent` \n",
    "\n",
    "<strong>Columns:</strong>\n",
    "- `Season_ID`            A UNIQUE INT that represents a given year\n",
    "- `Team_ID`              A UNIQUE INT that represents a team\n",
    "- `Team_ABV`             A VARCHAR of length 3 that represents a abbreviation for a team's name\n",
    "- `Team_Name`            A VARCHAR of length 45 that represents a team's name \n",
    "- `Games_Played`       \t A INT is the amount of games the player played          \n",
    "- `Minutes_Played`       A INT is the amount of minutes the player played  \n",
    "- `Field_Goals_Made`        A FLOAT that represents is the amount Field Goals made      \n",
    "- `Field_Goals_Attempted`   A FLOAT that represents is the amount of Field Goals Attempted      \n",
    "- `Field_Goals_Percentage`  A FLOAT that represents is the percentage of Field Goals Made / Field Goals Attempted       \n",
    "- `Three_Points_Made`       A FLOAT that represents is the amount of 3 Point Shots Made      \n",
    "- `Three_Points_Attempted`  A FLOAT that represents is the amount of 3 Point Shots Attempted       \n",
    "- `Three_Points_Percentage` A FLOAT that represents is the percentage of 3 Points Made / 3 Point Shot Attempted       \n",
    "- `Two_Points_Made`        A FLOAT that represents is the amount of 2 Point Made          \n",
    "- `Two_Points_Attempted`   A FLOAT that represents is the amount of 2 Points Attempted         \n",
    "- `Two_Points_Percentage`  A FLOAT that represents is the percentage of 2 Point Made / 2 Points Attemped        \n",
    "- `Free_Throws_Made`       A FLOAT that represents is the amount of Free Throws Made        \n",
    "- `Free_Throws_Attempted`  A FLOAT that represents is the amount of Free Throws Attempted         \n",
    "- `Free_Throws_Percentage` A FLOAT that represents is the percentage of Free Throws Made / Free Throws Attempted        \n",
    "- `Offensive_Rebound` A FLOAT that represents is the amount of Offensive Rebound             \n",
    "- `Defensive_Rebound` A FLOAT that represents is the amount of Defensive Rebound               \n",
    "- `True_Rebounds` A FLOAT that represents is the amount of Rebound                   \n",
    "- `Assists`   A FLOAT that represents is the amount of Assist                     \n",
    "- `Steals`    A FLOAT that represents is the amount of Steals                      \n",
    "- `Blocks`    A FLOAT that represents is the amount of Blocks               \n",
    "- `Turn_Over` A FLOAT that represents the amount of turn overs                       \n",
    "- `Personal_Foul` A FLOAT that represents the amount of Personal Fouls  \n",
    "- `Points`   A FLOAT that represents the amount of Points Scored                \n",
    "- `Opponent` A BOOLEAN that represents if it opponent averages or the team's averages"
   ]
  },
  {
   "cell_type": "markdown",
   "metadata": {},
   "source": [
    "### `Team_Totals`\n",
    "<strong>Primary Key:</strong>\n",
    "- `Season_ID`\n",
    "- `Team_ID`\n",
    "\n",
    "<strong>Foreign Key:</strong>\n",
    "- `Season_ID` REFERENCES Team_Stats(Season_ID)\n",
    "- `Team_ID` REFERENCES Team_Stats(Team_ID)\n",
    "\n",
    "<strong>Check Constraints:</strong> \n",
    "- `Season_ID` BETWEEN 1980 AND 2021\n",
    "- `Team_ID` BETWEEN 1 and 31\n",
    "\n",
    "<strong>NULL Constraints:</strong>\n",
    "- `Season_ID`           \t\t  \n",
    "- `Team_ID`             \t\t \n",
    "- `Team_ABV`                   \n",
    "- `Team_Name`  \n",
    "- `Games_Played`       \t            \n",
    "- `Minutes_Played`         \n",
    "- `Field_Goals_Made`               \n",
    "- `Field_Goals_Attempted`         \n",
    "- `Field_Goals_Percentage`         \n",
    "- `Three_Points_Made`              \n",
    "- `Three_Points_Attempted`          \n",
    "- `Three_Points_Percentage`        \n",
    "- `Two_Points_Made`                  \n",
    "- `Two_Points_Attempted`            \n",
    "- `Two_Points_Percentage`          \n",
    "- `Free_Throws_Made`                \n",
    "- `Free_Throws_Attempted`           \n",
    "- `Free_Throws_Percentage`          \n",
    "- `Offensive_Rebound`               \n",
    "- `Defensive_Rebound`               \n",
    "- `True_Rebounds`                   \n",
    "- `Assists`                         \n",
    "- `Steals`                          \n",
    "- `Blocks`                       \n",
    "- `Turn_Over`                       \n",
    "- `Personal_Foul`                \n",
    "- `Points`                       \n",
    "- `Opponent` \n",
    "\n",
    "<strong>Columns:</strong>\n",
    "- `Season_ID`            A UNIQUE INT that represents a given year\n",
    "- `Team_ID`              A UNIQUE INT that represents a team\n",
    "- `Team_ABV`             A VARCHAR of length 3 that represents a abbreviation for a team's name\n",
    "- `Team_Name`            A VARCHAR of length 45 that represents a team's name \n",
    "- `Games_Played`       \t A INT is the amount of games the player played          \n",
    "- `Minutes_Played`       A INT is the amount of minutes the player played  \n",
    "- `Field_Goals_Made`        A FLOAT that represents is the amount Field Goals made      \n",
    "- `Field_Goals_Attempted`   A FLOAT that represents is the amount of Field Goals Attempted      \n",
    "- `Field_Goals_Percentage`  A FLOAT that represents is the percentage of Field Goals Made / Field Goals Attempted       \n",
    "- `Three_Points_Made`       A FLOAT that represents is the amount of 3 Point Shots Made      \n",
    "- `Three_Points_Attempted`  A FLOAT that represents is the amount of 3 Point Shots Attempted       \n",
    "- `Three_Points_Percentage` A FLOAT that represents is the percentage of 3 Points Made / 3 Point Shot Attempted       \n",
    "- `Two_Points_Made`        A FLOAT that represents is the amount of 2 Point Made          \n",
    "- `Two_Points_Attempted`   A FLOAT that represents is the amount of 2 Points Attempted         \n",
    "- `Two_Points_Percentage`  A FLOAT that represents is the percentage of 2 Point Made / 2 Points Attemped        \n",
    "- `Free_Throws_Made`       A FLOAT that represents is the amount of Free Throws Made        \n",
    "- `Free_Throws_Attempted`  A FLOAT that represents is the amount of Free Throws Attempted         \n",
    "- `Free_Throws_Percentage` A FLOAT that represents is the percentage of Free Throws Made / Free Throws Attempted        \n",
    "- `Offensive_Rebound` A FLOAT that represents is the amount of Offensive Rebound             \n",
    "- `Defensive_Rebound` A FLOAT that represents is the amount of Defensive Rebound               \n",
    "- `True_Rebounds` A FLOAT that represents is the amount of Rebound                   \n",
    "- `Assists`   A FLOAT that represents is the amount of Assist                     \n",
    "- `Steals`    A FLOAT that represents is the amount of Steals                      \n",
    "- `Blocks`    A FLOAT that represents is the amount of Blocks               \n",
    "- `Turn_Over` A FLOAT that represents the amount of turn overs                       \n",
    "- `Personal_Foul` A FLOAT that represents the amount of Personal Fouls  \n",
    "- `Points`   A FLOAT that represents the amount of Points Scored                \n",
    "- `Opponent` A BOOLEAN that represents if it opponent averages or the team's averages"
   ]
  },
  {
   "cell_type": "markdown",
   "metadata": {},
   "source": [
    "### `Player_Stats`\n",
    "<strong>Primary Key:</strong>\n",
    "- `Season_ID`\n",
    "- `Team_ID`\n",
    "- `Player_ID`\n",
    "\n",
    "<strong>Foreign Key:</strong>\n",
    "- `Season_ID` REFERENCES Team(Season_ID)\n",
    "- `Team_ID` REFERENCES Team(Team_ID)\n",
    "- `Player_ID` REFERENCES Player(Player_ID)\n",
    "\n",
    "<strong>Check Constraints:</strong> \n",
    "- `Season_ID` BETWEEN 1980 AND 2021\n",
    "- `Team_ID` BETWEEN 1 and 31\n",
    "- `Player_ID` BETWEEN 1 and 3287\n",
    "\n",
    "<strong>NULL Constraints:</strong>\n",
    "- `Season_ID`           \n",
    "- `Team_ID`             \n",
    "- `Player_ID`           \n",
    "- `Team_ABV`            \n",
    "- `Team_Name`\n",
    "- `Birth_Date`\n",
    "- `Player_Name`\n",
    "\n",
    "<strong>Columns:</strong>\n",
    "- `Season_ID`            A UNIQUE INT that represents a given year\n",
    "- `Team_ID`              A UNIQUE INT that represents a team\n",
    "- `Player_ID`            A UNIQUE INT that represents a player\n",
    "- `Team_ABV`             A VARCHAR of length 3 that represents a abbreviation for a team's name\n",
    "- `Team_Name`            A VARCHAR of length 45 that represents a team's name \n",
    "- `Birth_Date`           A DATE that represents a player's date of birth\n",
    "- `Player_Name`          A VARCHAR of length 45 that represents a player's name"
   ]
  },
  {
   "cell_type": "markdown",
   "metadata": {},
   "source": [
    "### `Player_Advanced`\n",
    "<strong>Primary Key:</strong>\n",
    "- `Season_ID`\n",
    "- `Team_ID`\n",
    "- `Player_ID`\n",
    "- `Stat_Form` \n",
    "\n",
    "<strong>Foreign Key:</strong>\n",
    "- `Season_ID` REFERENCES Player_Stats(Season_ID)\n",
    "- `Team_ID` REFERENCES Player_Stats(Team_ID)\n",
    "- `Player_ID` REFERENCES Player_Stats(Player_ID)\n",
    "\n",
    "<strong>Check Constraints:</strong> \n",
    "- `Season_ID` BETWEEN 1980 AND 2021\n",
    "- `Team_ID` BETWEEN 1 and 31\n",
    "- `Player_ID` BETWEEN 1 and 3287\n",
    "\n",
    "<strong>NULL Constraints:</strong>\n",
    "- `Season_ID`           \n",
    "- `Team_ID`             \n",
    "- `Player_ID`           \n",
    "- `Team_ABV`            \n",
    "- `Team_Name`\n",
    "- `Birth_Date`\n",
    "- `Player_Name`\n",
    "- `Player_Age`                  \n",
    "- `League`                       \n",
    "- `Player_Postion`               \n",
    "- `Games_Played`       \t         \n",
    "- `Minutes_Played`            \n",
    "- `Per_Minute_Production`       \n",
    "- `True_Shooting_Percent`       \n",
    "- `Three_Points_Attempted`     \n",
    "- `Free_Throws_Per_Field_Goals`  \n",
    "- `Offensive_Rebound_Percentage` \n",
    "- `Defensive_Rebound_Percentage` \n",
    "- `True_Rebounds_Percentage`     \n",
    "- `Assit_Percentage`             \n",
    "- `Steal_Percentage`            \n",
    "- `Block_Percentage`              \n",
    "- `Turn_Over_Percentage`          \n",
    "- `Usage_Percentage`              \n",
    "- `Offensive_Win_Shares`          \n",
    "- `Defensive_Win_Shares`           \n",
    "- `Win_Shares`                    \n",
    "- `Win_Shares_Fourty_Eight`       \n",
    "- `Offensive_Box_Score`           \n",
    "- `Defensive_Box_Score`           \n",
    "- `Box_Plus_Minus`                \n",
    "- `Value_Over_Replacement`        \n",
    "- `Stat_Form`                    \n",
    "\n",
    "<strong>Columns:</strong>\n",
    "- `Season_ID`            A UNIQUE INT that represents a given year\n",
    "- `Team_ID`              A UNIQUE INT that represents a team\n",
    "- `Player_ID`            A UNIQUE INT that represents a player\n",
    "- `Team_ABV`             A VARCHAR of length 3 that represents a abbreviation for a team's name\n",
    "- `Team_Name`            A VARCHAR of length 45 that represents a team's name \n",
    "- `Birth_Date`           A DATE that represents a player's date of birth\n",
    "- `Player_Name`          A VARCHAR of length 45 that represents a player's name\n",
    "- `Player_Age`           A INT that represents the age of the player      \n",
    "- `League`               A VARCHAR of length 3 that represent the league the player plays for(should be NBA)\n",
    "- `Player_Postion`       A VARCHAR of length 20 that represent the postions the player plays\n",
    "- `Games_Played`       \t A INT that represents the amount of games the player played for a season\n",
    "- `Minutes_Played`       A INT that represents the amount of minutes the player played for a season\n",
    "- `Per_Minute_Production`  A FLOAT that represents is the measurment of a player's per-minute production      \n",
    "- `True_Shooting_Percent`  A FLOAT that represents is the measurement of shooting efficiency     \n",
    "- `Three_Points_Attempted` A FLOAT that represents is the percentage of FG Attempts from the 3 Point line      \n",
    "- `Free_Throws_Per_Field_Goals`  A FLOAT that represents is the number of FT Attempts per Field Goal Attempts  \n",
    "- `Offensive_Rebound_Percentage` A FLOAT that represents is an estimated percentage of available offensive rebounds a player takes when in game  \n",
    "- `Defensive_Rebound_Percentage` A FLOAT that represents is an estimated percentage of available defensive rebounds a player takes when in game \n",
    "- `True_Rebounds_Percentage` A FLOAT that represents is an estimated percentage of available  rebounds a player takes when in game\n",
    "- `Assit_Percentage` A FLOAT that represents is an estimated percentage of teammate Field Goals a palyer assited while in game \n",
    "- `Steal_Percentage` A FLOAT that represents is an estimate percentage of opponent possessions that end with a steal by player while in game             \n",
    "- `Block_Percentage` A FLOAT that represents is an estimate of the percentage of opponent Field Goal Attempts blocked by player while in game              \n",
    "- `Turn_Over_Percentage` A FLOAT that represents is an estimate of turnovers commited per 100 plays          \n",
    "- `Usage_Percentage`     A FLOAT that represents is an estimate of percentage of team plays used by a player while in game     \n",
    "- `Offensive_Win_Shares` A FLOAT that represents is an estimate of the number of wins contributed by a player due to his offense         \n",
    "- `Defensive_Win_Shares` A FLOAT that represents is an estimate of the number of wins contributed by a player due to his defense            \n",
    "- `Win_Shares`           A FLOAT that represents is an estimate of the number of wins contributed by a player          \n",
    "- `Win_Shares_Fourty_Eight` A FLOAT that represents is an estimate of the number of wins contributed by a player per 48 minute \n",
    "- `Offensive_Box_Score`     A FLOAT that represents is a box score estimate of the offensive points per 100 possessions a player contributed      \n",
    "- `Defensive_Box_Score`     A FLOAT that represents is a box score estimate of the defensive points per 100 possessions a player contributed      \n",
    "- `Box_Plus_Minus`          A FLOAT that represents is a box score estimate of the points per 100 possessions a player contributed      \n",
    "- `Value_Over_Replacement`  A FLOAT that represents is a box score estimate of the points per 100 Team possessions that a play contributed       \n",
    "- `Stat_Form`               A BOOLEAN that represents if the format is a playoffs or regular "
   ]
  },
  {
   "cell_type": "markdown",
   "metadata": {},
   "source": [
    "### `Player_Per_Game`\n",
    "<strong>Primary Key:</strong>\n",
    "- `Season_ID`\n",
    "- `Team_ID`\n",
    "- `Player_ID`\n",
    "- `Stat_Form` \n",
    "\n",
    "<strong>Foreign Key:</strong>\n",
    "- `Season_ID` REFERENCES Player_Stats(Season_ID)\n",
    "- `Team_ID` REFERENCES Player_Stats(Player_ID)\n",
    "- `Player_ID` REFERENCES Player_Stats(Player_ID)\n",
    "\n",
    "<strong>Check Constraints:</strong> \n",
    "- `Season_ID` BETWEEN 1980 AND 2021\n",
    "- `Team_ID` BETWEEN 1 and 31\n",
    "- `Player_ID` BETWEEN 1 and 3287\n",
    "\n",
    "<strong>NULL Constraints:</strong>\n",
    "- `Season_ID`           \n",
    "- `Team_ID`             \n",
    "- `Player_ID`           \n",
    "- `Team_ABV`            \n",
    "- `Team_Name`\n",
    "- `Birth_Date`\n",
    "- `Player_Name`\n",
    "- `Player_Age`                  \n",
    "- `League`                       \n",
    "- `Player_Postion`               \n",
    "- `Games_Played`       \t         \n",
    "- `Games_Started`\n",
    "- `Minutes_Played`   \n",
    "- `Field_Goals_Made`                \n",
    "- `Field_Goals_Attempted`         \n",
    "- `Field_Goals_Percentage`          \n",
    "- `Three_Points_Made`             \n",
    "- `Three_Points_Attempted`         \n",
    "- `Three_Points_Percentage`        \n",
    "- `Two_Points_Made`                  \n",
    "- `Two_Points_Attempted`          \n",
    "- `Two_Points_Percentage`           \n",
    "- `Effective_Field_Goal_Percentage`\n",
    "- `Free_Throws_Made`                \n",
    "- `Free_Throws_Attempted`          \n",
    "- `Free_Throws_Percentage`        \n",
    "- `Offensive_Rebounds`            \n",
    "- `Defensive_Rebounds`              \n",
    "- `True_Rebounds`                  \n",
    "- `Assists`                       \n",
    "- `Steals`                         \n",
    "- `Blocks`                        \n",
    "- `Turn_Over`                    \n",
    "- `Personal_Fouls`                 \n",
    "- `Points`                         \n",
    "- `Stat_Form`  \n",
    "\n",
    "<strong>Columns:</strong>\n",
    "- `Season_ID`            A UNIQUE INT that represents a given year\n",
    "- `Team_ID`              A UNIQUE INT that represents a team\n",
    "- `Player_ID`            A UNIQUE INT that represents a player\n",
    "- `Team_ABV`             A VARCHAR of length 3 that represents a abbreviation for a team's name\n",
    "- `Team_Name`            A VARCHAR of length 45 that represents a team's name \n",
    "- `Birth_Date`           A DATE that represents a player's date of birth\n",
    "- `Player_Name`          A VARCHAR of length 45 that represents a player's name\n",
    "- `Player_Age`           A INT that represents the age of the player      \n",
    "- `League`               A VARCHAR of length 3 that represent the league the player plays for(should be NBA)\n",
    "- `Player_Postion`       A VARCHAR of length 20 that represent the postions the player plays\n",
    "- `Games_Played`       \t A INT that represents the amount of games the player played for a season\n",
    "- `Games_Started`        A INT that represents the amount of games the player started\n",
    "- `Minutes_Played`       A INT that represents the amount of minutes the player played for a season\n",
    "- `Field_Goals_Made`        A FLOAT that represents the amount Field Goals made          \n",
    "- `Field_Goals_Attempted`   A FLOAT that represents the amount of Field Goals Attempted      \n",
    "- `Field_Goals_Percentage`  A FLOAT that represents the percentage of Field Goals Made / Field Goals Attempted         \n",
    "- `Three_Points_Made`       A FLOAT that represents the amount of 3 Point Shots Made      \n",
    "- `Three_Points_Attempted`  A FLOAT that represents the amount of 3 Point Shots Attempted       \n",
    "- `Three_Points_Percentage` A FLOAT that represents the percentage of 3 Points Made / 3 Point Shot Attempted       \n",
    "- `Two_Points_Made`         A FLOAT that represents the amount of 2 Point Made        \n",
    "- `Two_Points_Attempted`    A FLOAT that represents is the amount of 2 Points Attempted      \n",
    "- `Two_Points_Percentage`   A FLOAT that represents is the percentage of 2 Point Made / 2 Points Attemped       \n",
    "- `Effective_Field_Goal_Percentage` A FLOAT that represents is the stat that adjusts field goal percentage to account for the fact that three-point field goals count for three points while field goals only count for two points\n",
    "- `Free_Throws_Made`                A FLOAT that represents is the amount of Free Throws Made\n",
    "- `Free_Throws_Attempted`           A FLOAT that represents is the amount of Free Throws Attempted\n",
    "- `Free_Throws_Percentage`          A FLOAT that represents is the percentage of Free Throws Made / Free Throws Attempted\n",
    "- `Offensive_Rebounds`              A FLOAT that represents is the amount of Offensive Rebound\n",
    "- `Defensive_Rebounds`              A FLOAT that represents is the amount of Defensive Rebound \n",
    "- `True_Rebounds`                   A FLOAT that represents is the amount of Rebound\n",
    "- `Assists`                         A FLOAT that represents is the amount of Assist\n",
    "- `Steals`                          A FLOAT that represents is the amount of Steals\n",
    "- `Blocks`                          A FLOAT that represents is the amount of Blocks\n",
    "- `Turn_Over`                       A FLOAT that represents is the amount of Turn Overs\n",
    "- `Personal_Fouls`                  A FLOAT that represents is the amount of Personal Fouls\n",
    "- `Points`                          A FLOAT that represents is the amount of Points Scored\n",
    "- `Stat_Form`                       A BOOLEAN that represents if the format is playoffs or regular season"
   ]
  },
  {
   "cell_type": "markdown",
   "metadata": {},
   "source": [
    "### `Player_Per_Minute`\n",
    "<strong>Primary Key:</strong>\n",
    "- `Season_ID`\n",
    "- `Team_ID`\n",
    "- `Player_ID`\n",
    "- `Stat_Form`\n",
    "\n",
    "<strong>Foreign Key:</strong>\n",
    "- `Season_ID` REFERENCES Player_Stats(Season_ID)\n",
    "- `Team_ID` REFERENCES Player_Stats(Player_ID)\n",
    "- `Player_ID` REFERENCES Player_Stats(Player_ID)\n",
    "\n",
    "<strong>Check Constraints:</strong> \n",
    "- `Season_ID` BETWEEN 1980 AND 2021\n",
    "- `Team_ID` BETWEEN 1 and 31\n",
    "- `Player_ID` BETWEEN 1 and 3287\n",
    "\n",
    "<strong>NULL Constraints:</strong>\n",
    "- `Season_ID`           \n",
    "- `Team_ID`             \n",
    "- `Player_ID`           \n",
    "- `Team_ABV`            \n",
    "- `Team_Name`\n",
    "- `Birth_Date`\n",
    "- `Player_Name`\n",
    "- `Player_Age`                  \n",
    "- `League`                       \n",
    "- `Player_Postion`               \n",
    "- `Games_Played`       \t         \n",
    "- `Games_Started`\n",
    "- `Minutes_Played`   \n",
    "- `Field_Goals_Made`                \n",
    "- `Field_Goals_Attempted`         \n",
    "- `Field_Goals_Percentage`          \n",
    "- `Three_Points_Made`             \n",
    "- `Three_Points_Attempted`         \n",
    "- `Three_Points_Percentage`        \n",
    "- `Two_Points_Made`                  \n",
    "- `Two_Points_Attempted`          \n",
    "- `Two_Points_Percentage`           \n",
    "- `Free_Throws_Made`                \n",
    "- `Free_Throws_Attempted`          \n",
    "- `Free_Throws_Percentage`        \n",
    "- `Offensive_Rebounds`            \n",
    "- `Defensive_Rebounds`              \n",
    "- `True_Rebounds`                  \n",
    "- `Assists`                       \n",
    "- `Steals`                         \n",
    "- `Blocks`                        \n",
    "- `Turn_Over`                    \n",
    "- `Personal_Fouls`                 \n",
    "- `Points`                         \n",
    "- `Stat_Form`  \n",
    "\n",
    "<strong>Columns:</strong>\n",
    "- `Season_ID`            A UNIQUE INT that represents a given year\n",
    "- `Team_ID`              A UNIQUE INT that represents a team\n",
    "- `Player_ID`            A UNIQUE INT that represents a player\n",
    "- `Team_ABV`             A VARCHAR of length 3 that represents a abbreviation for a team's name\n",
    "- `Team_Name`            A VARCHAR of length 45 that represents a team's name \n",
    "- `Birth_Date`           A DATE that represents a player's date of birth\n",
    "- `Player_Name`          A VARCHAR of length 45 that represents a player's name\n",
    "- `Player_Age`           A INT that represents the age of the player      \n",
    "- `League`               A VARCHAR of length 3 that represent the league the player plays for(should be NBA)\n",
    "- `Player_Postion`       A VARCHAR of length 20 that represent the postions the player plays\n",
    "- `Games_Played`       \t A INT that represents the amount of games the player played for a season\n",
    "- `Games_Started`        A INT that represents the amount of games the player started\n",
    "- `Minutes_Played`       A INT that represents the amount of minutes the player played for a season\n",
    "- `Field_Goals_Made`        A FLOAT that represents the amount Field Goals made          \n",
    "- `Field_Goals_Attempted`   A FLOAT that represents the amount of Field Goals Attempted      \n",
    "- `Field_Goals_Percentage`  A FLOAT that represents the percentage of Field Goals Made / Field Goals Attempted         \n",
    "- `Three_Points_Made`       A FLOAT that represents the amount of 3 Point Shots Made      \n",
    "- `Three_Points_Attempted`  A FLOAT that represents the amount of 3 Point Shots Attempted       \n",
    "- `Three_Points_Percentage` A FLOAT that represents the percentage of 3 Points Made / 3 Point Shot Attempted       \n",
    "- `Two_Points_Made`         A FLOAT that represents the amount of 2 Point Made        \n",
    "- `Two_Points_Attempted`    A FLOAT that represents is the amount of 2 Points Attempted      \n",
    "- `Two_Points_Percentage`   A FLOAT that represents is the percentage of 2 Point Made / 2 Points Attemped       \n",
    "- `Free_Throws_Made`                A FLOAT that represents is the amount of Free Throws Made\n",
    "- `Free_Throws_Attempted`           A FLOAT that represents is the amount of Free Throws Attempted\n",
    "- `Free_Throws_Percentage`          A FLOAT that represents is the percentage of Free Throws Made / Free Throws Attempted\n",
    "- `Offensive_Rebounds`              A FLOAT that represents is the amount of Offensive Rebound\n",
    "- `Defensive_Rebounds`              A FLOAT that represents is the amount of Defensive Rebound \n",
    "- `True_Rebounds`                   A FLOAT that represents is the amount of Rebound\n",
    "- `Assists`                         A FLOAT that represents is the amount of Assist\n",
    "- `Steals`                          A FLOAT that represents is the amount of Steals\n",
    "- `Blocks`                          A FLOAT that represents is the amount of Blocks\n",
    "- `Turn_Over`                       A FLOAT that represents is the amount of Turn Overs\n",
    "- `Personal_Fouls`                  A FLOAT that represents is the amount of Personal Fouls\n",
    "- `Points`                          A FLOAT that represents is the amount of Points Scored\n",
    "- `Stat_Form`                       A BOOLEAN that represents if the format is playoffs or regular season"
   ]
  },
  {
   "cell_type": "markdown",
   "metadata": {},
   "source": [
    "### `Player_Per_Poss`\n",
    "<strong>Primary Key:</strong>\n",
    "- `Season_ID`\n",
    "- `Team_ID`\n",
    "- `Player_ID`\n",
    "- `Stat_Form` \n",
    "\n",
    "<strong>Foreign Key:</strong>\n",
    "- `Season_ID` REFERENCES Player_Stats(Season_ID)\n",
    "- `Team_ID` REFERENCES Player_Stats(Player_ID)\n",
    "- `Player_ID` REFERENCES Player_Stats(Player_ID)\n",
    "\n",
    "<strong>Check Constraints:</strong> \n",
    "- `Season_ID` BETWEEN 1980 AND 2021\n",
    "- `Team_ID` BETWEEN 1 and 31\n",
    "- `Player_ID` BETWEEN 1 and 3287\n",
    "\n",
    "<strong>NULL Constraints:</strong>\n",
    "- `Season_ID`           \n",
    "- `Team_ID`             \n",
    "- `Player_ID`           \n",
    "- `Team_ABV`            \n",
    "- `Team_Name`\n",
    "- `Birth_Date`\n",
    "- `Player_Name`\n",
    "- `Player_Age`                  \n",
    "- `League`                       \n",
    "- `Player_Postion`               \n",
    "- `Games_Played`       \t         \n",
    "- `Games_Started`\n",
    "- `Minutes_Played`   \n",
    "- `Field_Goals_Made`                \n",
    "- `Field_Goals_Attempted`         \n",
    "- `Field_Goals_Percentage`          \n",
    "- `Three_Points_Made`             \n",
    "- `Three_Points_Attempted`         \n",
    "- `Three_Points_Percentage`        \n",
    "- `Two_Points_Made`                  \n",
    "- `Two_Points_Attempted`          \n",
    "- `Two_Points_Percentage`           \n",
    "- `Free_Throws_Made`                \n",
    "- `Free_Throws_Attempted`          \n",
    "- `Free_Throws_Percentage`        \n",
    "- `Offensive_Rebounds`            \n",
    "- `Defensive_Rebounds`              \n",
    "- `True_Rebounds`                  \n",
    "- `Assists`                       \n",
    "- `Steals`                         \n",
    "- `Blocks`                        \n",
    "- `Turn_Over`                    \n",
    "- `Personal_Fouls`                 \n",
    "- `Points`                         \n",
    "- `Stat_Form`  \n",
    "- `Drtg`\n",
    "- `Ortg`\n",
    "\n",
    "<strong>Columns:</strong>\n",
    "- `Season_ID`            A UNIQUE INT that represents a given year\n",
    "- `Team_ID`              A UNIQUE INT that represents a team\n",
    "- `Player_ID`            A UNIQUE INT that represents a player\n",
    "- `Team_ABV`             A VARCHAR of length 3 that represents a abbreviation for a team's name\n",
    "- `Team_Name`            A VARCHAR of length 45 that represents a team's name \n",
    "- `Birth_Date`           A DATE that represents a player's date of birth\n",
    "- `Player_Name`          A VARCHAR of length 45 that represents a player's name\n",
    "- `Player_Age`           A INT that represents the age of the player      \n",
    "- `League`               A VARCHAR of length 3 that represent the league the player plays for(should be NBA)\n",
    "- `Player_Postion`       A VARCHAR of length 20 that represent the postions the player plays\n",
    "- `Games_Played`       \t A INT that represents the amount of games the player played for a season\n",
    "- `Games_Started`        A INT that represents the amount of games the player started\n",
    "- `Minutes_Played`       A INT that represents the amount of minutes the player played for a season\n",
    "- `Field_Goals_Made`        A FLOAT that represents the amount Field Goals made          \n",
    "- `Field_Goals_Attempted`   A FLOAT that represents the amount of Field Goals Attempted      \n",
    "- `Field_Goals_Percentage`  A FLOAT that represents the percentage of Field Goals Made / Field Goals Attempted         \n",
    "- `Three_Points_Made`       A FLOAT that represents the amount of 3 Point Shots Made      \n",
    "- `Three_Points_Attempted`  A FLOAT that represents the amount of 3 Point Shots Attempted       \n",
    "- `Three_Points_Percentage` A FLOAT that represents the percentage of 3 Points Made / 3 Point Shot Attempted       \n",
    "- `Two_Points_Made`         A FLOAT that represents the amount of 2 Point Made        \n",
    "- `Two_Points_Attempted`    A FLOAT that represents is the amount of 2 Points Attempted      \n",
    "- `Two_Points_Percentage`   A FLOAT that represents is the percentage of 2 Point Made / 2 Points Attemped       \n",
    "- `Free_Throws_Made`                A FLOAT that represents is the amount of Free Throws Made\n",
    "- `Free_Throws_Attempted`           A FLOAT that represents is the amount of Free Throws Attempted\n",
    "- `Free_Throws_Percentage`          A FLOAT that represents is the percentage of Free Throws Made / Free Throws Attempted\n",
    "- `Offensive_Rebounds`              A FLOAT that represents is the amount of Offensive Rebound\n",
    "- `Defensive_Rebounds`              A FLOAT that represents is the amount of Defensive Rebound \n",
    "- `True_Rebounds`                   A FLOAT that represents is the amount of Rebound\n",
    "- `Assists`                         A FLOAT that represents is the amount of Assist\n",
    "- `Steals`                          A FLOAT that represents is the amount of Steals\n",
    "- `Blocks`                          A FLOAT that represents is the amount of Blocks\n",
    "- `Turn_Over`                       A FLOAT that represents is the amount of Turn Overs\n",
    "- `Personal_Fouls`                  A FLOAT that represents is the amount of Personal Fouls\n",
    "- `Points`                          A FLOAT that represents is the amount of Points Scored\n",
    "- `Stat_Form`                       A BOOLEAN that represents if the format is playoffs or regular season\n",
    "- `Drtg` A FLOAT that represents the amount of points allowed per 100 posessions\n",
    "- `Ortg` A FLOAT that represents the amount of points scored per 100 possessions"
   ]
  },
  {
   "cell_type": "markdown",
   "metadata": {},
   "source": [
    "### `Player_Totals`\n",
    "<strong>Primary Key:</strong>\n",
    "- `Season_ID`\n",
    "- `Team_ID`\n",
    "- `Player_ID`\n",
    "- `Stat_Form` \n",
    "\n",
    "<strong>Foreign Key:</strong>\n",
    "- `Season_ID` REFERENCES Player_Stats(Season_ID)\n",
    "- `Team_ID` REFERENCES Player_Stats(Player_ID)\n",
    "- `Player_ID` REFERENCES Player_Stats(Player_ID)\n",
    "\n",
    "<strong>Check Constraints:</strong> \n",
    "- `Season_ID` BETWEEN 1980 AND 2021\n",
    "- `Team_ID` BETWEEN 1 and 31\n",
    "- `Player_ID` BETWEEN 1 and 3287\n",
    "\n",
    "<strong>NULL Constraints:</strong>\n",
    "- `Season_ID`           \n",
    "- `Team_ID`             \n",
    "- `Player_ID`           \n",
    "- `Team_ABV`            \n",
    "- `Team_Name`\n",
    "- `Birth_Date`\n",
    "- `Player_Name`\n",
    "- `Player_Age`                  \n",
    "- `League`                       \n",
    "- `Player_Postion`               \n",
    "- `Games_Played`       \t         \n",
    "- `Games_Started`\n",
    "- `Minutes_Played`   \n",
    "- `Field_Goals_Made`                \n",
    "- `Field_Goals_Attempted`         \n",
    "- `Field_Goals_Percentage`          \n",
    "- `Three_Points_Made`             \n",
    "- `Three_Points_Attempted`         \n",
    "- `Three_Points_Percentage`        \n",
    "- `Two_Points_Made`                  \n",
    "- `Two_Points_Attempted`          \n",
    "- `Two_Points_Percentage`           \n",
    "- `Free_Throws_Made`                \n",
    "- `Free_Throws_Attempted`          \n",
    "- `Free_Throws_Percentage`        \n",
    "- `Offensive_Rebounds`            \n",
    "- `Defensive_Rebounds`              \n",
    "- `True_Rebounds`                  \n",
    "- `Assists`                       \n",
    "- `Steals`                         \n",
    "- `Blocks`                        \n",
    "- `Turn_Over`                    \n",
    "- `Personal_Fouls`                 \n",
    "- `Points`                         \n",
    "- `Stat_Form`  \n",
    "- `Trp_Dbl`\n",
    "\n",
    "<strong>Columns:</strong>\n",
    "- `Season_ID`            A UNIQUE INT that represents a given year\n",
    "- `Team_ID`              A UNIQUE INT that represents a team\n",
    "- `Player_ID`            A UNIQUE INT that represents a player\n",
    "- `Team_ABV`             A VARCHAR of length 3 that represents a abbreviation for a team's name\n",
    "- `Team_Name`            A VARCHAR of length 45 that represents a team's name \n",
    "- `Birth_Date`           A DATE that represents a player's date of birth\n",
    "- `Player_Name`          A VARCHAR of length 45 that represents a player's name\n",
    "- `Player_Age`           A INT that represents the age of the player      \n",
    "- `League`               A VARCHAR of length 3 that represent the league the player plays for(should be NBA)\n",
    "- `Player_Postion`       A VARCHAR of length 20 that represent the postions the player plays\n",
    "- `Games_Played`       \t A INT that represents the amount of games the player played for a season\n",
    "- `Games_Started`        A INT that represents the amount of games the player started\n",
    "- `Minutes_Played`       A INT that represents the amount of minutes the player played for a season\n",
    "- `Field_Goals_Made`        A FLOAT that represents the amount Field Goals made          \n",
    "- `Field_Goals_Attempted`   A FLOAT that represents the amount of Field Goals Attempted      \n",
    "- `Field_Goals_Percentage`  A FLOAT that represents the percentage of Field Goals Made / Field Goals Attempted         \n",
    "- `Three_Points_Made`       A FLOAT that represents the amount of 3 Point Shots Made      \n",
    "- `Three_Points_Attempted`  A FLOAT that represents the amount of 3 Point Shots Attempted       \n",
    "- `Three_Points_Percentage` A FLOAT that represents the percentage of 3 Points Made / 3 Point Shot Attempted       \n",
    "- `Two_Points_Made`         A FLOAT that represents the amount of 2 Point Made        \n",
    "- `Two_Points_Attempted`    A FLOAT that represents is the amount of 2 Points Attempted      \n",
    "- `Two_Points_Percentage`   A FLOAT that represents is the percentage of 2 Point Made / 2 Points Attemped       \n",
    "- `Free_Throws_Made`                A FLOAT that represents is the amount of Free Throws Made\n",
    "- `Free_Throws_Attempted`           A FLOAT that represents is the amount of Free Throws Attempted\n",
    "- `Free_Throws_Percentage`          A FLOAT that represents is the percentage of Free Throws Made / Free Throws Attempted\n",
    "- `Offensive_Rebounds`              A FLOAT that represents is the amount of Offensive Rebound\n",
    "- `Defensive_Rebounds`              A FLOAT that represents is the amount of Defensive Rebound \n",
    "- `True_Rebounds`                   A FLOAT that represents is the amount of Rebound\n",
    "- `Assists`                         A FLOAT that represents is the amount of Assist\n",
    "- `Steals`                          A FLOAT that represents is the amount of Steals\n",
    "- `Blocks`                          A FLOAT that represents is the amount of Blocks\n",
    "- `Turn_Over`                       A FLOAT that represents is the amount of Turn Overs\n",
    "- `Personal_Fouls`                  A FLOAT that represents is the amount of Personal Fouls\n",
    "- `Points`                          A FLOAT that represents is the amount of Points Scored\n",
    "- `Stat_Form`                       A BOOLEAN that represents if the format is playoffs or regular season\n",
    "- `Trp_Dbl`                         A FLOOAT that represents the amount of double-digit total in three of five statistical categories (assists, blocks, points, rebounds, and steals) over the course of a single game "
   ]
  },
  {
   "cell_type": "markdown",
   "metadata": {},
   "source": [
    "### `Player_Career_Stats`\n",
    "<strong>Primary Key:</strong>\n",
    "- `Player_ID`\n",
    "\n",
    "<strong>Foreign Key:</strong>\n",
    "- `Player_ID` REFERENCES Player(Player_ID)\n",
    "\n",
    "<strong>Check Constraints:</strong> \n",
    "- `Player_ID` BETWEEN 1 and 3287\n",
    "\n",
    "<strong>NULL Constraints:</strong>            \n",
    "- `Player_ID`           \n",
    "- `Birth_Date`\n",
    "- `Player_Name`\n",
    "\n",
    "<strong>Columns:</strong>\n",
    "- `Player_ID`            A UNIQUE INT that represents a player\n",
    "- `Birth_Date`           A DATE that represents a player's date of birth\n",
    "- `Player_Name`          A VARCHAR of length 45 that represents a player's name"
   ]
  },
  {
   "cell_type": "markdown",
   "metadata": {},
   "source": [
    "### `Player_Career_Advanced`\n",
    "<strong>Primary Key:</strong>\n",
    "- `Player_ID`\n",
    "- `Stat_Form` \n",
    "\n",
    "<strong>Foreign Key:</strong>\n",
    "- `Player_ID` REFERENCES Player_Stats(Player_ID)\n",
    "\n",
    "<strong>Check Constraints:</strong> \n",
    "- `Player_ID` BETWEEN 1 and 3287\n",
    "\n",
    "<strong>NULL Constraints:</strong>             \n",
    "- `Player_ID`           \n",
    "- `Birth_Date`\n",
    "- `Player_Name`\n",
    "- `Player_Age`                  \n",
    "- `League`                       \n",
    "- `Player_Postion`               \n",
    "- `Games_Played`       \t         \n",
    "- `Minutes_Played`            \n",
    "- `Per_Minute_Production`       \n",
    "- `True_Shooting_Percent`       \n",
    "- `Three_Points_Attempted`     \n",
    "- `Free_Throws_Per_Field_Goals`  \n",
    "- `Offensive_Rebound_Percentage` \n",
    "- `Defensive_Rebound_Percentage` \n",
    "- `True_Rebounds_Percentage`     \n",
    "- `Assit_Percentage`             \n",
    "- `Steal_Percentage`            \n",
    "- `Block_Percentage`              \n",
    "- `Turn_Over_Percentage`          \n",
    "- `Usage_Percentage`              \n",
    "- `Offensive_Win_Shares`          \n",
    "- `Defensive_Win_Shares`           \n",
    "- `Win_Shares`                    \n",
    "- `Win_Shares_Fourty_Eight`       \n",
    "- `Offensive_Box_Score`           \n",
    "- `Defensive_Box_Score`           \n",
    "- `Box_Plus_Minus`                \n",
    "- `Value_Over_Replacement`        \n",
    "- `Stat_Form`                    \n",
    "\n",
    "<strong>Columns:</strong>\n",
    "- `Player_ID`            A UNIQUE INT that represents a player\n",
    "- `Birth_Date`           A DATE that represents a player's date of birth\n",
    "- `Player_Name`          A VARCHAR of length 45 that represents a player's name\n",
    "- `Player_Age`           A INT that represents the age of the player      \n",
    "- `League`               A VARCHAR of length 3 that represent the league the player plays for(should be NBA)\n",
    "- `Player_Postion`       A VARCHAR of length 20 that represent the postions the player plays\n",
    "- `Games_Played`       \t A INT that represents the amount of games the player played for a season\n",
    "- `Minutes_Played`       A INT that represents the amount of minutes the player played for a season\n",
    "- `Per_Minute_Production`  A FLOAT that represents is the measurment of a player's per-minute production      \n",
    "- `True_Shooting_Percent`  A FLOAT that represents is the measurement of shooting efficiency     \n",
    "- `Three_Points_Attempted` A FLOAT that represents is the percentage of FG Attempts from the 3 Point line      \n",
    "- `Free_Throws_Per_Field_Goals`  A FLOAT that represents is the number of FT Attempts per Field Goal Attempts  \n",
    "- `Offensive_Rebound_Percentage` A FLOAT that represents is an estimated percentage of available offensive rebounds a player takes when in game  \n",
    "- `Defensive_Rebound_Percentage` A FLOAT that represents is an estimated percentage of available defensive rebounds a player takes when in game \n",
    "- `True_Rebounds_Percentage` A FLOAT that represents is an estimated percentage of available  rebounds a player takes when in game\n",
    "- `Assit_Percentage` A FLOAT that represents is an estimated percentage of teammate Field Goals a palyer assited while in game \n",
    "- `Steal_Percentage` A FLOAT that represents is an estimate percentage of opponent possessions that end with a steal by player while in game             \n",
    "- `Block_Percentage` A FLOAT that represents is an estimate of the percentage of opponent Field Goal Attempts blocked by player while in game              \n",
    "- `Turn_Over_Percentage` A FLOAT that represents is an estimate of turnovers commited per 100 plays          \n",
    "- `Usage_Percentage`     A FLOAT that represents is an estimate of percentage of team plays used by a player while in game     \n",
    "- `Offensive_Win_Shares` A FLOAT that represents is an estimate of the number of wins contributed by a player due to his offense         \n",
    "- `Defensive_Win_Shares` A FLOAT that represents is an estimate of the number of wins contributed by a player due to his defense            \n",
    "- `Win_Shares`           A FLOAT that represents is an estimate of the number of wins contributed by a player          \n",
    "- `Win_Shares_Fourty_Eight` A FLOAT that represents is an estimate of the number of wins contributed by a player per 48 minute \n",
    "- `Offensive_Box_Score`     A FLOAT that represents is a box score estimate of the offensive points per 100 possessions a player contributed      \n",
    "- `Defensive_Box_Score`     A FLOAT that represents is a box score estimate of the defensive points per 100 possessions a player contributed      \n",
    "- `Box_Plus_Minus`          A FLOAT that represents is a box score estimate of the points per 100 possessions a player contributed      \n",
    "- `Value_Over_Replacement`  A FLOAT that represents is a box score estimate of the points per 100 Team possessions that a play contributed       \n",
    "- `Stat_Form`               A BOOLEAN that represents if the format is a playoffs or regular "
   ]
  },
  {
   "cell_type": "markdown",
   "metadata": {},
   "source": [
    "### `Player_Career_Per_Game`\n",
    "<strong>Primary Key:</strong>\n",
    "- `Player_ID`\n",
    "- `Stat_Form` \n",
    "\n",
    "<strong>Foreign Key:</strong>\n",
    "- `Player_ID` REFERENCES Player_Stats(Player_ID)\n",
    "\n",
    "<strong>Check Constraints:</strong> \n",
    "- `Player_ID` BETWEEN 1 and 3287\n",
    "\n",
    "<strong>NULL Constraints:</strong>             \n",
    "- `Player_ID`           \n",
    "- `Birth_Date`\n",
    "- `Player_Name`\n",
    "- `Player_Age`                  \n",
    "- `League`                       \n",
    "- `Player_Postion`               \n",
    "- `Games_Played`       \t         \n",
    "- `Games_Started`\n",
    "- `Minutes_Played`   \n",
    "- `Field_Goals_Made`                \n",
    "- `Field_Goals_Attempted`         \n",
    "- `Field_Goals_Percentage`          \n",
    "- `Three_Points_Made`             \n",
    "- `Three_Points_Attempted`         \n",
    "- `Three_Points_Percentage`        \n",
    "- `Two_Points_Made`                  \n",
    "- `Two_Points_Attempted`          \n",
    "- `Two_Points_Percentage`           \n",
    "- `Effective_Field_Goal_Percentage`\n",
    "- `Free_Throws_Made`                \n",
    "- `Free_Throws_Attempted`          \n",
    "- `Free_Throws_Percentage`        \n",
    "- `Offensive_Rebounds`            \n",
    "- `Defensive_Rebounds`              \n",
    "- `True_Rebounds`                  \n",
    "- `Assists`                       \n",
    "- `Steals`                         \n",
    "- `Blocks`                        \n",
    "- `Turn_Over`                    \n",
    "- `Personal_Fouls`                 \n",
    "- `Points`                         \n",
    "- `Stat_Form`  \n",
    "\n",
    "<strong>Columns:</strong>\n",
    "- `Player_ID`            A UNIQUE INT that represents a player\n",
    "- `Birth_Date`           A DATE that represents a player's date of birth\n",
    "- `Player_Name`          A VARCHAR of length 45 that represents a player's name\n",
    "- `Player_Age`           A INT that represents the age of the player      \n",
    "- `League`               A VARCHAR of length 3 that represent the league the player plays for(should be NBA)\n",
    "- `Player_Postion`       A VARCHAR of length 20 that represent the postions the player plays\n",
    "- `Games_Played`       \t A INT that represents the amount of games the player played for a season\n",
    "- `Games_Started`        A INT that represents the amount of games the player started\n",
    "- `Minutes_Played`       A INT that represents the amount of minutes the player played for a season\n",
    "- `Field_Goals_Made`        A FLOAT that represents the amount Field Goals made          \n",
    "- `Field_Goals_Attempted`   A FLOAT that represents the amount of Field Goals Attempted      \n",
    "- `Field_Goals_Percentage`  A FLOAT that represents the percentage of Field Goals Made / Field Goals Attempted         \n",
    "- `Three_Points_Made`       A FLOAT that represents the amount of 3 Point Shots Made      \n",
    "- `Three_Points_Attempted`  A FLOAT that represents the amount of 3 Point Shots Attempted       \n",
    "- `Three_Points_Percentage` A FLOAT that represents the percentage of 3 Points Made / 3 Point Shot Attempted       \n",
    "- `Two_Points_Made`         A FLOAT that represents the amount of 2 Point Made        \n",
    "- `Two_Points_Attempted`    A FLOAT that represents is the amount of 2 Points Attempted      \n",
    "- `Two_Points_Percentage`   A FLOAT that represents is the percentage of 2 Point Made / 2 Points Attemped       \n",
    "- `Effective_Field_Goal_Percentage` A FLOAT that represents is the stat that adjusts field goal percentage to account for the fact that three-point field goals count for three points while field goals only count for two points\n",
    "- `Free_Throws_Made`                A FLOAT that represents is the amount of Free Throws Made\n",
    "- `Free_Throws_Attempted`           A FLOAT that represents is the amount of Free Throws Attempted\n",
    "- `Free_Throws_Percentage`          A FLOAT that represents is the percentage of Free Throws Made / Free Throws Attempted\n",
    "- `Offensive_Rebounds`              A FLOAT that represents is the amount of Offensive Rebound\n",
    "- `Defensive_Rebounds`              A FLOAT that represents is the amount of Defensive Rebound \n",
    "- `True_Rebounds`                   A FLOAT that represents is the amount of Rebound\n",
    "- `Assists`                         A FLOAT that represents is the amount of Assist\n",
    "- `Steals`                          A FLOAT that represents is the amount of Steals\n",
    "- `Blocks`                          A FLOAT that represents is the amount of Blocks\n",
    "- `Turn_Over`                       A FLOAT that represents is the amount of Turn Overs\n",
    "- `Personal_Fouls`                  A FLOAT that represents is the amount of Personal Fouls\n",
    "- `Points`                          A FLOAT that represents is the amount of Points Scored\n",
    "- `Stat_Form`                       A BOOLEAN that represents if the format is playoffs or regular season"
   ]
  },
  {
   "cell_type": "markdown",
   "metadata": {},
   "source": [
    "### `Player_Career_Per_Minute`\n",
    "<strong>Primary Key:</strong>\n",
    "- `Player_ID`\n",
    "- `Stat_Form`\n",
    "\n",
    "<strong>Foreign Key:</strong>\n",
    "- `Player_ID` REFERENCES Player_Stats(Player_ID)\n",
    "\n",
    "<strong>Check Constraints:</strong> \n",
    "- `Player_ID` BETWEEN 1 and 3287\n",
    "\n",
    "<strong>NULL Constraints:</strong>            \n",
    "- `Player_ID`           \n",
    "- `Birth_Date`\n",
    "- `Player_Name`\n",
    "- `Player_Age`                  \n",
    "- `League`                       \n",
    "- `Player_Postion`               \n",
    "- `Games_Played`       \t         \n",
    "- `Games_Started`\n",
    "- `Minutes_Played`   \n",
    "- `Field_Goals_Made`                \n",
    "- `Field_Goals_Attempted`         \n",
    "- `Field_Goals_Percentage`          \n",
    "- `Three_Points_Made`             \n",
    "- `Three_Points_Attempted`         \n",
    "- `Three_Points_Percentage`        \n",
    "- `Two_Points_Made`                  \n",
    "- `Two_Points_Attempted`          \n",
    "- `Two_Points_Percentage`           \n",
    "- `Free_Throws_Made`                \n",
    "- `Free_Throws_Attempted`          \n",
    "- `Free_Throws_Percentage`        \n",
    "- `Offensive_Rebounds`            \n",
    "- `Defensive_Rebounds`              \n",
    "- `True_Rebounds`                  \n",
    "- `Assists`                       \n",
    "- `Steals`                         \n",
    "- `Blocks`                        \n",
    "- `Turn_Over`                    \n",
    "- `Personal_Fouls`                 \n",
    "- `Points`                         \n",
    "- `Stat_Form`  \n",
    "\n",
    "<strong>Columns:</strong>\n",
    "- `Player_ID`            A UNIQUE INT that represents a player\n",
    "- `Birth_Date`           A DATE that represents a player's date of birth\n",
    "- `Player_Name`          A VARCHAR of length 45 that represents a player's name\n",
    "- `Player_Age`           A INT that represents the age of the player      \n",
    "- `League`               A VARCHAR of length 3 that represent the league the player plays for(should be NBA)\n",
    "- `Player_Postion`       A VARCHAR of length 20 that represent the postions the player plays\n",
    "- `Games_Played`       \t A INT that represents the amount of games the player played for a season\n",
    "- `Games_Started`        A INT that represents the amount of games the player started\n",
    "- `Minutes_Played`       A INT that represents the amount of minutes the player played for a season\n",
    "- `Field_Goals_Made`        A FLOAT that represents the amount Field Goals made          \n",
    "- `Field_Goals_Attempted`   A FLOAT that represents the amount of Field Goals Attempted      \n",
    "- `Field_Goals_Percentage`  A FLOAT that represents the percentage of Field Goals Made / Field Goals Attempted         \n",
    "- `Three_Points_Made`       A FLOAT that represents the amount of 3 Point Shots Made      \n",
    "- `Three_Points_Attempted`  A FLOAT that represents the amount of 3 Point Shots Attempted       \n",
    "- `Three_Points_Percentage` A FLOAT that represents the percentage of 3 Points Made / 3 Point Shot Attempted       \n",
    "- `Two_Points_Made`         A FLOAT that represents the amount of 2 Point Made        \n",
    "- `Two_Points_Attempted`    A FLOAT that represents is the amount of 2 Points Attempted      \n",
    "- `Two_Points_Percentage`   A FLOAT that represents is the percentage of 2 Point Made / 2 Points Attemped       \n",
    "- `Free_Throws_Made`                A FLOAT that represents is the amount of Free Throws Made\n",
    "- `Free_Throws_Attempted`           A FLOAT that represents is the amount of Free Throws Attempted\n",
    "- `Free_Throws_Percentage`          A FLOAT that represents is the percentage of Free Throws Made / Free Throws Attempted\n",
    "- `Offensive_Rebounds`              A FLOAT that represents is the amount of Offensive Rebound\n",
    "- `Defensive_Rebounds`              A FLOAT that represents is the amount of Defensive Rebound \n",
    "- `True_Rebounds`                   A FLOAT that represents is the amount of Rebound\n",
    "- `Assists`                         A FLOAT that represents is the amount of Assist\n",
    "- `Steals`                          A FLOAT that represents is the amount of Steals\n",
    "- `Blocks`                          A FLOAT that represents is the amount of Blocks\n",
    "- `Turn_Over`                       A FLOAT that represents is the amount of Turn Overs\n",
    "- `Personal_Fouls`                  A FLOAT that represents is the amount of Personal Fouls\n",
    "- `Points`                          A FLOAT that represents is the amount of Points Scored\n",
    "- `Stat_Form`                       A BOOLEAN that represents if the format is playoffs or regular season"
   ]
  },
  {
   "cell_type": "markdown",
   "metadata": {},
   "source": [
    "### `Player_Career_Per_Poss`\n",
    "<strong>Primary Key:</strong>\n",
    "- `Player_ID`\n",
    "- `Stat_Form` \n",
    "\n",
    "<strong>Foreign Key:</strong>\n",
    "- `Player_ID` REFERENCES Player_Stats(Player_ID)\n",
    "\n",
    "<strong>Check Constraints:</strong> \n",
    "- `Player_ID` BETWEEN 1 and 3287\n",
    "\n",
    "<strong>NULL Constraints:</strong>            \n",
    "- `Player_ID`           \n",
    "- `Birth_Date`\n",
    "- `Player_Name`\n",
    "- `Player_Age`                  \n",
    "- `League`                       \n",
    "- `Player_Postion`               \n",
    "- `Games_Played`       \t         \n",
    "- `Games_Started`\n",
    "- `Minutes_Played`   \n",
    "- `Field_Goals_Made`                \n",
    "- `Field_Goals_Attempted`         \n",
    "- `Field_Goals_Percentage`          \n",
    "- `Three_Points_Made`             \n",
    "- `Three_Points_Attempted`         \n",
    "- `Three_Points_Percentage`        \n",
    "- `Two_Points_Made`                  \n",
    "- `Two_Points_Attempted`          \n",
    "- `Two_Points_Percentage`           \n",
    "- `Free_Throws_Made`                \n",
    "- `Free_Throws_Attempted`          \n",
    "- `Free_Throws_Percentage`        \n",
    "- `Offensive_Rebounds`            \n",
    "- `Defensive_Rebounds`              \n",
    "- `True_Rebounds`                  \n",
    "- `Assists`                       \n",
    "- `Steals`                         \n",
    "- `Blocks`                        \n",
    "- `Turn_Over`                    \n",
    "- `Personal_Fouls`                 \n",
    "- `Points`                         \n",
    "- `Stat_Form`  \n",
    "- `Drtg`\n",
    "- `Ortg`\n",
    "\n",
    "<strong>Columns:</strong>\n",
    "- `Player_ID`            A UNIQUE INT that represents a player\n",
    "- `Birth_Date`           A DATE that represents a player's date of birth\n",
    "- `Player_Name`          A VARCHAR of length 45 that represents a player's name\n",
    "- `Player_Age`           A INT that represents the age of the player      \n",
    "- `League`               A VARCHAR of length 3 that represent the league the player plays for(should be NBA)\n",
    "- `Player_Postion`       A VARCHAR of length 20 that represent the postions the player plays\n",
    "- `Games_Played`       \t A INT that represents the amount of games the player played for a season\n",
    "- `Games_Started`        A INT that represents the amount of games the player started\n",
    "- `Minutes_Played`       A INT that represents the amount of minutes the player played for a season\n",
    "- `Field_Goals_Made`        A FLOAT that represents the amount Field Goals made          \n",
    "- `Field_Goals_Attempted`   A FLOAT that represents the amount of Field Goals Attempted      \n",
    "- `Field_Goals_Percentage`  A FLOAT that represents the percentage of Field Goals Made / Field Goals Attempted         \n",
    "- `Three_Points_Made`       A FLOAT that represents the amount of 3 Point Shots Made      \n",
    "- `Three_Points_Attempted`  A FLOAT that represents the amount of 3 Point Shots Attempted       \n",
    "- `Three_Points_Percentage` A FLOAT that represents the percentage of 3 Points Made / 3 Point Shot Attempted       \n",
    "- `Two_Points_Made`         A FLOAT that represents the amount of 2 Point Made        \n",
    "- `Two_Points_Attempted`    A FLOAT that represents is the amount of 2 Points Attempted      \n",
    "- `Two_Points_Percentage`   A FLOAT that represents is the percentage of 2 Point Made / 2 Points Attemped       \n",
    "- `Free_Throws_Made`                A FLOAT that represents is the amount of Free Throws Made\n",
    "- `Free_Throws_Attempted`           A FLOAT that represents is the amount of Free Throws Attempted\n",
    "- `Free_Throws_Percentage`          A FLOAT that represents is the percentage of Free Throws Made / Free Throws Attempted\n",
    "- `Offensive_Rebounds`              A FLOAT that represents is the amount of Offensive Rebound\n",
    "- `Defensive_Rebounds`              A FLOAT that represents is the amount of Defensive Rebound \n",
    "- `True_Rebounds`                   A FLOAT that represents is the amount of Rebound\n",
    "- `Assists`                         A FLOAT that represents is the amount of Assist\n",
    "- `Steals`                          A FLOAT that represents is the amount of Steals\n",
    "- `Blocks`                          A FLOAT that represents is the amount of Blocks\n",
    "- `Turn_Over`                       A FLOAT that represents is the amount of Turn Overs\n",
    "- `Personal_Fouls`                  A FLOAT that represents is the amount of Personal Fouls\n",
    "- `Points`                          A FLOAT that represents is the amount of Points Scored\n",
    "- `Stat_Form`                       A BOOLEAN that represents if the format is playoffs or regular season\n",
    "- `Drtg` A FLOAT that represents the amount of points allowed per 100 posessions\n",
    "- `Ortg` A FLOAT that represents the amount of points scored per 100 possessions"
   ]
  },
  {
   "cell_type": "markdown",
   "metadata": {},
   "source": [
    "### `Player_Career_Totals`\n",
    "<strong>Primary Key:</strong>\n",
    "- `Player_ID`\n",
    "- `Stat_Form` \n",
    "\n",
    "<strong>Foreign Key:</strong>\n",
    "- `Player_ID` REFERENCES Player_Stats(Player_ID)\n",
    "\n",
    "<strong>Check Constraints:</strong> \n",
    "- `Season_ID` BETWEEN 1980 AND 2021\n",
    "- `Team_ID` BETWEEN 1 and 31\n",
    "- `Player_ID` BETWEEN 1 and 3287\n",
    "\n",
    "<strong>NULL Constraints:</strong>            \n",
    "- `Player_ID`           \n",
    "- `Birth_Date`\n",
    "- `Player_Name`\n",
    "- `Player_Age`                  \n",
    "- `League`                       \n",
    "- `Player_Postion`               \n",
    "- `Games_Played`       \t         \n",
    "- `Games_Started`\n",
    "- `Minutes_Played`   \n",
    "- `Field_Goals_Made`                \n",
    "- `Field_Goals_Attempted`         \n",
    "- `Field_Goals_Percentage`          \n",
    "- `Three_Points_Made`             \n",
    "- `Three_Points_Attempted`         \n",
    "- `Three_Points_Percentage`        \n",
    "- `Two_Points_Made`                  \n",
    "- `Two_Points_Attempted`          \n",
    "- `Two_Points_Percentage`           \n",
    "- `Free_Throws_Made`                \n",
    "- `Free_Throws_Attempted`          \n",
    "- `Free_Throws_Percentage`        \n",
    "- `Offensive_Rebounds`            \n",
    "- `Defensive_Rebounds`              \n",
    "- `True_Rebounds`                  \n",
    "- `Assists`                       \n",
    "- `Steals`                         \n",
    "- `Blocks`                        \n",
    "- `Turn_Over`                    \n",
    "- `Personal_Fouls`                 \n",
    "- `Points`                         \n",
    "- `Stat_Form`  \n",
    "- `Trp_Dbl`\n",
    "\n",
    "<strong>Columns:</strong>\n",
    "- `Player_ID`            A UNIQUE INT that represents a player\n",
    "- `Birth_Date`           A DATE that represents a player's date of birth\n",
    "- `Player_Name`          A VARCHAR of length 45 that represents a player's name\n",
    "- `Player_Age`           A INT that represents the age of the player      \n",
    "- `League`               A VARCHAR of length 3 that represent the league the player plays for(should be NBA)\n",
    "- `Player_Postion`       A VARCHAR of length 20 that represent the postions the player plays\n",
    "- `Games_Played`       \t A INT that represents the amount of games the player played for a season\n",
    "- `Games_Started`        A INT that represents the amount of games the player started\n",
    "- `Minutes_Played`       A INT that represents the amount of minutes the player played for a season\n",
    "- `Field_Goals_Made`        A FLOAT that represents the amount Field Goals made          \n",
    "- `Field_Goals_Attempted`   A FLOAT that represents the amount of Field Goals Attempted      \n",
    "- `Field_Goals_Percentage`  A FLOAT that represents the percentage of Field Goals Made / Field Goals Attempted         \n",
    "- `Three_Points_Made`       A FLOAT that represents the amount of 3 Point Shots Made      \n",
    "- `Three_Points_Attempted`  A FLOAT that represents the amount of 3 Point Shots Attempted       \n",
    "- `Three_Points_Percentage` A FLOAT that represents the percentage of 3 Points Made / 3 Point Shot Attempted       \n",
    "- `Two_Points_Made`         A FLOAT that represents the amount of 2 Point Made        \n",
    "- `Two_Points_Attempted`    A FLOAT that represents is the amount of 2 Points Attempted      \n",
    "- `Two_Points_Percentage`   A FLOAT that represents is the percentage of 2 Point Made / 2 Points Attemped       \n",
    "- `Free_Throws_Made`                A FLOAT that represents is the amount of Free Throws Made\n",
    "- `Free_Throws_Attempted`           A FLOAT that represents is the amount of Free Throws Attempted\n",
    "- `Free_Throws_Percentage`          A FLOAT that represents is the percentage of Free Throws Made / Free Throws Attempted\n",
    "- `Offensive_Rebounds`              A FLOAT that represents is the amount of Offensive Rebound\n",
    "- `Defensive_Rebounds`              A FLOAT that represents is the amount of Defensive Rebound \n",
    "- `True_Rebounds`                   A FLOAT that represents is the amount of Rebound\n",
    "- `Assists`                         A FLOAT that represents is the amount of Assist\n",
    "- `Steals`                          A FLOAT that represents is the amount of Steals\n",
    "- `Blocks`                          A FLOAT that represents is the amount of Blocks\n",
    "- `Turn_Over`                       A FLOAT that represents is the amount of Turn Overs\n",
    "- `Personal_Fouls`                  A FLOAT that represents is the amount of Personal Fouls\n",
    "- `Points`                          A FLOAT that represents is the amount of Points Scored\n",
    "- `Stat_Form`                       A BOOLEAN that represents if the format is playoffs or regular season\n",
    "- `Trp_Dbl`                         A FLOOAT that represents the amount of double-digit total in three of five statistical categories (assists, blocks, points, rebounds, and steals) over the course of a single game "
   ]
  },
  {
   "cell_type": "markdown",
   "metadata": {},
   "source": [
    "## Insert Into Database\n",
    "Inserting into the database uses the csv file generated from `Phase 1`<br>\n",
    "Using `sqlalchemy`, and using the function `csv_to_pd` to convert a csv file into a pandas dataframe, then using the function `pd_to_sql` inserts the pandas dataframe into the database"
   ]
  },
  {
   "cell_type": "markdown",
   "metadata": {},
   "source": [
    "## Queries\n",
    "Each database table has it's own queries except `Season`<br>\n",
    "When running the queries, there is no accented chars, for example <strong>Jokić -> Jokic</strong><br>\n",
    "Below is an image of the amount of queries for each table"
   ]
  },
  {
   "cell_type": "markdown",
   "metadata": {},
   "source": [
    "![](attachment:image.jpg)\n",
    "<center><img src=\"Queries_Amount.jpg\" align=\"center\"/></center>"
   ]
  },
  {
   "cell_type": "markdown",
   "metadata": {},
   "source": [
    "# <font color='red'>Python Scripts  </font>"
   ]
  },
  {
   "cell_type": "markdown",
   "metadata": {},
   "source": [
    "## File Layout \n",
    "\n",
    "```\n",
    "/Python_Scripts |--> /Call_Queries --> Functions that call Stored Procedures for every database entity\n",
    "                |\n",
    "                |--> /Queries --> Create Stored Procedures for every database entity \n",
    "                | \n",
    "                |--> /Queries_Test --> Test for every database entity\n",
    "                |\n",
    "                |--> Create_Tables_DB.py\n",
    "                |\n",
    "                |--> General_Procedures.py\n",
    "                |\n",
    "                |--> Helper_DB.py\n",
    "                |\n",
    "                |--> Insert_DB.py\n",
    "```"
   ]
  },
  {
   "cell_type": "markdown",
   "metadata": {},
   "source": [
    "## Create_Tables_DB.py"
   ]
  },
  {
   "cell_type": "markdown",
   "metadata": {},
   "source": [
    "### `create_season_table():`\n",
    "\n",
    "### `create_team_table():`\n",
    "\n",
    "### `create_player_table():`\n",
    "\n",
    "### `create_conference_standings_table():`\n",
    "\n",
    "### `create_roster_table():`\n",
    "\n",
    "### `create_team_stats_table():`\n",
    "\n",
    "### `create_team_advanced_table():`\n",
    "\n",
    "### `create_team_misc_table():`\n",
    "\n",
    "### `create_team_per_game_table():`\n",
    "\n",
    "### `create_team_per_poss_table():`\n",
    "\n",
    "### `create_team_totals_table():`\n",
    "\n",
    "### `create_player_stats_table():`\n",
    "\n",
    "### `create_player_advanced_table():`\n",
    "\n",
    "### `create_player_per_game_table():`\n",
    "\n",
    "### `create_player_per_minute_table():`\n",
    "\n",
    "### `create_player_per_poss_table():`\n",
    "\n",
    "### `create_player_totals_table():`\n",
    "\n",
    "### `create_player_career_stats_table():`\n",
    "\n",
    "### `create_player_career_advanced_table():`\n",
    "\n",
    "### `create_player_career_per_game_table():`\n",
    "\n",
    "### `create_player_career_per_minute_table():`\n",
    "\n",
    "### `create_player_career_per_poss_table():`\n",
    "\n",
    "### `create_player_career_totals_table():`\n",
    "\n",
    "### `create_all():`"
   ]
  },
  {
   "cell_type": "markdown",
   "metadata": {},
   "source": [
    "### <font color='red'>Import Functions from Create_Tables_DB.py</font>"
   ]
  },
  {
   "cell_type": "code",
   "execution_count": 9,
   "metadata": {},
   "outputs": [],
   "source": [
    "from Create_Tables_DB import *"
   ]
  },
  {
   "cell_type": "markdown",
   "metadata": {},
   "source": [
    "## General_Procedures.py "
   ]
  },
  {
   "cell_type": "markdown",
   "metadata": {},
   "source": [
    "### `create_drop_table_procedure():`\n",
    "\n",
    "### `create_truncate_table_procedure():`\n",
    "\n",
    "### `create_general_procedures():`\n",
    "\n",
    "### `drop_procedure_drop_table():`\n",
    "\n",
    "### `drop_procedure_truncate_table_procedure():`\n",
    "\n",
    "### `drop_general_procedures():`"
   ]
  },
  {
   "cell_type": "markdown",
   "metadata": {},
   "source": [
    "### <font color='red'>Import Functions from General_Procedures.py</font>"
   ]
  },
  {
   "cell_type": "code",
   "execution_count": 10,
   "metadata": {},
   "outputs": [
    {
     "name": "stdout",
     "output_type": "stream",
     "text": [
      "Procedure does not Exist\n",
      "Creation of procedure Truncate_If_Exist was Successful\n"
     ]
    }
   ],
   "source": [
    "from General_Procedures import *"
   ]
  },
  {
   "cell_type": "markdown",
   "metadata": {},
   "source": [
    "## Helper_DB.py"
   ]
  },
  {
   "cell_type": "markdown",
   "metadata": {},
   "source": [
    "### `create_connection():`\n",
    "\n",
    "### `test_connection(engine):`\n",
    "\n",
    "### `check_table(tablename):`\n",
    "\n",
    "### `check_procedure(procedure):`"
   ]
  },
  {
   "cell_type": "markdown",
   "metadata": {},
   "source": [
    "### <font color='red'>Import Functions from Helper_DB.py</font>"
   ]
  },
  {
   "cell_type": "code",
   "execution_count": 2,
   "metadata": {},
   "outputs": [],
   "source": [
    "from Helper_DB import test_connection, create_connection, check_procedure"
   ]
  },
  {
   "cell_type": "markdown",
   "metadata": {},
   "source": [
    "## <font color='blue'> Insert_DB.py </font>"
   ]
  },
  {
   "cell_type": "markdown",
   "metadata": {},
   "source": [
    "### `insert_season(season_id):`\n",
    "\n",
    "### `insert_team(df):`\n",
    "\n",
    "### `insert_player(df):`\n",
    "\n",
    "### `insert_conference_standings(df):`\n",
    "\n",
    "### `insert_roster(df):`\n",
    "\n",
    "### `insert_team_stats(df):`\n",
    "\n",
    "### `insert_team_advanced(df):`\n",
    "\n",
    "### `insert_team_misc(df):`\n",
    "\n",
    "### `insert_team_per_game(df, opponent):`\n",
    "\n",
    "### `insert_team_per_poss(df, opponent):`\n",
    "\n",
    "### `insert_team_totals(df, opponent):`  \n",
    "\n",
    "### `insert_player_stats(df):`\n",
    "\n",
    "### `insert_player_advanced(df, format):`\n",
    "\n",
    "### `insert_player_per_game(df, format):`\n",
    "\n",
    "### `insert_player_per_minute(df, format):`\n",
    "\n",
    "### `insert_player_per_poss(df, format):`\n",
    "\n",
    "### `insert_player_totals(df, format):`\n",
    "\n",
    "### `insert_player_career_stats(df):`\n",
    "\n",
    "### `insert_player_career_advanced(df, format):`\n",
    "\n",
    "### `insert_player_career_per_game(df, format):`\n",
    "\n",
    "### `insert_player_career_per_minute(df, format):`\n",
    "\n",
    "### `insert_player_career_per_poss(df, format):`\n",
    "\n",
    "### `insert_player_career_totals(df, format):`"
   ]
  },
  {
   "cell_type": "markdown",
   "metadata": {},
   "source": [
    "### <font color='red'>Import Functions from Insert_DB.py</font>"
   ]
  },
  {
   "cell_type": "code",
   "execution_count": 11,
   "metadata": {},
   "outputs": [
    {
     "ename": "FileNotFoundError",
     "evalue": "[Errno 2] No such file or directory: 'C:\\\\Users\\\\Bryan\\\\Desktop\\\\Basketball-Stats\\\\Database\\\\Jupyter Notebook\\\\Web_Scrapers\\\\Output\\\\Player_Name\\\\player_names.csv'",
     "output_type": "error",
     "traceback": [
      "\u001b[1;31m---------------------------------------------------------------------------\u001b[0m",
      "\u001b[1;31mFileNotFoundError\u001b[0m                         Traceback (most recent call last)",
      "\u001b[1;32m<ipython-input-11-ade9da4703a5>\u001b[0m in \u001b[0;36m<module>\u001b[1;34m\u001b[0m\n\u001b[1;32m----> 1\u001b[1;33m \u001b[1;32mfrom\u001b[0m \u001b[0mInsert_DB\u001b[0m \u001b[1;32mimport\u001b[0m \u001b[1;33m*\u001b[0m\u001b[1;33m\u001b[0m\u001b[1;33m\u001b[0m\u001b[0m\n\u001b[0m",
      "\u001b[1;32m~\\Desktop\\Basketball-Stats\\Database\\Python Scripts\\Insert_DB.py\u001b[0m in \u001b[0;36m<module>\u001b[1;34m\u001b[0m\n\u001b[0;32m     11\u001b[0m \u001b[0msys\u001b[0m\u001b[1;33m.\u001b[0m\u001b[0mpath\u001b[0m\u001b[1;33m.\u001b[0m\u001b[0mappend\u001b[0m\u001b[1;33m(\u001b[0m\u001b[0mstr\u001b[0m\u001b[1;33m(\u001b[0m\u001b[0mpathlib\u001b[0m\u001b[1;33m.\u001b[0m\u001b[0mPath\u001b[0m\u001b[1;33m(\u001b[0m\u001b[1;33m)\u001b[0m\u001b[1;33m.\u001b[0m\u001b[0mabsolute\u001b[0m\u001b[1;33m(\u001b[0m\u001b[1;33m)\u001b[0m\u001b[1;33m)\u001b[0m \u001b[1;33m+\u001b[0m \u001b[1;34m'\\\\Web_Scrapers'\u001b[0m \u001b[1;33m+\u001b[0m\u001b[1;34m'\\\\Python_Scrapers'\u001b[0m\u001b[1;33m)\u001b[0m\u001b[1;33m\u001b[0m\u001b[1;33m\u001b[0m\u001b[0m\n\u001b[0;32m     12\u001b[0m \u001b[1;33m\u001b[0m\u001b[0m\n\u001b[1;32m---> 13\u001b[1;33m \u001b[1;32mfrom\u001b[0m \u001b[0mTeam_Constants\u001b[0m \u001b[1;32mimport\u001b[0m \u001b[0mRIGHT_NAME_DICT\u001b[0m\u001b[1;33m,\u001b[0m \u001b[0mPLAYER_ID\u001b[0m\u001b[1;33m,\u001b[0m \u001b[0mREVERSE_RIGHT_DICT\u001b[0m\u001b[1;33m,\u001b[0m \u001b[0mDATABASE_DICT\u001b[0m\u001b[1;33m\u001b[0m\u001b[1;33m\u001b[0m\u001b[0m\n\u001b[0m\u001b[0;32m     14\u001b[0m \u001b[1;32mfrom\u001b[0m \u001b[0mHelper_DB\u001b[0m \u001b[1;32mimport\u001b[0m \u001b[0mtest_connection\u001b[0m\u001b[1;33m,\u001b[0m \u001b[0mcreate_connection\u001b[0m\u001b[1;33m,\u001b[0m \u001b[0mcheck_table\u001b[0m\u001b[1;33m\u001b[0m\u001b[1;33m\u001b[0m\u001b[0m\n\u001b[0;32m     15\u001b[0m \u001b[1;33m\u001b[0m\u001b[0m\n",
      "\u001b[1;32m~\\Desktop\\Basketball-Stats\\Web_Scrapers\\Python_Scrapers\\Team_Constants.py\u001b[0m in \u001b[0;36m<module>\u001b[1;34m\u001b[0m\n\u001b[0;32m    445\u001b[0m \u001b[0mGlobal\u001b[0m \u001b[0mDict\u001b[0m \u001b[1;32mfor\u001b[0m \u001b[0mPlayer\u001b[0m\u001b[0;31m'\u001b[0m\u001b[0ms\u001b[0m \u001b[0mID\u001b[0m\u001b[1;33m\u001b[0m\u001b[1;33m\u001b[0m\u001b[0m\n\u001b[0;32m    446\u001b[0m '''\n\u001b[1;32m--> 447\u001b[1;33m \u001b[0mPLAYER_ID\u001b[0m \u001b[1;33m=\u001b[0m \u001b[0mget_player_id\u001b[0m\u001b[1;33m(\u001b[0m\u001b[1;33m)\u001b[0m\u001b[1;33m\u001b[0m\u001b[1;33m\u001b[0m\u001b[0m\n\u001b[0m",
      "\u001b[1;32m~\\Desktop\\Basketball-Stats\\Web_Scrapers\\Python_Scrapers\\Team_Constants.py\u001b[0m in \u001b[0;36mget_player_id\u001b[1;34m()\u001b[0m\n\u001b[0;32m    426\u001b[0m \u001b[1;33m\u001b[0m\u001b[0m\n\u001b[0;32m    427\u001b[0m     \u001b[1;31m# Convert csv to dataframe\u001b[0m\u001b[1;33m\u001b[0m\u001b[1;33m\u001b[0m\u001b[1;33m\u001b[0m\u001b[0m\n\u001b[1;32m--> 428\u001b[1;33m     \u001b[0mdf\u001b[0m \u001b[1;33m=\u001b[0m \u001b[0mpd\u001b[0m\u001b[1;33m.\u001b[0m\u001b[0mread_csv\u001b[0m\u001b[1;33m(\u001b[0m\u001b[0mcsv_path\u001b[0m\u001b[1;33m)\u001b[0m\u001b[1;33m\u001b[0m\u001b[1;33m\u001b[0m\u001b[0m\n\u001b[0m\u001b[0;32m    429\u001b[0m \u001b[1;33m\u001b[0m\u001b[0m\n\u001b[0;32m    430\u001b[0m     \u001b[0mrecord\u001b[0m \u001b[1;33m=\u001b[0m \u001b[0mdf\u001b[0m\u001b[1;33m.\u001b[0m\u001b[0mvalues\u001b[0m\u001b[1;33m.\u001b[0m\u001b[0mtolist\u001b[0m\u001b[1;33m(\u001b[0m\u001b[1;33m)\u001b[0m\u001b[1;33m\u001b[0m\u001b[1;33m\u001b[0m\u001b[0m\n",
      "\u001b[1;32m~\\anaconda3\\lib\\site-packages\\pandas\\io\\parsers.py\u001b[0m in \u001b[0;36mread_csv\u001b[1;34m(filepath_or_buffer, sep, delimiter, header, names, index_col, usecols, squeeze, prefix, mangle_dupe_cols, dtype, engine, converters, true_values, false_values, skipinitialspace, skiprows, skipfooter, nrows, na_values, keep_default_na, na_filter, verbose, skip_blank_lines, parse_dates, infer_datetime_format, keep_date_col, date_parser, dayfirst, cache_dates, iterator, chunksize, compression, thousands, decimal, lineterminator, quotechar, quoting, doublequote, escapechar, comment, encoding, dialect, error_bad_lines, warn_bad_lines, delim_whitespace, low_memory, memory_map, float_precision)\u001b[0m\n\u001b[0;32m    684\u001b[0m     )\n\u001b[0;32m    685\u001b[0m \u001b[1;33m\u001b[0m\u001b[0m\n\u001b[1;32m--> 686\u001b[1;33m     \u001b[1;32mreturn\u001b[0m \u001b[0m_read\u001b[0m\u001b[1;33m(\u001b[0m\u001b[0mfilepath_or_buffer\u001b[0m\u001b[1;33m,\u001b[0m \u001b[0mkwds\u001b[0m\u001b[1;33m)\u001b[0m\u001b[1;33m\u001b[0m\u001b[1;33m\u001b[0m\u001b[0m\n\u001b[0m\u001b[0;32m    687\u001b[0m \u001b[1;33m\u001b[0m\u001b[0m\n\u001b[0;32m    688\u001b[0m \u001b[1;33m\u001b[0m\u001b[0m\n",
      "\u001b[1;32m~\\anaconda3\\lib\\site-packages\\pandas\\io\\parsers.py\u001b[0m in \u001b[0;36m_read\u001b[1;34m(filepath_or_buffer, kwds)\u001b[0m\n\u001b[0;32m    450\u001b[0m \u001b[1;33m\u001b[0m\u001b[0m\n\u001b[0;32m    451\u001b[0m     \u001b[1;31m# Create the parser.\u001b[0m\u001b[1;33m\u001b[0m\u001b[1;33m\u001b[0m\u001b[1;33m\u001b[0m\u001b[0m\n\u001b[1;32m--> 452\u001b[1;33m     \u001b[0mparser\u001b[0m \u001b[1;33m=\u001b[0m \u001b[0mTextFileReader\u001b[0m\u001b[1;33m(\u001b[0m\u001b[0mfp_or_buf\u001b[0m\u001b[1;33m,\u001b[0m \u001b[1;33m**\u001b[0m\u001b[0mkwds\u001b[0m\u001b[1;33m)\u001b[0m\u001b[1;33m\u001b[0m\u001b[1;33m\u001b[0m\u001b[0m\n\u001b[0m\u001b[0;32m    453\u001b[0m \u001b[1;33m\u001b[0m\u001b[0m\n\u001b[0;32m    454\u001b[0m     \u001b[1;32mif\u001b[0m \u001b[0mchunksize\u001b[0m \u001b[1;32mor\u001b[0m \u001b[0miterator\u001b[0m\u001b[1;33m:\u001b[0m\u001b[1;33m\u001b[0m\u001b[1;33m\u001b[0m\u001b[0m\n",
      "\u001b[1;32m~\\anaconda3\\lib\\site-packages\\pandas\\io\\parsers.py\u001b[0m in \u001b[0;36m__init__\u001b[1;34m(self, f, engine, **kwds)\u001b[0m\n\u001b[0;32m    944\u001b[0m             \u001b[0mself\u001b[0m\u001b[1;33m.\u001b[0m\u001b[0moptions\u001b[0m\u001b[1;33m[\u001b[0m\u001b[1;34m\"has_index_names\"\u001b[0m\u001b[1;33m]\u001b[0m \u001b[1;33m=\u001b[0m \u001b[0mkwds\u001b[0m\u001b[1;33m[\u001b[0m\u001b[1;34m\"has_index_names\"\u001b[0m\u001b[1;33m]\u001b[0m\u001b[1;33m\u001b[0m\u001b[1;33m\u001b[0m\u001b[0m\n\u001b[0;32m    945\u001b[0m \u001b[1;33m\u001b[0m\u001b[0m\n\u001b[1;32m--> 946\u001b[1;33m         \u001b[0mself\u001b[0m\u001b[1;33m.\u001b[0m\u001b[0m_make_engine\u001b[0m\u001b[1;33m(\u001b[0m\u001b[0mself\u001b[0m\u001b[1;33m.\u001b[0m\u001b[0mengine\u001b[0m\u001b[1;33m)\u001b[0m\u001b[1;33m\u001b[0m\u001b[1;33m\u001b[0m\u001b[0m\n\u001b[0m\u001b[0;32m    947\u001b[0m \u001b[1;33m\u001b[0m\u001b[0m\n\u001b[0;32m    948\u001b[0m     \u001b[1;32mdef\u001b[0m \u001b[0mclose\u001b[0m\u001b[1;33m(\u001b[0m\u001b[0mself\u001b[0m\u001b[1;33m)\u001b[0m\u001b[1;33m:\u001b[0m\u001b[1;33m\u001b[0m\u001b[1;33m\u001b[0m\u001b[0m\n",
      "\u001b[1;32m~\\anaconda3\\lib\\site-packages\\pandas\\io\\parsers.py\u001b[0m in \u001b[0;36m_make_engine\u001b[1;34m(self, engine)\u001b[0m\n\u001b[0;32m   1176\u001b[0m     \u001b[1;32mdef\u001b[0m \u001b[0m_make_engine\u001b[0m\u001b[1;33m(\u001b[0m\u001b[0mself\u001b[0m\u001b[1;33m,\u001b[0m \u001b[0mengine\u001b[0m\u001b[1;33m=\u001b[0m\u001b[1;34m\"c\"\u001b[0m\u001b[1;33m)\u001b[0m\u001b[1;33m:\u001b[0m\u001b[1;33m\u001b[0m\u001b[1;33m\u001b[0m\u001b[0m\n\u001b[0;32m   1177\u001b[0m         \u001b[1;32mif\u001b[0m \u001b[0mengine\u001b[0m \u001b[1;33m==\u001b[0m \u001b[1;34m\"c\"\u001b[0m\u001b[1;33m:\u001b[0m\u001b[1;33m\u001b[0m\u001b[1;33m\u001b[0m\u001b[0m\n\u001b[1;32m-> 1178\u001b[1;33m             \u001b[0mself\u001b[0m\u001b[1;33m.\u001b[0m\u001b[0m_engine\u001b[0m \u001b[1;33m=\u001b[0m \u001b[0mCParserWrapper\u001b[0m\u001b[1;33m(\u001b[0m\u001b[0mself\u001b[0m\u001b[1;33m.\u001b[0m\u001b[0mf\u001b[0m\u001b[1;33m,\u001b[0m \u001b[1;33m**\u001b[0m\u001b[0mself\u001b[0m\u001b[1;33m.\u001b[0m\u001b[0moptions\u001b[0m\u001b[1;33m)\u001b[0m\u001b[1;33m\u001b[0m\u001b[1;33m\u001b[0m\u001b[0m\n\u001b[0m\u001b[0;32m   1179\u001b[0m         \u001b[1;32melse\u001b[0m\u001b[1;33m:\u001b[0m\u001b[1;33m\u001b[0m\u001b[1;33m\u001b[0m\u001b[0m\n\u001b[0;32m   1180\u001b[0m             \u001b[1;32mif\u001b[0m \u001b[0mengine\u001b[0m \u001b[1;33m==\u001b[0m \u001b[1;34m\"python\"\u001b[0m\u001b[1;33m:\u001b[0m\u001b[1;33m\u001b[0m\u001b[1;33m\u001b[0m\u001b[0m\n",
      "\u001b[1;32m~\\anaconda3\\lib\\site-packages\\pandas\\io\\parsers.py\u001b[0m in \u001b[0;36m__init__\u001b[1;34m(self, src, **kwds)\u001b[0m\n\u001b[0;32m   2006\u001b[0m         \u001b[0mkwds\u001b[0m\u001b[1;33m[\u001b[0m\u001b[1;34m\"usecols\"\u001b[0m\u001b[1;33m]\u001b[0m \u001b[1;33m=\u001b[0m \u001b[0mself\u001b[0m\u001b[1;33m.\u001b[0m\u001b[0musecols\u001b[0m\u001b[1;33m\u001b[0m\u001b[1;33m\u001b[0m\u001b[0m\n\u001b[0;32m   2007\u001b[0m \u001b[1;33m\u001b[0m\u001b[0m\n\u001b[1;32m-> 2008\u001b[1;33m         \u001b[0mself\u001b[0m\u001b[1;33m.\u001b[0m\u001b[0m_reader\u001b[0m \u001b[1;33m=\u001b[0m \u001b[0mparsers\u001b[0m\u001b[1;33m.\u001b[0m\u001b[0mTextReader\u001b[0m\u001b[1;33m(\u001b[0m\u001b[0msrc\u001b[0m\u001b[1;33m,\u001b[0m \u001b[1;33m**\u001b[0m\u001b[0mkwds\u001b[0m\u001b[1;33m)\u001b[0m\u001b[1;33m\u001b[0m\u001b[1;33m\u001b[0m\u001b[0m\n\u001b[0m\u001b[0;32m   2009\u001b[0m         \u001b[0mself\u001b[0m\u001b[1;33m.\u001b[0m\u001b[0munnamed_cols\u001b[0m \u001b[1;33m=\u001b[0m \u001b[0mself\u001b[0m\u001b[1;33m.\u001b[0m\u001b[0m_reader\u001b[0m\u001b[1;33m.\u001b[0m\u001b[0munnamed_cols\u001b[0m\u001b[1;33m\u001b[0m\u001b[1;33m\u001b[0m\u001b[0m\n\u001b[0;32m   2010\u001b[0m \u001b[1;33m\u001b[0m\u001b[0m\n",
      "\u001b[1;32mpandas\\_libs\\parsers.pyx\u001b[0m in \u001b[0;36mpandas._libs.parsers.TextReader.__cinit__\u001b[1;34m()\u001b[0m\n",
      "\u001b[1;32mpandas\\_libs\\parsers.pyx\u001b[0m in \u001b[0;36mpandas._libs.parsers.TextReader._setup_parser_source\u001b[1;34m()\u001b[0m\n",
      "\u001b[1;31mFileNotFoundError\u001b[0m: [Errno 2] No such file or directory: 'C:\\\\Users\\\\Bryan\\\\Desktop\\\\Basketball-Stats\\\\Database\\\\Jupyter Notebook\\\\Web_Scrapers\\\\Output\\\\Player_Name\\\\player_names.csv'"
     ]
    }
   ],
   "source": [
    "from Insert_DB import *"
   ]
  },
  {
   "cell_type": "markdown",
   "metadata": {},
   "source": [
    "# <font color='blue'> /Call_Queries </font>"
   ]
  },
  {
   "cell_type": "markdown",
   "metadata": {},
   "source": [
    "## /Played_For_Teams"
   ]
  },
  {
   "cell_type": "markdown",
   "metadata": {},
   "source": [
    "## Call_Query_Team\n",
    "### `call_query_all_team_sid(season_id):`\n",
    "<strong>Parameters:</strong><br>\n",
    "- `season_id` - is a unique int that represents the NBA season\n",
    "\n",
    "<strong>Returns:</strong><br>\n",
    "A pandas dataframe containing the following columns based on `Season_ID`\n",
    "```\n",
    " ['Season_ID', 'Team_ID', 'Team_Name', 'Team_ABV']\n",
    "```\n",
    "Where `Season_ID` equals the input parameter `season_id`\n",
    "\n",
    "### `call_query_all_team_tid(team_id):`\n",
    "<strong>Parameters:</strong><br>\n",
    "- `team_id` - is a unique int that represents a NBA team\n",
    "\n",
    "<strong>Returns:</strong><br>\n",
    "A pandas dataframe containing the following columns based on `Team_ID`\n",
    "```\n",
    " ['Season_ID', 'Team_ID', 'Team_Name', 'Team_ABV']\n",
    "```\n",
    "Where `Team_ID` equals the input parameter `team_id`\n",
    "\n",
    "### `call_query_all_team_name(team_name):`\n",
    "<strong>Parameters:</strong><br>\n",
    "- `team_name` - is a string that represents a NBA team's name\n",
    "\n",
    "<strong>Returns:</strong><br>\n",
    "A pandas dataframe containing the following columns based on `Team_Name`\n",
    "```\n",
    " ['Season_ID', 'Team_ID', 'Team_Name', 'Team_ABV']\n",
    "```\n",
    "Where `Team_Name` equals the input parameter `team_name`\n",
    "\n",
    "### `call_query_all_team_abv(team_abv):`\n",
    "<strong>Parameters:</strong><br>\n",
    "- `team_abv` - is a string that represents an abbreviation of a NBA team's name\n",
    "\n",
    "<strong>Returns:</strong><br>\n",
    "A pandas dataframe containing the following columns based on `Team_ABV`\n",
    "```\n",
    " ['Season_ID', 'Team_ID', 'Team_Name', 'Team_ABV']\n",
    "```\n",
    "Where `Team_ABV` equals the input parameter `team_abv`<br>\n",
    "\n",
    "### `call_query_team_name(team_name):`\n",
    "<strong>Parameters:</strong><br>\n",
    "- `team_name` - is a string that represents a NBA team's name\n",
    "\n",
    "<strong>Returns:</strong><br>\n",
    "Returns the primary key, `Team_ID` based on its `team_name`\n",
    "\n",
    "### `call_query_team_abv(team_abv):`\n",
    "<strong>Parameters:</strong><br>\n",
    "- `team_abv` - is a string that represents an abbreviation of a NBA team's name\n",
    "\n",
    "<strong>Returns:</strong><br>\n",
    "Returns the primary key, `Team_ID` based on its `team_abv`"
   ]
  },
  {
   "cell_type": "markdown",
   "metadata": {},
   "source": [
    "### <font color='red'>Import the Functions from Call_Query_Team</font>"
   ]
  },
  {
   "cell_type": "code",
   "execution_count": 2,
   "metadata": {},
   "outputs": [],
   "source": [
    "# Import Call_Query_Team\n",
    "from Call_Query_Team import *"
   ]
  },
  {
   "cell_type": "markdown",
   "metadata": {},
   "source": [
    "### Output for Call_Query_Team"
   ]
  },
  {
   "cell_type": "code",
   "execution_count": 3,
   "metadata": {},
   "outputs": [
    {
     "data": {
      "text/html": [
       "<div>\n",
       "<style scoped>\n",
       "    .dataframe tbody tr th:only-of-type {\n",
       "        vertical-align: middle;\n",
       "    }\n",
       "\n",
       "    .dataframe tbody tr th {\n",
       "        vertical-align: top;\n",
       "    }\n",
       "\n",
       "    .dataframe thead th {\n",
       "        text-align: right;\n",
       "    }\n",
       "</style>\n",
       "<table border=\"1\" class=\"dataframe\">\n",
       "  <thead>\n",
       "    <tr style=\"text-align: right;\">\n",
       "      <th></th>\n",
       "      <th>Season_ID</th>\n",
       "      <th>Team_ID</th>\n",
       "      <th>Team_Name</th>\n",
       "      <th>Team_ABV</th>\n",
       "    </tr>\n",
       "  </thead>\n",
       "  <tbody>\n",
       "    <tr>\n",
       "      <th>0</th>\n",
       "      <td>2020</td>\n",
       "      <td>1</td>\n",
       "      <td>Atlanta Hawks</td>\n",
       "      <td>ATL</td>\n",
       "    </tr>\n",
       "    <tr>\n",
       "      <th>1</th>\n",
       "      <td>2020</td>\n",
       "      <td>2</td>\n",
       "      <td>Boston Celtics</td>\n",
       "      <td>BOS</td>\n",
       "    </tr>\n",
       "    <tr>\n",
       "      <th>2</th>\n",
       "      <td>2020</td>\n",
       "      <td>3</td>\n",
       "      <td>Brooklyn Nets</td>\n",
       "      <td>BRK</td>\n",
       "    </tr>\n",
       "    <tr>\n",
       "      <th>3</th>\n",
       "      <td>2020</td>\n",
       "      <td>4</td>\n",
       "      <td>Charlotte Hornets</td>\n",
       "      <td>CHO</td>\n",
       "    </tr>\n",
       "    <tr>\n",
       "      <th>4</th>\n",
       "      <td>2020</td>\n",
       "      <td>5</td>\n",
       "      <td>Chicago Bulls</td>\n",
       "      <td>CHI</td>\n",
       "    </tr>\n",
       "    <tr>\n",
       "      <th>5</th>\n",
       "      <td>2020</td>\n",
       "      <td>6</td>\n",
       "      <td>Cleveland Cavaliers</td>\n",
       "      <td>CLE</td>\n",
       "    </tr>\n",
       "    <tr>\n",
       "      <th>6</th>\n",
       "      <td>2020</td>\n",
       "      <td>7</td>\n",
       "      <td>Dallas Mavericks</td>\n",
       "      <td>DAL</td>\n",
       "    </tr>\n",
       "    <tr>\n",
       "      <th>7</th>\n",
       "      <td>2020</td>\n",
       "      <td>8</td>\n",
       "      <td>Denver Nuggets</td>\n",
       "      <td>DEN</td>\n",
       "    </tr>\n",
       "    <tr>\n",
       "      <th>8</th>\n",
       "      <td>2020</td>\n",
       "      <td>9</td>\n",
       "      <td>Detroit Pistons</td>\n",
       "      <td>DET</td>\n",
       "    </tr>\n",
       "    <tr>\n",
       "      <th>9</th>\n",
       "      <td>2020</td>\n",
       "      <td>10</td>\n",
       "      <td>Golden State Warriors</td>\n",
       "      <td>GSW</td>\n",
       "    </tr>\n",
       "    <tr>\n",
       "      <th>10</th>\n",
       "      <td>2020</td>\n",
       "      <td>11</td>\n",
       "      <td>Houston Rockets</td>\n",
       "      <td>HOU</td>\n",
       "    </tr>\n",
       "    <tr>\n",
       "      <th>11</th>\n",
       "      <td>2020</td>\n",
       "      <td>12</td>\n",
       "      <td>Indiana Pacers</td>\n",
       "      <td>IND</td>\n",
       "    </tr>\n",
       "    <tr>\n",
       "      <th>12</th>\n",
       "      <td>2020</td>\n",
       "      <td>13</td>\n",
       "      <td>Los Angeles Clippers</td>\n",
       "      <td>LAC</td>\n",
       "    </tr>\n",
       "    <tr>\n",
       "      <th>13</th>\n",
       "      <td>2020</td>\n",
       "      <td>14</td>\n",
       "      <td>Los Angeles Lakers</td>\n",
       "      <td>LAL</td>\n",
       "    </tr>\n",
       "    <tr>\n",
       "      <th>14</th>\n",
       "      <td>2020</td>\n",
       "      <td>15</td>\n",
       "      <td>Memphis Grizzlies</td>\n",
       "      <td>MEM</td>\n",
       "    </tr>\n",
       "    <tr>\n",
       "      <th>15</th>\n",
       "      <td>2020</td>\n",
       "      <td>16</td>\n",
       "      <td>Miami Heat</td>\n",
       "      <td>MIA</td>\n",
       "    </tr>\n",
       "    <tr>\n",
       "      <th>16</th>\n",
       "      <td>2020</td>\n",
       "      <td>17</td>\n",
       "      <td>Milwaukee Bucks</td>\n",
       "      <td>MIL</td>\n",
       "    </tr>\n",
       "    <tr>\n",
       "      <th>17</th>\n",
       "      <td>2020</td>\n",
       "      <td>18</td>\n",
       "      <td>Minnesota Timberwolves</td>\n",
       "      <td>MIN</td>\n",
       "    </tr>\n",
       "    <tr>\n",
       "      <th>18</th>\n",
       "      <td>2020</td>\n",
       "      <td>19</td>\n",
       "      <td>New Orleans Pelicans</td>\n",
       "      <td>NOP</td>\n",
       "    </tr>\n",
       "    <tr>\n",
       "      <th>19</th>\n",
       "      <td>2020</td>\n",
       "      <td>20</td>\n",
       "      <td>New York Knicks</td>\n",
       "      <td>NYK</td>\n",
       "    </tr>\n",
       "    <tr>\n",
       "      <th>20</th>\n",
       "      <td>2020</td>\n",
       "      <td>21</td>\n",
       "      <td>Oklahoma City Thunder</td>\n",
       "      <td>OKC</td>\n",
       "    </tr>\n",
       "    <tr>\n",
       "      <th>21</th>\n",
       "      <td>2020</td>\n",
       "      <td>22</td>\n",
       "      <td>Orlando Magic</td>\n",
       "      <td>ORL</td>\n",
       "    </tr>\n",
       "    <tr>\n",
       "      <th>22</th>\n",
       "      <td>2020</td>\n",
       "      <td>23</td>\n",
       "      <td>Philadelphia 76Ers</td>\n",
       "      <td>PHI</td>\n",
       "    </tr>\n",
       "    <tr>\n",
       "      <th>23</th>\n",
       "      <td>2020</td>\n",
       "      <td>24</td>\n",
       "      <td>Phoenix Suns</td>\n",
       "      <td>PHO</td>\n",
       "    </tr>\n",
       "    <tr>\n",
       "      <th>24</th>\n",
       "      <td>2020</td>\n",
       "      <td>25</td>\n",
       "      <td>Portland Trail Blazers</td>\n",
       "      <td>POR</td>\n",
       "    </tr>\n",
       "    <tr>\n",
       "      <th>25</th>\n",
       "      <td>2020</td>\n",
       "      <td>26</td>\n",
       "      <td>Sacramento Kings</td>\n",
       "      <td>SAC</td>\n",
       "    </tr>\n",
       "    <tr>\n",
       "      <th>26</th>\n",
       "      <td>2020</td>\n",
       "      <td>27</td>\n",
       "      <td>San Antonio Spurs</td>\n",
       "      <td>SAS</td>\n",
       "    </tr>\n",
       "    <tr>\n",
       "      <th>27</th>\n",
       "      <td>2020</td>\n",
       "      <td>28</td>\n",
       "      <td>Toronto Raptors</td>\n",
       "      <td>TOR</td>\n",
       "    </tr>\n",
       "    <tr>\n",
       "      <th>28</th>\n",
       "      <td>2020</td>\n",
       "      <td>29</td>\n",
       "      <td>Utah Jazz</td>\n",
       "      <td>UTA</td>\n",
       "    </tr>\n",
       "    <tr>\n",
       "      <th>29</th>\n",
       "      <td>2020</td>\n",
       "      <td>30</td>\n",
       "      <td>Washington Wizards</td>\n",
       "      <td>WAS</td>\n",
       "    </tr>\n",
       "    <tr>\n",
       "      <th>30</th>\n",
       "      <td>2020</td>\n",
       "      <td>31</td>\n",
       "      <td>Total After Trade</td>\n",
       "      <td>TOT</td>\n",
       "    </tr>\n",
       "  </tbody>\n",
       "</table>\n",
       "</div>"
      ],
      "text/plain": [
       "    Season_ID  Team_ID               Team_Name Team_ABV\n",
       "0        2020        1           Atlanta Hawks      ATL\n",
       "1        2020        2          Boston Celtics      BOS\n",
       "2        2020        3           Brooklyn Nets      BRK\n",
       "3        2020        4       Charlotte Hornets      CHO\n",
       "4        2020        5           Chicago Bulls      CHI\n",
       "5        2020        6     Cleveland Cavaliers      CLE\n",
       "6        2020        7        Dallas Mavericks      DAL\n",
       "7        2020        8          Denver Nuggets      DEN\n",
       "8        2020        9         Detroit Pistons      DET\n",
       "9        2020       10   Golden State Warriors      GSW\n",
       "10       2020       11         Houston Rockets      HOU\n",
       "11       2020       12          Indiana Pacers      IND\n",
       "12       2020       13    Los Angeles Clippers      LAC\n",
       "13       2020       14      Los Angeles Lakers      LAL\n",
       "14       2020       15       Memphis Grizzlies      MEM\n",
       "15       2020       16              Miami Heat      MIA\n",
       "16       2020       17         Milwaukee Bucks      MIL\n",
       "17       2020       18  Minnesota Timberwolves      MIN\n",
       "18       2020       19    New Orleans Pelicans      NOP\n",
       "19       2020       20         New York Knicks      NYK\n",
       "20       2020       21   Oklahoma City Thunder      OKC\n",
       "21       2020       22           Orlando Magic      ORL\n",
       "22       2020       23      Philadelphia 76Ers      PHI\n",
       "23       2020       24            Phoenix Suns      PHO\n",
       "24       2020       25  Portland Trail Blazers      POR\n",
       "25       2020       26        Sacramento Kings      SAC\n",
       "26       2020       27       San Antonio Spurs      SAS\n",
       "27       2020       28         Toronto Raptors      TOR\n",
       "28       2020       29               Utah Jazz      UTA\n",
       "29       2020       30      Washington Wizards      WAS\n",
       "30       2020       31       Total After Trade      TOT"
      ]
     },
     "execution_count": 3,
     "metadata": {},
     "output_type": "execute_result"
    }
   ],
   "source": [
    "# Output call_query_all_team_sid for season_id = 2020\n",
    "df = call_query_all_team_sid(2020)\n",
    "df"
   ]
  },
  {
   "cell_type": "code",
   "execution_count": 4,
   "metadata": {},
   "outputs": [
    {
     "data": {
      "text/html": [
       "<div>\n",
       "<style scoped>\n",
       "    .dataframe tbody tr th:only-of-type {\n",
       "        vertical-align: middle;\n",
       "    }\n",
       "\n",
       "    .dataframe tbody tr th {\n",
       "        vertical-align: top;\n",
       "    }\n",
       "\n",
       "    .dataframe thead th {\n",
       "        text-align: right;\n",
       "    }\n",
       "</style>\n",
       "<table border=\"1\" class=\"dataframe\">\n",
       "  <thead>\n",
       "    <tr style=\"text-align: right;\">\n",
       "      <th></th>\n",
       "      <th>Season_ID</th>\n",
       "      <th>Team_ID</th>\n",
       "      <th>Team_Name</th>\n",
       "      <th>Team_ABV</th>\n",
       "    </tr>\n",
       "  </thead>\n",
       "  <tbody>\n",
       "    <tr>\n",
       "      <th>0</th>\n",
       "      <td>1980</td>\n",
       "      <td>2</td>\n",
       "      <td>Boston Celtics</td>\n",
       "      <td>BOS</td>\n",
       "    </tr>\n",
       "    <tr>\n",
       "      <th>1</th>\n",
       "      <td>1981</td>\n",
       "      <td>2</td>\n",
       "      <td>Boston Celtics</td>\n",
       "      <td>BOS</td>\n",
       "    </tr>\n",
       "    <tr>\n",
       "      <th>2</th>\n",
       "      <td>1982</td>\n",
       "      <td>2</td>\n",
       "      <td>Boston Celtics</td>\n",
       "      <td>BOS</td>\n",
       "    </tr>\n",
       "    <tr>\n",
       "      <th>3</th>\n",
       "      <td>1983</td>\n",
       "      <td>2</td>\n",
       "      <td>Boston Celtics</td>\n",
       "      <td>BOS</td>\n",
       "    </tr>\n",
       "    <tr>\n",
       "      <th>4</th>\n",
       "      <td>1984</td>\n",
       "      <td>2</td>\n",
       "      <td>Boston Celtics</td>\n",
       "      <td>BOS</td>\n",
       "    </tr>\n",
       "    <tr>\n",
       "      <th>5</th>\n",
       "      <td>1985</td>\n",
       "      <td>2</td>\n",
       "      <td>Boston Celtics</td>\n",
       "      <td>BOS</td>\n",
       "    </tr>\n",
       "    <tr>\n",
       "      <th>6</th>\n",
       "      <td>1986</td>\n",
       "      <td>2</td>\n",
       "      <td>Boston Celtics</td>\n",
       "      <td>BOS</td>\n",
       "    </tr>\n",
       "    <tr>\n",
       "      <th>7</th>\n",
       "      <td>1987</td>\n",
       "      <td>2</td>\n",
       "      <td>Boston Celtics</td>\n",
       "      <td>BOS</td>\n",
       "    </tr>\n",
       "    <tr>\n",
       "      <th>8</th>\n",
       "      <td>1988</td>\n",
       "      <td>2</td>\n",
       "      <td>Boston Celtics</td>\n",
       "      <td>BOS</td>\n",
       "    </tr>\n",
       "    <tr>\n",
       "      <th>9</th>\n",
       "      <td>1989</td>\n",
       "      <td>2</td>\n",
       "      <td>Boston Celtics</td>\n",
       "      <td>BOS</td>\n",
       "    </tr>\n",
       "    <tr>\n",
       "      <th>10</th>\n",
       "      <td>1990</td>\n",
       "      <td>2</td>\n",
       "      <td>Boston Celtics</td>\n",
       "      <td>BOS</td>\n",
       "    </tr>\n",
       "    <tr>\n",
       "      <th>11</th>\n",
       "      <td>1991</td>\n",
       "      <td>2</td>\n",
       "      <td>Boston Celtics</td>\n",
       "      <td>BOS</td>\n",
       "    </tr>\n",
       "    <tr>\n",
       "      <th>12</th>\n",
       "      <td>1992</td>\n",
       "      <td>2</td>\n",
       "      <td>Boston Celtics</td>\n",
       "      <td>BOS</td>\n",
       "    </tr>\n",
       "    <tr>\n",
       "      <th>13</th>\n",
       "      <td>1993</td>\n",
       "      <td>2</td>\n",
       "      <td>Boston Celtics</td>\n",
       "      <td>BOS</td>\n",
       "    </tr>\n",
       "    <tr>\n",
       "      <th>14</th>\n",
       "      <td>1994</td>\n",
       "      <td>2</td>\n",
       "      <td>Boston Celtics</td>\n",
       "      <td>BOS</td>\n",
       "    </tr>\n",
       "    <tr>\n",
       "      <th>15</th>\n",
       "      <td>1995</td>\n",
       "      <td>2</td>\n",
       "      <td>Boston Celtics</td>\n",
       "      <td>BOS</td>\n",
       "    </tr>\n",
       "    <tr>\n",
       "      <th>16</th>\n",
       "      <td>1996</td>\n",
       "      <td>2</td>\n",
       "      <td>Boston Celtics</td>\n",
       "      <td>BOS</td>\n",
       "    </tr>\n",
       "    <tr>\n",
       "      <th>17</th>\n",
       "      <td>1997</td>\n",
       "      <td>2</td>\n",
       "      <td>Boston Celtics</td>\n",
       "      <td>BOS</td>\n",
       "    </tr>\n",
       "    <tr>\n",
       "      <th>18</th>\n",
       "      <td>1998</td>\n",
       "      <td>2</td>\n",
       "      <td>Boston Celtics</td>\n",
       "      <td>BOS</td>\n",
       "    </tr>\n",
       "    <tr>\n",
       "      <th>19</th>\n",
       "      <td>1999</td>\n",
       "      <td>2</td>\n",
       "      <td>Boston Celtics</td>\n",
       "      <td>BOS</td>\n",
       "    </tr>\n",
       "    <tr>\n",
       "      <th>20</th>\n",
       "      <td>2000</td>\n",
       "      <td>2</td>\n",
       "      <td>Boston Celtics</td>\n",
       "      <td>BOS</td>\n",
       "    </tr>\n",
       "    <tr>\n",
       "      <th>21</th>\n",
       "      <td>2001</td>\n",
       "      <td>2</td>\n",
       "      <td>Boston Celtics</td>\n",
       "      <td>BOS</td>\n",
       "    </tr>\n",
       "    <tr>\n",
       "      <th>22</th>\n",
       "      <td>2002</td>\n",
       "      <td>2</td>\n",
       "      <td>Boston Celtics</td>\n",
       "      <td>BOS</td>\n",
       "    </tr>\n",
       "    <tr>\n",
       "      <th>23</th>\n",
       "      <td>2003</td>\n",
       "      <td>2</td>\n",
       "      <td>Boston Celtics</td>\n",
       "      <td>BOS</td>\n",
       "    </tr>\n",
       "    <tr>\n",
       "      <th>24</th>\n",
       "      <td>2004</td>\n",
       "      <td>2</td>\n",
       "      <td>Boston Celtics</td>\n",
       "      <td>BOS</td>\n",
       "    </tr>\n",
       "    <tr>\n",
       "      <th>25</th>\n",
       "      <td>2005</td>\n",
       "      <td>2</td>\n",
       "      <td>Boston Celtics</td>\n",
       "      <td>BOS</td>\n",
       "    </tr>\n",
       "    <tr>\n",
       "      <th>26</th>\n",
       "      <td>2006</td>\n",
       "      <td>2</td>\n",
       "      <td>Boston Celtics</td>\n",
       "      <td>BOS</td>\n",
       "    </tr>\n",
       "    <tr>\n",
       "      <th>27</th>\n",
       "      <td>2007</td>\n",
       "      <td>2</td>\n",
       "      <td>Boston Celtics</td>\n",
       "      <td>BOS</td>\n",
       "    </tr>\n",
       "    <tr>\n",
       "      <th>28</th>\n",
       "      <td>2008</td>\n",
       "      <td>2</td>\n",
       "      <td>Boston Celtics</td>\n",
       "      <td>BOS</td>\n",
       "    </tr>\n",
       "    <tr>\n",
       "      <th>29</th>\n",
       "      <td>2009</td>\n",
       "      <td>2</td>\n",
       "      <td>Boston Celtics</td>\n",
       "      <td>BOS</td>\n",
       "    </tr>\n",
       "    <tr>\n",
       "      <th>30</th>\n",
       "      <td>2010</td>\n",
       "      <td>2</td>\n",
       "      <td>Boston Celtics</td>\n",
       "      <td>BOS</td>\n",
       "    </tr>\n",
       "    <tr>\n",
       "      <th>31</th>\n",
       "      <td>2011</td>\n",
       "      <td>2</td>\n",
       "      <td>Boston Celtics</td>\n",
       "      <td>BOS</td>\n",
       "    </tr>\n",
       "    <tr>\n",
       "      <th>32</th>\n",
       "      <td>2012</td>\n",
       "      <td>2</td>\n",
       "      <td>Boston Celtics</td>\n",
       "      <td>BOS</td>\n",
       "    </tr>\n",
       "    <tr>\n",
       "      <th>33</th>\n",
       "      <td>2013</td>\n",
       "      <td>2</td>\n",
       "      <td>Boston Celtics</td>\n",
       "      <td>BOS</td>\n",
       "    </tr>\n",
       "    <tr>\n",
       "      <th>34</th>\n",
       "      <td>2014</td>\n",
       "      <td>2</td>\n",
       "      <td>Boston Celtics</td>\n",
       "      <td>BOS</td>\n",
       "    </tr>\n",
       "    <tr>\n",
       "      <th>35</th>\n",
       "      <td>2015</td>\n",
       "      <td>2</td>\n",
       "      <td>Boston Celtics</td>\n",
       "      <td>BOS</td>\n",
       "    </tr>\n",
       "    <tr>\n",
       "      <th>36</th>\n",
       "      <td>2016</td>\n",
       "      <td>2</td>\n",
       "      <td>Boston Celtics</td>\n",
       "      <td>BOS</td>\n",
       "    </tr>\n",
       "    <tr>\n",
       "      <th>37</th>\n",
       "      <td>2017</td>\n",
       "      <td>2</td>\n",
       "      <td>Boston Celtics</td>\n",
       "      <td>BOS</td>\n",
       "    </tr>\n",
       "    <tr>\n",
       "      <th>38</th>\n",
       "      <td>2018</td>\n",
       "      <td>2</td>\n",
       "      <td>Boston Celtics</td>\n",
       "      <td>BOS</td>\n",
       "    </tr>\n",
       "    <tr>\n",
       "      <th>39</th>\n",
       "      <td>2019</td>\n",
       "      <td>2</td>\n",
       "      <td>Boston Celtics</td>\n",
       "      <td>BOS</td>\n",
       "    </tr>\n",
       "    <tr>\n",
       "      <th>40</th>\n",
       "      <td>2020</td>\n",
       "      <td>2</td>\n",
       "      <td>Boston Celtics</td>\n",
       "      <td>BOS</td>\n",
       "    </tr>\n",
       "  </tbody>\n",
       "</table>\n",
       "</div>"
      ],
      "text/plain": [
       "    Season_ID  Team_ID       Team_Name Team_ABV\n",
       "0        1980        2  Boston Celtics      BOS\n",
       "1        1981        2  Boston Celtics      BOS\n",
       "2        1982        2  Boston Celtics      BOS\n",
       "3        1983        2  Boston Celtics      BOS\n",
       "4        1984        2  Boston Celtics      BOS\n",
       "5        1985        2  Boston Celtics      BOS\n",
       "6        1986        2  Boston Celtics      BOS\n",
       "7        1987        2  Boston Celtics      BOS\n",
       "8        1988        2  Boston Celtics      BOS\n",
       "9        1989        2  Boston Celtics      BOS\n",
       "10       1990        2  Boston Celtics      BOS\n",
       "11       1991        2  Boston Celtics      BOS\n",
       "12       1992        2  Boston Celtics      BOS\n",
       "13       1993        2  Boston Celtics      BOS\n",
       "14       1994        2  Boston Celtics      BOS\n",
       "15       1995        2  Boston Celtics      BOS\n",
       "16       1996        2  Boston Celtics      BOS\n",
       "17       1997        2  Boston Celtics      BOS\n",
       "18       1998        2  Boston Celtics      BOS\n",
       "19       1999        2  Boston Celtics      BOS\n",
       "20       2000        2  Boston Celtics      BOS\n",
       "21       2001        2  Boston Celtics      BOS\n",
       "22       2002        2  Boston Celtics      BOS\n",
       "23       2003        2  Boston Celtics      BOS\n",
       "24       2004        2  Boston Celtics      BOS\n",
       "25       2005        2  Boston Celtics      BOS\n",
       "26       2006        2  Boston Celtics      BOS\n",
       "27       2007        2  Boston Celtics      BOS\n",
       "28       2008        2  Boston Celtics      BOS\n",
       "29       2009        2  Boston Celtics      BOS\n",
       "30       2010        2  Boston Celtics      BOS\n",
       "31       2011        2  Boston Celtics      BOS\n",
       "32       2012        2  Boston Celtics      BOS\n",
       "33       2013        2  Boston Celtics      BOS\n",
       "34       2014        2  Boston Celtics      BOS\n",
       "35       2015        2  Boston Celtics      BOS\n",
       "36       2016        2  Boston Celtics      BOS\n",
       "37       2017        2  Boston Celtics      BOS\n",
       "38       2018        2  Boston Celtics      BOS\n",
       "39       2019        2  Boston Celtics      BOS\n",
       "40       2020        2  Boston Celtics      BOS"
      ]
     },
     "execution_count": 4,
     "metadata": {},
     "output_type": "execute_result"
    }
   ],
   "source": [
    "# Output call_query_all_team_id for team_id = 2\n",
    "df = call_query_all_team_tid(2)\n",
    "df"
   ]
  },
  {
   "cell_type": "code",
   "execution_count": 4,
   "metadata": {},
   "outputs": [
    {
     "data": {
      "text/html": [
       "<div>\n",
       "<style scoped>\n",
       "    .dataframe tbody tr th:only-of-type {\n",
       "        vertical-align: middle;\n",
       "    }\n",
       "\n",
       "    .dataframe tbody tr th {\n",
       "        vertical-align: top;\n",
       "    }\n",
       "\n",
       "    .dataframe thead th {\n",
       "        text-align: right;\n",
       "    }\n",
       "</style>\n",
       "<table border=\"1\" class=\"dataframe\">\n",
       "  <thead>\n",
       "    <tr style=\"text-align: right;\">\n",
       "      <th></th>\n",
       "      <th>Season_ID</th>\n",
       "      <th>Team_ID</th>\n",
       "      <th>Team_Name</th>\n",
       "      <th>Team_ABV</th>\n",
       "    </tr>\n",
       "  </thead>\n",
       "  <tbody>\n",
       "    <tr>\n",
       "      <th>0</th>\n",
       "      <td>1980</td>\n",
       "      <td>2</td>\n",
       "      <td>Boston Celtics</td>\n",
       "      <td>BOS</td>\n",
       "    </tr>\n",
       "    <tr>\n",
       "      <th>1</th>\n",
       "      <td>1981</td>\n",
       "      <td>2</td>\n",
       "      <td>Boston Celtics</td>\n",
       "      <td>BOS</td>\n",
       "    </tr>\n",
       "    <tr>\n",
       "      <th>2</th>\n",
       "      <td>1982</td>\n",
       "      <td>2</td>\n",
       "      <td>Boston Celtics</td>\n",
       "      <td>BOS</td>\n",
       "    </tr>\n",
       "    <tr>\n",
       "      <th>3</th>\n",
       "      <td>1983</td>\n",
       "      <td>2</td>\n",
       "      <td>Boston Celtics</td>\n",
       "      <td>BOS</td>\n",
       "    </tr>\n",
       "    <tr>\n",
       "      <th>4</th>\n",
       "      <td>1984</td>\n",
       "      <td>2</td>\n",
       "      <td>Boston Celtics</td>\n",
       "      <td>BOS</td>\n",
       "    </tr>\n",
       "    <tr>\n",
       "      <th>5</th>\n",
       "      <td>1985</td>\n",
       "      <td>2</td>\n",
       "      <td>Boston Celtics</td>\n",
       "      <td>BOS</td>\n",
       "    </tr>\n",
       "    <tr>\n",
       "      <th>6</th>\n",
       "      <td>1986</td>\n",
       "      <td>2</td>\n",
       "      <td>Boston Celtics</td>\n",
       "      <td>BOS</td>\n",
       "    </tr>\n",
       "    <tr>\n",
       "      <th>7</th>\n",
       "      <td>1987</td>\n",
       "      <td>2</td>\n",
       "      <td>Boston Celtics</td>\n",
       "      <td>BOS</td>\n",
       "    </tr>\n",
       "    <tr>\n",
       "      <th>8</th>\n",
       "      <td>1988</td>\n",
       "      <td>2</td>\n",
       "      <td>Boston Celtics</td>\n",
       "      <td>BOS</td>\n",
       "    </tr>\n",
       "    <tr>\n",
       "      <th>9</th>\n",
       "      <td>1989</td>\n",
       "      <td>2</td>\n",
       "      <td>Boston Celtics</td>\n",
       "      <td>BOS</td>\n",
       "    </tr>\n",
       "    <tr>\n",
       "      <th>10</th>\n",
       "      <td>1990</td>\n",
       "      <td>2</td>\n",
       "      <td>Boston Celtics</td>\n",
       "      <td>BOS</td>\n",
       "    </tr>\n",
       "    <tr>\n",
       "      <th>11</th>\n",
       "      <td>1991</td>\n",
       "      <td>2</td>\n",
       "      <td>Boston Celtics</td>\n",
       "      <td>BOS</td>\n",
       "    </tr>\n",
       "    <tr>\n",
       "      <th>12</th>\n",
       "      <td>1992</td>\n",
       "      <td>2</td>\n",
       "      <td>Boston Celtics</td>\n",
       "      <td>BOS</td>\n",
       "    </tr>\n",
       "    <tr>\n",
       "      <th>13</th>\n",
       "      <td>1993</td>\n",
       "      <td>2</td>\n",
       "      <td>Boston Celtics</td>\n",
       "      <td>BOS</td>\n",
       "    </tr>\n",
       "    <tr>\n",
       "      <th>14</th>\n",
       "      <td>1994</td>\n",
       "      <td>2</td>\n",
       "      <td>Boston Celtics</td>\n",
       "      <td>BOS</td>\n",
       "    </tr>\n",
       "    <tr>\n",
       "      <th>15</th>\n",
       "      <td>1995</td>\n",
       "      <td>2</td>\n",
       "      <td>Boston Celtics</td>\n",
       "      <td>BOS</td>\n",
       "    </tr>\n",
       "    <tr>\n",
       "      <th>16</th>\n",
       "      <td>1996</td>\n",
       "      <td>2</td>\n",
       "      <td>Boston Celtics</td>\n",
       "      <td>BOS</td>\n",
       "    </tr>\n",
       "    <tr>\n",
       "      <th>17</th>\n",
       "      <td>1997</td>\n",
       "      <td>2</td>\n",
       "      <td>Boston Celtics</td>\n",
       "      <td>BOS</td>\n",
       "    </tr>\n",
       "    <tr>\n",
       "      <th>18</th>\n",
       "      <td>1998</td>\n",
       "      <td>2</td>\n",
       "      <td>Boston Celtics</td>\n",
       "      <td>BOS</td>\n",
       "    </tr>\n",
       "    <tr>\n",
       "      <th>19</th>\n",
       "      <td>1999</td>\n",
       "      <td>2</td>\n",
       "      <td>Boston Celtics</td>\n",
       "      <td>BOS</td>\n",
       "    </tr>\n",
       "    <tr>\n",
       "      <th>20</th>\n",
       "      <td>2000</td>\n",
       "      <td>2</td>\n",
       "      <td>Boston Celtics</td>\n",
       "      <td>BOS</td>\n",
       "    </tr>\n",
       "    <tr>\n",
       "      <th>21</th>\n",
       "      <td>2001</td>\n",
       "      <td>2</td>\n",
       "      <td>Boston Celtics</td>\n",
       "      <td>BOS</td>\n",
       "    </tr>\n",
       "    <tr>\n",
       "      <th>22</th>\n",
       "      <td>2002</td>\n",
       "      <td>2</td>\n",
       "      <td>Boston Celtics</td>\n",
       "      <td>BOS</td>\n",
       "    </tr>\n",
       "    <tr>\n",
       "      <th>23</th>\n",
       "      <td>2003</td>\n",
       "      <td>2</td>\n",
       "      <td>Boston Celtics</td>\n",
       "      <td>BOS</td>\n",
       "    </tr>\n",
       "    <tr>\n",
       "      <th>24</th>\n",
       "      <td>2004</td>\n",
       "      <td>2</td>\n",
       "      <td>Boston Celtics</td>\n",
       "      <td>BOS</td>\n",
       "    </tr>\n",
       "    <tr>\n",
       "      <th>25</th>\n",
       "      <td>2005</td>\n",
       "      <td>2</td>\n",
       "      <td>Boston Celtics</td>\n",
       "      <td>BOS</td>\n",
       "    </tr>\n",
       "    <tr>\n",
       "      <th>26</th>\n",
       "      <td>2006</td>\n",
       "      <td>2</td>\n",
       "      <td>Boston Celtics</td>\n",
       "      <td>BOS</td>\n",
       "    </tr>\n",
       "    <tr>\n",
       "      <th>27</th>\n",
       "      <td>2007</td>\n",
       "      <td>2</td>\n",
       "      <td>Boston Celtics</td>\n",
       "      <td>BOS</td>\n",
       "    </tr>\n",
       "    <tr>\n",
       "      <th>28</th>\n",
       "      <td>2008</td>\n",
       "      <td>2</td>\n",
       "      <td>Boston Celtics</td>\n",
       "      <td>BOS</td>\n",
       "    </tr>\n",
       "    <tr>\n",
       "      <th>29</th>\n",
       "      <td>2009</td>\n",
       "      <td>2</td>\n",
       "      <td>Boston Celtics</td>\n",
       "      <td>BOS</td>\n",
       "    </tr>\n",
       "    <tr>\n",
       "      <th>30</th>\n",
       "      <td>2010</td>\n",
       "      <td>2</td>\n",
       "      <td>Boston Celtics</td>\n",
       "      <td>BOS</td>\n",
       "    </tr>\n",
       "    <tr>\n",
       "      <th>31</th>\n",
       "      <td>2011</td>\n",
       "      <td>2</td>\n",
       "      <td>Boston Celtics</td>\n",
       "      <td>BOS</td>\n",
       "    </tr>\n",
       "    <tr>\n",
       "      <th>32</th>\n",
       "      <td>2012</td>\n",
       "      <td>2</td>\n",
       "      <td>Boston Celtics</td>\n",
       "      <td>BOS</td>\n",
       "    </tr>\n",
       "    <tr>\n",
       "      <th>33</th>\n",
       "      <td>2013</td>\n",
       "      <td>2</td>\n",
       "      <td>Boston Celtics</td>\n",
       "      <td>BOS</td>\n",
       "    </tr>\n",
       "    <tr>\n",
       "      <th>34</th>\n",
       "      <td>2014</td>\n",
       "      <td>2</td>\n",
       "      <td>Boston Celtics</td>\n",
       "      <td>BOS</td>\n",
       "    </tr>\n",
       "    <tr>\n",
       "      <th>35</th>\n",
       "      <td>2015</td>\n",
       "      <td>2</td>\n",
       "      <td>Boston Celtics</td>\n",
       "      <td>BOS</td>\n",
       "    </tr>\n",
       "    <tr>\n",
       "      <th>36</th>\n",
       "      <td>2016</td>\n",
       "      <td>2</td>\n",
       "      <td>Boston Celtics</td>\n",
       "      <td>BOS</td>\n",
       "    </tr>\n",
       "    <tr>\n",
       "      <th>37</th>\n",
       "      <td>2017</td>\n",
       "      <td>2</td>\n",
       "      <td>Boston Celtics</td>\n",
       "      <td>BOS</td>\n",
       "    </tr>\n",
       "    <tr>\n",
       "      <th>38</th>\n",
       "      <td>2018</td>\n",
       "      <td>2</td>\n",
       "      <td>Boston Celtics</td>\n",
       "      <td>BOS</td>\n",
       "    </tr>\n",
       "    <tr>\n",
       "      <th>39</th>\n",
       "      <td>2019</td>\n",
       "      <td>2</td>\n",
       "      <td>Boston Celtics</td>\n",
       "      <td>BOS</td>\n",
       "    </tr>\n",
       "    <tr>\n",
       "      <th>40</th>\n",
       "      <td>2020</td>\n",
       "      <td>2</td>\n",
       "      <td>Boston Celtics</td>\n",
       "      <td>BOS</td>\n",
       "    </tr>\n",
       "  </tbody>\n",
       "</table>\n",
       "</div>"
      ],
      "text/plain": [
       "    Season_ID  Team_ID       Team_Name Team_ABV\n",
       "0        1980        2  Boston Celtics      BOS\n",
       "1        1981        2  Boston Celtics      BOS\n",
       "2        1982        2  Boston Celtics      BOS\n",
       "3        1983        2  Boston Celtics      BOS\n",
       "4        1984        2  Boston Celtics      BOS\n",
       "5        1985        2  Boston Celtics      BOS\n",
       "6        1986        2  Boston Celtics      BOS\n",
       "7        1987        2  Boston Celtics      BOS\n",
       "8        1988        2  Boston Celtics      BOS\n",
       "9        1989        2  Boston Celtics      BOS\n",
       "10       1990        2  Boston Celtics      BOS\n",
       "11       1991        2  Boston Celtics      BOS\n",
       "12       1992        2  Boston Celtics      BOS\n",
       "13       1993        2  Boston Celtics      BOS\n",
       "14       1994        2  Boston Celtics      BOS\n",
       "15       1995        2  Boston Celtics      BOS\n",
       "16       1996        2  Boston Celtics      BOS\n",
       "17       1997        2  Boston Celtics      BOS\n",
       "18       1998        2  Boston Celtics      BOS\n",
       "19       1999        2  Boston Celtics      BOS\n",
       "20       2000        2  Boston Celtics      BOS\n",
       "21       2001        2  Boston Celtics      BOS\n",
       "22       2002        2  Boston Celtics      BOS\n",
       "23       2003        2  Boston Celtics      BOS\n",
       "24       2004        2  Boston Celtics      BOS\n",
       "25       2005        2  Boston Celtics      BOS\n",
       "26       2006        2  Boston Celtics      BOS\n",
       "27       2007        2  Boston Celtics      BOS\n",
       "28       2008        2  Boston Celtics      BOS\n",
       "29       2009        2  Boston Celtics      BOS\n",
       "30       2010        2  Boston Celtics      BOS\n",
       "31       2011        2  Boston Celtics      BOS\n",
       "32       2012        2  Boston Celtics      BOS\n",
       "33       2013        2  Boston Celtics      BOS\n",
       "34       2014        2  Boston Celtics      BOS\n",
       "35       2015        2  Boston Celtics      BOS\n",
       "36       2016        2  Boston Celtics      BOS\n",
       "37       2017        2  Boston Celtics      BOS\n",
       "38       2018        2  Boston Celtics      BOS\n",
       "39       2019        2  Boston Celtics      BOS\n",
       "40       2020        2  Boston Celtics      BOS"
      ]
     },
     "execution_count": 4,
     "metadata": {},
     "output_type": "execute_result"
    }
   ],
   "source": [
    "# Output call_query_all_team_name for team_name = \"Boston Celtics\"\n",
    "df = call_query_all_team_name(\"Boston Celtics\")\n",
    "df"
   ]
  },
  {
   "cell_type": "code",
   "execution_count": 6,
   "metadata": {},
   "outputs": [
    {
     "data": {
      "text/html": [
       "<div>\n",
       "<style scoped>\n",
       "    .dataframe tbody tr th:only-of-type {\n",
       "        vertical-align: middle;\n",
       "    }\n",
       "\n",
       "    .dataframe tbody tr th {\n",
       "        vertical-align: top;\n",
       "    }\n",
       "\n",
       "    .dataframe thead th {\n",
       "        text-align: right;\n",
       "    }\n",
       "</style>\n",
       "<table border=\"1\" class=\"dataframe\">\n",
       "  <thead>\n",
       "    <tr style=\"text-align: right;\">\n",
       "      <th></th>\n",
       "      <th>Season_ID</th>\n",
       "      <th>Team_ID</th>\n",
       "      <th>Team_Name</th>\n",
       "      <th>Team_ABV</th>\n",
       "    </tr>\n",
       "  </thead>\n",
       "  <tbody>\n",
       "    <tr>\n",
       "      <th>0</th>\n",
       "      <td>1980</td>\n",
       "      <td>2</td>\n",
       "      <td>Boston Celtics</td>\n",
       "      <td>BOS</td>\n",
       "    </tr>\n",
       "    <tr>\n",
       "      <th>1</th>\n",
       "      <td>1981</td>\n",
       "      <td>2</td>\n",
       "      <td>Boston Celtics</td>\n",
       "      <td>BOS</td>\n",
       "    </tr>\n",
       "    <tr>\n",
       "      <th>2</th>\n",
       "      <td>1982</td>\n",
       "      <td>2</td>\n",
       "      <td>Boston Celtics</td>\n",
       "      <td>BOS</td>\n",
       "    </tr>\n",
       "    <tr>\n",
       "      <th>3</th>\n",
       "      <td>1983</td>\n",
       "      <td>2</td>\n",
       "      <td>Boston Celtics</td>\n",
       "      <td>BOS</td>\n",
       "    </tr>\n",
       "    <tr>\n",
       "      <th>4</th>\n",
       "      <td>1984</td>\n",
       "      <td>2</td>\n",
       "      <td>Boston Celtics</td>\n",
       "      <td>BOS</td>\n",
       "    </tr>\n",
       "    <tr>\n",
       "      <th>5</th>\n",
       "      <td>1985</td>\n",
       "      <td>2</td>\n",
       "      <td>Boston Celtics</td>\n",
       "      <td>BOS</td>\n",
       "    </tr>\n",
       "    <tr>\n",
       "      <th>6</th>\n",
       "      <td>1986</td>\n",
       "      <td>2</td>\n",
       "      <td>Boston Celtics</td>\n",
       "      <td>BOS</td>\n",
       "    </tr>\n",
       "    <tr>\n",
       "      <th>7</th>\n",
       "      <td>1987</td>\n",
       "      <td>2</td>\n",
       "      <td>Boston Celtics</td>\n",
       "      <td>BOS</td>\n",
       "    </tr>\n",
       "    <tr>\n",
       "      <th>8</th>\n",
       "      <td>1988</td>\n",
       "      <td>2</td>\n",
       "      <td>Boston Celtics</td>\n",
       "      <td>BOS</td>\n",
       "    </tr>\n",
       "    <tr>\n",
       "      <th>9</th>\n",
       "      <td>1989</td>\n",
       "      <td>2</td>\n",
       "      <td>Boston Celtics</td>\n",
       "      <td>BOS</td>\n",
       "    </tr>\n",
       "    <tr>\n",
       "      <th>10</th>\n",
       "      <td>1990</td>\n",
       "      <td>2</td>\n",
       "      <td>Boston Celtics</td>\n",
       "      <td>BOS</td>\n",
       "    </tr>\n",
       "    <tr>\n",
       "      <th>11</th>\n",
       "      <td>1991</td>\n",
       "      <td>2</td>\n",
       "      <td>Boston Celtics</td>\n",
       "      <td>BOS</td>\n",
       "    </tr>\n",
       "    <tr>\n",
       "      <th>12</th>\n",
       "      <td>1992</td>\n",
       "      <td>2</td>\n",
       "      <td>Boston Celtics</td>\n",
       "      <td>BOS</td>\n",
       "    </tr>\n",
       "    <tr>\n",
       "      <th>13</th>\n",
       "      <td>1993</td>\n",
       "      <td>2</td>\n",
       "      <td>Boston Celtics</td>\n",
       "      <td>BOS</td>\n",
       "    </tr>\n",
       "    <tr>\n",
       "      <th>14</th>\n",
       "      <td>1994</td>\n",
       "      <td>2</td>\n",
       "      <td>Boston Celtics</td>\n",
       "      <td>BOS</td>\n",
       "    </tr>\n",
       "    <tr>\n",
       "      <th>15</th>\n",
       "      <td>1995</td>\n",
       "      <td>2</td>\n",
       "      <td>Boston Celtics</td>\n",
       "      <td>BOS</td>\n",
       "    </tr>\n",
       "    <tr>\n",
       "      <th>16</th>\n",
       "      <td>1996</td>\n",
       "      <td>2</td>\n",
       "      <td>Boston Celtics</td>\n",
       "      <td>BOS</td>\n",
       "    </tr>\n",
       "    <tr>\n",
       "      <th>17</th>\n",
       "      <td>1997</td>\n",
       "      <td>2</td>\n",
       "      <td>Boston Celtics</td>\n",
       "      <td>BOS</td>\n",
       "    </tr>\n",
       "    <tr>\n",
       "      <th>18</th>\n",
       "      <td>1998</td>\n",
       "      <td>2</td>\n",
       "      <td>Boston Celtics</td>\n",
       "      <td>BOS</td>\n",
       "    </tr>\n",
       "    <tr>\n",
       "      <th>19</th>\n",
       "      <td>1999</td>\n",
       "      <td>2</td>\n",
       "      <td>Boston Celtics</td>\n",
       "      <td>BOS</td>\n",
       "    </tr>\n",
       "    <tr>\n",
       "      <th>20</th>\n",
       "      <td>2000</td>\n",
       "      <td>2</td>\n",
       "      <td>Boston Celtics</td>\n",
       "      <td>BOS</td>\n",
       "    </tr>\n",
       "    <tr>\n",
       "      <th>21</th>\n",
       "      <td>2001</td>\n",
       "      <td>2</td>\n",
       "      <td>Boston Celtics</td>\n",
       "      <td>BOS</td>\n",
       "    </tr>\n",
       "    <tr>\n",
       "      <th>22</th>\n",
       "      <td>2002</td>\n",
       "      <td>2</td>\n",
       "      <td>Boston Celtics</td>\n",
       "      <td>BOS</td>\n",
       "    </tr>\n",
       "    <tr>\n",
       "      <th>23</th>\n",
       "      <td>2003</td>\n",
       "      <td>2</td>\n",
       "      <td>Boston Celtics</td>\n",
       "      <td>BOS</td>\n",
       "    </tr>\n",
       "    <tr>\n",
       "      <th>24</th>\n",
       "      <td>2004</td>\n",
       "      <td>2</td>\n",
       "      <td>Boston Celtics</td>\n",
       "      <td>BOS</td>\n",
       "    </tr>\n",
       "    <tr>\n",
       "      <th>25</th>\n",
       "      <td>2005</td>\n",
       "      <td>2</td>\n",
       "      <td>Boston Celtics</td>\n",
       "      <td>BOS</td>\n",
       "    </tr>\n",
       "    <tr>\n",
       "      <th>26</th>\n",
       "      <td>2006</td>\n",
       "      <td>2</td>\n",
       "      <td>Boston Celtics</td>\n",
       "      <td>BOS</td>\n",
       "    </tr>\n",
       "    <tr>\n",
       "      <th>27</th>\n",
       "      <td>2007</td>\n",
       "      <td>2</td>\n",
       "      <td>Boston Celtics</td>\n",
       "      <td>BOS</td>\n",
       "    </tr>\n",
       "    <tr>\n",
       "      <th>28</th>\n",
       "      <td>2008</td>\n",
       "      <td>2</td>\n",
       "      <td>Boston Celtics</td>\n",
       "      <td>BOS</td>\n",
       "    </tr>\n",
       "    <tr>\n",
       "      <th>29</th>\n",
       "      <td>2009</td>\n",
       "      <td>2</td>\n",
       "      <td>Boston Celtics</td>\n",
       "      <td>BOS</td>\n",
       "    </tr>\n",
       "    <tr>\n",
       "      <th>30</th>\n",
       "      <td>2010</td>\n",
       "      <td>2</td>\n",
       "      <td>Boston Celtics</td>\n",
       "      <td>BOS</td>\n",
       "    </tr>\n",
       "    <tr>\n",
       "      <th>31</th>\n",
       "      <td>2011</td>\n",
       "      <td>2</td>\n",
       "      <td>Boston Celtics</td>\n",
       "      <td>BOS</td>\n",
       "    </tr>\n",
       "    <tr>\n",
       "      <th>32</th>\n",
       "      <td>2012</td>\n",
       "      <td>2</td>\n",
       "      <td>Boston Celtics</td>\n",
       "      <td>BOS</td>\n",
       "    </tr>\n",
       "    <tr>\n",
       "      <th>33</th>\n",
       "      <td>2013</td>\n",
       "      <td>2</td>\n",
       "      <td>Boston Celtics</td>\n",
       "      <td>BOS</td>\n",
       "    </tr>\n",
       "    <tr>\n",
       "      <th>34</th>\n",
       "      <td>2014</td>\n",
       "      <td>2</td>\n",
       "      <td>Boston Celtics</td>\n",
       "      <td>BOS</td>\n",
       "    </tr>\n",
       "    <tr>\n",
       "      <th>35</th>\n",
       "      <td>2015</td>\n",
       "      <td>2</td>\n",
       "      <td>Boston Celtics</td>\n",
       "      <td>BOS</td>\n",
       "    </tr>\n",
       "    <tr>\n",
       "      <th>36</th>\n",
       "      <td>2016</td>\n",
       "      <td>2</td>\n",
       "      <td>Boston Celtics</td>\n",
       "      <td>BOS</td>\n",
       "    </tr>\n",
       "    <tr>\n",
       "      <th>37</th>\n",
       "      <td>2017</td>\n",
       "      <td>2</td>\n",
       "      <td>Boston Celtics</td>\n",
       "      <td>BOS</td>\n",
       "    </tr>\n",
       "    <tr>\n",
       "      <th>38</th>\n",
       "      <td>2018</td>\n",
       "      <td>2</td>\n",
       "      <td>Boston Celtics</td>\n",
       "      <td>BOS</td>\n",
       "    </tr>\n",
       "    <tr>\n",
       "      <th>39</th>\n",
       "      <td>2019</td>\n",
       "      <td>2</td>\n",
       "      <td>Boston Celtics</td>\n",
       "      <td>BOS</td>\n",
       "    </tr>\n",
       "    <tr>\n",
       "      <th>40</th>\n",
       "      <td>2020</td>\n",
       "      <td>2</td>\n",
       "      <td>Boston Celtics</td>\n",
       "      <td>BOS</td>\n",
       "    </tr>\n",
       "  </tbody>\n",
       "</table>\n",
       "</div>"
      ],
      "text/plain": [
       "    Season_ID  Team_ID       Team_Name Team_ABV\n",
       "0        1980        2  Boston Celtics      BOS\n",
       "1        1981        2  Boston Celtics      BOS\n",
       "2        1982        2  Boston Celtics      BOS\n",
       "3        1983        2  Boston Celtics      BOS\n",
       "4        1984        2  Boston Celtics      BOS\n",
       "5        1985        2  Boston Celtics      BOS\n",
       "6        1986        2  Boston Celtics      BOS\n",
       "7        1987        2  Boston Celtics      BOS\n",
       "8        1988        2  Boston Celtics      BOS\n",
       "9        1989        2  Boston Celtics      BOS\n",
       "10       1990        2  Boston Celtics      BOS\n",
       "11       1991        2  Boston Celtics      BOS\n",
       "12       1992        2  Boston Celtics      BOS\n",
       "13       1993        2  Boston Celtics      BOS\n",
       "14       1994        2  Boston Celtics      BOS\n",
       "15       1995        2  Boston Celtics      BOS\n",
       "16       1996        2  Boston Celtics      BOS\n",
       "17       1997        2  Boston Celtics      BOS\n",
       "18       1998        2  Boston Celtics      BOS\n",
       "19       1999        2  Boston Celtics      BOS\n",
       "20       2000        2  Boston Celtics      BOS\n",
       "21       2001        2  Boston Celtics      BOS\n",
       "22       2002        2  Boston Celtics      BOS\n",
       "23       2003        2  Boston Celtics      BOS\n",
       "24       2004        2  Boston Celtics      BOS\n",
       "25       2005        2  Boston Celtics      BOS\n",
       "26       2006        2  Boston Celtics      BOS\n",
       "27       2007        2  Boston Celtics      BOS\n",
       "28       2008        2  Boston Celtics      BOS\n",
       "29       2009        2  Boston Celtics      BOS\n",
       "30       2010        2  Boston Celtics      BOS\n",
       "31       2011        2  Boston Celtics      BOS\n",
       "32       2012        2  Boston Celtics      BOS\n",
       "33       2013        2  Boston Celtics      BOS\n",
       "34       2014        2  Boston Celtics      BOS\n",
       "35       2015        2  Boston Celtics      BOS\n",
       "36       2016        2  Boston Celtics      BOS\n",
       "37       2017        2  Boston Celtics      BOS\n",
       "38       2018        2  Boston Celtics      BOS\n",
       "39       2019        2  Boston Celtics      BOS\n",
       "40       2020        2  Boston Celtics      BOS"
      ]
     },
     "execution_count": 6,
     "metadata": {},
     "output_type": "execute_result"
    }
   ],
   "source": [
    "# Output call_query_all_team_abv\n",
    "df = call_query_all_team_abv(\"BOS\")\n",
    "df"
   ]
  },
  {
   "cell_type": "code",
   "execution_count": 5,
   "metadata": {},
   "outputs": [
    {
     "data": {
      "text/plain": [
       "2"
      ]
     },
     "execution_count": 5,
     "metadata": {},
     "output_type": "execute_result"
    }
   ],
   "source": [
    "# Output call_query_team_name\n",
    "number = call_query_team_name(\"Boston Celtics\")\n",
    "number"
   ]
  },
  {
   "cell_type": "code",
   "execution_count": 6,
   "metadata": {},
   "outputs": [
    {
     "data": {
      "text/plain": [
       "2"
      ]
     },
     "execution_count": 6,
     "metadata": {},
     "output_type": "execute_result"
    }
   ],
   "source": [
    "# Output call_query_team_abv\n",
    "number = call_query_team_abv(\"BOS\")\n",
    "number"
   ]
  },
  {
   "cell_type": "markdown",
   "metadata": {},
   "source": [
    "## Call_Query_Player\n",
    "### `call_query_all_player_pid(player_id):`\n",
    "<strong>Parameters:</strong><br>\n",
    "- `player_id` - is a unique int that represents a NBA player\n",
    "\n",
    "<strong>Returns:</strong><br>\n",
    "A pandas dataframe containing the following columns based on `Player_ID`\n",
    "```\n",
    " ['Player_ID', 'Birth_Date', 'Player_Name']\n",
    "```\n",
    "Where `Player_ID` equals the input parameter `player_id`\n",
    "\n",
    "### `call_query_all_player_name_dob(player_name, dob):`\n",
    "<strong>Parameters:</strong><br>\n",
    "- `player_name` - is a string that represents a player's name\n",
    "- `dob` - is a date that represents a player's date of bityh\n",
    "\n",
    "<strong>Returns:</strong><br>\n",
    "A pandas dataframe containing the following columns based on `player_dob`\n",
    "```\n",
    " ['Player_ID', 'Birth_Date', 'Player_Name']\n",
    "```\n",
    "Where `Birth_Date` equals the input parameter `player_dob`\n",
    "\n",
    "### `call_query_player_name(player_name):`\n",
    "<strong>Parameters:</strong><br>\n",
    "- `player_name` - is a string that represents a player name\n",
    "\n",
    "<strong>Returns:</strong><br>\n",
    "A pandas dataframe containing the following columns based on `Player_Name`\n",
    "```\n",
    " ['Player_ID', 'Birth_Date', 'Player_Name']\n",
    "```\n",
    "Where `Player_Name` equals the input parameter `player_name`"
   ]
  },
  {
   "cell_type": "markdown",
   "metadata": {},
   "source": [
    "### <font color='red'>Import the Functions from Call_Query_Player</font>"
   ]
  },
  {
   "cell_type": "code",
   "execution_count": 7,
   "metadata": {},
   "outputs": [],
   "source": [
    "# Import functions for Call_Query_Player\n",
    "from Call_Query_Player import *"
   ]
  },
  {
   "cell_type": "markdown",
   "metadata": {},
   "source": [
    "### Output for Call_Query_Player"
   ]
  },
  {
   "cell_type": "code",
   "execution_count": 8,
   "metadata": {},
   "outputs": [
    {
     "data": {
      "text/html": [
       "<div>\n",
       "<style scoped>\n",
       "    .dataframe tbody tr th:only-of-type {\n",
       "        vertical-align: middle;\n",
       "    }\n",
       "\n",
       "    .dataframe tbody tr th {\n",
       "        vertical-align: top;\n",
       "    }\n",
       "\n",
       "    .dataframe thead th {\n",
       "        text-align: right;\n",
       "    }\n",
       "</style>\n",
       "<table border=\"1\" class=\"dataframe\">\n",
       "  <thead>\n",
       "    <tr style=\"text-align: right;\">\n",
       "      <th></th>\n",
       "      <th>Player_ID</th>\n",
       "      <th>Birth_Date</th>\n",
       "      <th>Player_Name</th>\n",
       "    </tr>\n",
       "  </thead>\n",
       "  <tbody>\n",
       "    <tr>\n",
       "      <th>0</th>\n",
       "      <td>2</td>\n",
       "      <td>1947-04-16</td>\n",
       "      <td>Kareem Abdul-Jabbar</td>\n",
       "    </tr>\n",
       "  </tbody>\n",
       "</table>\n",
       "</div>"
      ],
      "text/plain": [
       "   Player_ID  Birth_Date          Player_Name\n",
       "0          2  1947-04-16  Kareem Abdul-Jabbar"
      ]
     },
     "execution_count": 8,
     "metadata": {},
     "output_type": "execute_result"
    }
   ],
   "source": [
    "# Output for call_query_all_player_pid\n",
    "df = call_query_all_player_pid(2)\n",
    "df"
   ]
  },
  {
   "cell_type": "code",
   "execution_count": 10,
   "metadata": {},
   "outputs": [
    {
     "data": {
      "text/html": [
       "<div>\n",
       "<style scoped>\n",
       "    .dataframe tbody tr th:only-of-type {\n",
       "        vertical-align: middle;\n",
       "    }\n",
       "\n",
       "    .dataframe tbody tr th {\n",
       "        vertical-align: top;\n",
       "    }\n",
       "\n",
       "    .dataframe thead th {\n",
       "        text-align: right;\n",
       "    }\n",
       "</style>\n",
       "<table border=\"1\" class=\"dataframe\">\n",
       "  <thead>\n",
       "    <tr style=\"text-align: right;\">\n",
       "      <th></th>\n",
       "      <th>Player_ID</th>\n",
       "      <th>Birth_Date</th>\n",
       "      <th>Player_Name</th>\n",
       "    </tr>\n",
       "  </thead>\n",
       "  <tbody>\n",
       "    <tr>\n",
       "      <th>0</th>\n",
       "      <td>2</td>\n",
       "      <td>1947-04-16</td>\n",
       "      <td>Kareem Abdul-Jabbar</td>\n",
       "    </tr>\n",
       "  </tbody>\n",
       "</table>\n",
       "</div>"
      ],
      "text/plain": [
       "   Player_ID  Birth_Date          Player_Name\n",
       "0          2  1947-04-16  Kareem Abdul-Jabbar"
      ]
     },
     "execution_count": 10,
     "metadata": {},
     "output_type": "execute_result"
    }
   ],
   "source": [
    "# Output for call_query_all_player_name_dob\n",
    "df = call_query_all_player_name_dob(\"Kareem Abdul-Jabbar\", \"1947-04-16\")\n",
    "df "
   ]
  },
  {
   "cell_type": "code",
   "execution_count": 11,
   "metadata": {},
   "outputs": [
    {
     "data": {
      "text/plain": [
       "2"
      ]
     },
     "execution_count": 11,
     "metadata": {},
     "output_type": "execute_result"
    }
   ],
   "source": [
    "# Output for call_query_player_name\n",
    "number = call_query_player_name(\"Kareem Abdul-Jabbar\")\n",
    "number"
   ]
  },
  {
   "cell_type": "markdown",
   "metadata": {},
   "source": [
    "## Call_Query_Conference_Standings\n",
    "\n",
    "### `call_query_all_cs_sid():`\n",
    "\n",
    "### `call_query_all_cs_tid():`\n",
    "\n",
    "### `call_query_all_cs_name():`\n",
    "\n",
    "### `call_query_all_cs_ABV():`\n",
    "\n",
    "### `call_query_all_cs_win():`\n",
    "\n",
    "### `call_query_all_cs_wl():`\n",
    "\n",
    "### `call_query_all_cs_sid_ew():`\n",
    "\n",
    "### `call_query_cs_win():`"
   ]
  },
  {
   "cell_type": "markdown",
   "metadata": {},
   "source": [
    "### <font color='red'>Import the Functions from Call_Query_Conference_Standings</font>"
   ]
  },
  {
   "cell_type": "code",
   "execution_count": null,
   "metadata": {},
   "outputs": [],
   "source": []
  },
  {
   "cell_type": "markdown",
   "metadata": {},
   "source": [
    "### Output for Call_Query_Conference_Stadings"
   ]
  },
  {
   "cell_type": "code",
   "execution_count": null,
   "metadata": {},
   "outputs": [],
   "source": [
    "# Output"
   ]
  },
  {
   "cell_type": "code",
   "execution_count": null,
   "metadata": {},
   "outputs": [],
   "source": [
    "# Output"
   ]
  },
  {
   "cell_type": "code",
   "execution_count": null,
   "metadata": {},
   "outputs": [],
   "source": [
    "# Output"
   ]
  },
  {
   "cell_type": "code",
   "execution_count": null,
   "metadata": {},
   "outputs": [],
   "source": [
    "# Output"
   ]
  },
  {
   "cell_type": "code",
   "execution_count": null,
   "metadata": {},
   "outputs": [],
   "source": [
    "# Output"
   ]
  },
  {
   "cell_type": "code",
   "execution_count": null,
   "metadata": {},
   "outputs": [],
   "source": [
    "# Output"
   ]
  },
  {
   "cell_type": "code",
   "execution_count": null,
   "metadata": {},
   "outputs": [],
   "source": [
    "# Output"
   ]
  },
  {
   "cell_type": "code",
   "execution_count": null,
   "metadata": {},
   "outputs": [],
   "source": [
    "# Output"
   ]
  },
  {
   "cell_type": "markdown",
   "metadata": {},
   "source": [
    "## Call_Query_Roster\n",
    "\n",
    "### `call_query_all_roster_sid():`\n",
    "\n",
    "### `call_query_all_roster_tid():`\n",
    "\n",
    "### `call_query_all_roster_pid():`\n",
    "\n",
    "### `call_query_all_roster_pname():`\n",
    "\n",
    "### `call_query_all_roster_tname():`\n",
    "\n",
    "### `call_query_all_roster_abv():`\n",
    "\n",
    "### `call_query_all_roster_college():`\n",
    "\n",
    "### `call_query_all_roster_sid_tid():`\n",
    "\n",
    "### `call_query_all_roster_tid_pid():`\n",
    "\n",
    "### `call_query_all_roster_sid_tid_pid():`"
   ]
  },
  {
   "cell_type": "markdown",
   "metadata": {},
   "source": [
    "### <font color='red'>Import the Functions from Call_Query_Team</font>"
   ]
  },
  {
   "cell_type": "code",
   "execution_count": null,
   "metadata": {},
   "outputs": [],
   "source": []
  },
  {
   "cell_type": "markdown",
   "metadata": {},
   "source": [
    "### Output for Call_Query_Roster"
   ]
  },
  {
   "cell_type": "code",
   "execution_count": null,
   "metadata": {},
   "outputs": [],
   "source": [
    "# Output"
   ]
  },
  {
   "cell_type": "code",
   "execution_count": null,
   "metadata": {},
   "outputs": [],
   "source": [
    "# Output"
   ]
  },
  {
   "cell_type": "code",
   "execution_count": null,
   "metadata": {},
   "outputs": [],
   "source": [
    "# Output"
   ]
  },
  {
   "cell_type": "code",
   "execution_count": null,
   "metadata": {},
   "outputs": [],
   "source": [
    "# Output"
   ]
  },
  {
   "cell_type": "code",
   "execution_count": null,
   "metadata": {},
   "outputs": [],
   "source": [
    "# Output"
   ]
  },
  {
   "cell_type": "code",
   "execution_count": null,
   "metadata": {},
   "outputs": [],
   "source": [
    "# Output"
   ]
  },
  {
   "cell_type": "code",
   "execution_count": null,
   "metadata": {},
   "outputs": [],
   "source": [
    "# Output"
   ]
  },
  {
   "cell_type": "code",
   "execution_count": null,
   "metadata": {},
   "outputs": [],
   "source": [
    "# Output"
   ]
  },
  {
   "cell_type": "code",
   "execution_count": null,
   "metadata": {},
   "outputs": [],
   "source": [
    "# Output"
   ]
  },
  {
   "cell_type": "code",
   "execution_count": null,
   "metadata": {},
   "outputs": [],
   "source": [
    "# Output"
   ]
  },
  {
   "cell_type": "markdown",
   "metadata": {},
   "source": [
    "## Call_Query_Team_Stats\n",
    "### `call_query_team_stats_minor_one():`\n",
    "### `call_query_team_stats_minor_two():`\n",
    "### `call_query_team_stats_minor_three():`\n",
    "\n",
    "### `call_query_team_stats_major_one():`\n",
    "### `call_query_team_stats_major_two():`\n",
    "### `call_query_team_stats_major_three():`\n",
    "\n",
    "### `call_query_team_stats_major_op_one():`\n",
    "### `call_query_team_stats_major_op_two():`\n",
    "### `call_query_team_stats_major_op_three():`\n",
    "\n",
    "### `call_query_team_stats_primary_sid():`\n",
    "### `call_query_team_stats_primary_tid():`\n",
    "### `call_query_team_stats_primary_sid_tid():`\n",
    "\n",
    "### `call_query_team_stats_major_compare_one():`\n",
    "### `call_query_team_stats_major_compare_two():`\n",
    "### `call_query_team_stats_major_compare_three():`"
   ]
  },
  {
   "cell_type": "markdown",
   "metadata": {},
   "source": [
    "### <font color='red'>Import the Functions from Call_Query_Team_Stats</font>"
   ]
  },
  {
   "cell_type": "code",
   "execution_count": null,
   "metadata": {},
   "outputs": [],
   "source": []
  },
  {
   "cell_type": "markdown",
   "metadata": {},
   "source": [
    "### Output for Call_Query_Team_Stats"
   ]
  },
  {
   "cell_type": "code",
   "execution_count": null,
   "metadata": {},
   "outputs": [],
   "source": [
    "# Output"
   ]
  },
  {
   "cell_type": "code",
   "execution_count": null,
   "metadata": {},
   "outputs": [],
   "source": [
    "# Output"
   ]
  },
  {
   "cell_type": "code",
   "execution_count": null,
   "metadata": {},
   "outputs": [],
   "source": [
    "# Output"
   ]
  },
  {
   "cell_type": "code",
   "execution_count": null,
   "metadata": {},
   "outputs": [],
   "source": [
    "# Output"
   ]
  },
  {
   "cell_type": "code",
   "execution_count": null,
   "metadata": {},
   "outputs": [],
   "source": [
    "# Output"
   ]
  },
  {
   "cell_type": "code",
   "execution_count": null,
   "metadata": {},
   "outputs": [],
   "source": [
    "# Output"
   ]
  },
  {
   "cell_type": "code",
   "execution_count": null,
   "metadata": {},
   "outputs": [],
   "source": [
    "# Output"
   ]
  },
  {
   "cell_type": "code",
   "execution_count": null,
   "metadata": {},
   "outputs": [],
   "source": [
    "# Output"
   ]
  },
  {
   "cell_type": "code",
   "execution_count": null,
   "metadata": {},
   "outputs": [],
   "source": [
    "# Output"
   ]
  },
  {
   "cell_type": "code",
   "execution_count": null,
   "metadata": {},
   "outputs": [],
   "source": [
    "# Output"
   ]
  },
  {
   "cell_type": "code",
   "execution_count": null,
   "metadata": {},
   "outputs": [],
   "source": [
    "# Output"
   ]
  },
  {
   "cell_type": "code",
   "execution_count": null,
   "metadata": {},
   "outputs": [],
   "source": [
    "# Output"
   ]
  },
  {
   "cell_type": "code",
   "execution_count": null,
   "metadata": {},
   "outputs": [],
   "source": [
    "# Output"
   ]
  },
  {
   "cell_type": "code",
   "execution_count": null,
   "metadata": {},
   "outputs": [],
   "source": [
    "# Output"
   ]
  },
  {
   "cell_type": "code",
   "execution_count": null,
   "metadata": {},
   "outputs": [],
   "source": [
    "# Output"
   ]
  },
  {
   "cell_type": "markdown",
   "metadata": {},
   "source": [
    "## Call_Query_Team_Advanced\n",
    "### `call_query_all_team_advanced_sid():`\n",
    "### `call_query_all_team_advanced_tid():`\n",
    "### `call_query_all_team_advanced_sid_tid():`\n",
    "### `call_query_all_team_advanced_name():`\n",
    "### `call_query_all_team_advanced_ABV():`\n",
    "### `call_query_all_team_advanced_both_sid():`\n",
    "### `call_query_all_team_advanced_both_tid():`\n",
    "### `call_query_all_team_advanced_both_sid_tid():`\n",
    "### `call_query_all_team_advanced_both_name():`\n",
    "### `call_query_all_team_advanced_both_ABV():`"
   ]
  },
  {
   "cell_type": "markdown",
   "metadata": {},
   "source": [
    "### <font color='red'>Import the Functions from Call_Query_Team_Advanced</font>"
   ]
  },
  {
   "cell_type": "code",
   "execution_count": null,
   "metadata": {},
   "outputs": [],
   "source": []
  },
  {
   "cell_type": "markdown",
   "metadata": {},
   "source": [
    "### Output for Call_Query_Team_Advanced"
   ]
  },
  {
   "cell_type": "code",
   "execution_count": null,
   "metadata": {},
   "outputs": [],
   "source": [
    "# Output"
   ]
  },
  {
   "cell_type": "code",
   "execution_count": null,
   "metadata": {},
   "outputs": [],
   "source": [
    "# Output"
   ]
  },
  {
   "cell_type": "code",
   "execution_count": null,
   "metadata": {},
   "outputs": [],
   "source": [
    "# Output"
   ]
  },
  {
   "cell_type": "code",
   "execution_count": null,
   "metadata": {},
   "outputs": [],
   "source": [
    "# Output"
   ]
  },
  {
   "cell_type": "code",
   "execution_count": null,
   "metadata": {},
   "outputs": [],
   "source": [
    "# Output"
   ]
  },
  {
   "cell_type": "code",
   "execution_count": null,
   "metadata": {},
   "outputs": [],
   "source": [
    "# Output"
   ]
  },
  {
   "cell_type": "code",
   "execution_count": null,
   "metadata": {},
   "outputs": [],
   "source": [
    "# Output"
   ]
  },
  {
   "cell_type": "code",
   "execution_count": null,
   "metadata": {},
   "outputs": [],
   "source": [
    "# Output"
   ]
  },
  {
   "cell_type": "code",
   "execution_count": null,
   "metadata": {},
   "outputs": [],
   "source": [
    "# Output"
   ]
  },
  {
   "cell_type": "code",
   "execution_count": null,
   "metadata": {},
   "outputs": [],
   "source": [
    "# Output"
   ]
  },
  {
   "cell_type": "markdown",
   "metadata": {},
   "source": [
    "## Call_Query_Team_Misc\n",
    "### `call_query_all_team_misc_sid():`\n",
    "### `call_query_all_team_misc_tid():`\n",
    "### `call_query_all_team_misc_sid_tid():`\n",
    "### `call_query_all_team_misc_name():`\n",
    "### `call_query_all_team_misc_ABV():`\n",
    "### `call_query_all_team_misc_both_sid():`\n",
    "### `call_query_all_team_misc_both_tid():`\n",
    "### `call_query_all_team_misc_both_sid_tid():`\n",
    "### `call_query_all_team_misc_both_name():`\n",
    "### `call_query_all_team_misc_both_ABV():`"
   ]
  },
  {
   "cell_type": "markdown",
   "metadata": {},
   "source": [
    "### <font color='red'>Import the Functions from Call_Query_Team_Misc</font>"
   ]
  },
  {
   "cell_type": "code",
   "execution_count": null,
   "metadata": {},
   "outputs": [],
   "source": []
  },
  {
   "cell_type": "markdown",
   "metadata": {},
   "source": [
    "### Output for Call_Query_Team_Misc"
   ]
  },
  {
   "cell_type": "code",
   "execution_count": null,
   "metadata": {},
   "outputs": [],
   "source": [
    "# Output"
   ]
  },
  {
   "cell_type": "code",
   "execution_count": null,
   "metadata": {},
   "outputs": [],
   "source": [
    "# Output"
   ]
  },
  {
   "cell_type": "code",
   "execution_count": null,
   "metadata": {},
   "outputs": [],
   "source": [
    "# Output"
   ]
  },
  {
   "cell_type": "code",
   "execution_count": null,
   "metadata": {},
   "outputs": [],
   "source": [
    "# Output"
   ]
  },
  {
   "cell_type": "code",
   "execution_count": null,
   "metadata": {},
   "outputs": [],
   "source": [
    "# Output"
   ]
  },
  {
   "cell_type": "code",
   "execution_count": null,
   "metadata": {},
   "outputs": [],
   "source": [
    "# Output"
   ]
  },
  {
   "cell_type": "code",
   "execution_count": null,
   "metadata": {},
   "outputs": [],
   "source": [
    "# Output"
   ]
  },
  {
   "cell_type": "code",
   "execution_count": null,
   "metadata": {},
   "outputs": [],
   "source": [
    "# Output"
   ]
  },
  {
   "cell_type": "code",
   "execution_count": null,
   "metadata": {},
   "outputs": [],
   "source": [
    "# Output"
   ]
  },
  {
   "cell_type": "code",
   "execution_count": null,
   "metadata": {},
   "outputs": [],
   "source": [
    "# Output"
   ]
  },
  {
   "cell_type": "markdown",
   "metadata": {},
   "source": [
    "## Call_Query_Team_Per_Game\n",
    "### `call_query_all_team_per_game_sid():`\n",
    "### `call_query_all_team_per_game_tid():`\n",
    "### `call_query_all_team_per_game_sid_tid():`\n",
    "### `call_query_all_team_per_game_name():`\n",
    "### `call_query_all_team_per_game_ABV():`\n",
    "### `call_query_all_team_per_game_both_sid():`\n",
    "### `call_query_all_team_per_game_both_tid():`\n",
    "### `call_query_all_team_per_game_both_sid_tid():`\n",
    "### `call_query_all_team_per_game_both_name():`\n",
    "### `call_query_all_team_per_game_both_ABV():`"
   ]
  },
  {
   "cell_type": "markdown",
   "metadata": {},
   "source": [
    "### <font color='red'>Import the Functions from Call_Query_Team_Per_Game</font>"
   ]
  },
  {
   "cell_type": "code",
   "execution_count": null,
   "metadata": {},
   "outputs": [],
   "source": []
  },
  {
   "cell_type": "markdown",
   "metadata": {},
   "source": [
    "### Output for Call_Query_Team_Per_Game"
   ]
  },
  {
   "cell_type": "code",
   "execution_count": null,
   "metadata": {},
   "outputs": [],
   "source": [
    "# Output"
   ]
  },
  {
   "cell_type": "code",
   "execution_count": null,
   "metadata": {},
   "outputs": [],
   "source": [
    "# Output"
   ]
  },
  {
   "cell_type": "code",
   "execution_count": null,
   "metadata": {},
   "outputs": [],
   "source": [
    "# Output"
   ]
  },
  {
   "cell_type": "code",
   "execution_count": null,
   "metadata": {},
   "outputs": [],
   "source": [
    "# Output"
   ]
  },
  {
   "cell_type": "code",
   "execution_count": null,
   "metadata": {},
   "outputs": [],
   "source": [
    "# Output"
   ]
  },
  {
   "cell_type": "code",
   "execution_count": null,
   "metadata": {},
   "outputs": [],
   "source": [
    "# Output"
   ]
  },
  {
   "cell_type": "code",
   "execution_count": null,
   "metadata": {},
   "outputs": [],
   "source": [
    "# Output"
   ]
  },
  {
   "cell_type": "code",
   "execution_count": null,
   "metadata": {},
   "outputs": [],
   "source": [
    "# Output"
   ]
  },
  {
   "cell_type": "code",
   "execution_count": null,
   "metadata": {},
   "outputs": [],
   "source": [
    "# Output"
   ]
  },
  {
   "cell_type": "code",
   "execution_count": null,
   "metadata": {},
   "outputs": [],
   "source": [
    "# Output"
   ]
  },
  {
   "cell_type": "markdown",
   "metadata": {},
   "source": [
    "## Call_Query_Team_Per_Poss\n",
    "### `call_query_all_team_per_poss_sid():`\n",
    "### `call_query_all_team_per_poss_tid():`\n",
    "### `call_query_all_team_per_poss_sid_tid():`\n",
    "### `call_query_all_team_per_poss_name():`\n",
    "### `call_query_all_team_per_poss_ABV():`\n",
    "### `call_query_all_team_per_poss_both_sid():`\n",
    "### `call_query_all_team_per_poss_both_tid():`\n",
    "### `call_query_all_team_per_poss_both_sid_tid():`\n",
    "### `call_query_all_team_per_poss_both_name():`\n",
    "### `call_query_all_team_per_poss_both_ABV():`"
   ]
  },
  {
   "cell_type": "markdown",
   "metadata": {},
   "source": [
    "### <font color='red'>Import the Functions from Call_Query_Team</font>"
   ]
  },
  {
   "cell_type": "code",
   "execution_count": null,
   "metadata": {},
   "outputs": [],
   "source": []
  },
  {
   "cell_type": "markdown",
   "metadata": {},
   "source": [
    "### Output for Call_Query_Team_Per_Poss"
   ]
  },
  {
   "cell_type": "code",
   "execution_count": null,
   "metadata": {},
   "outputs": [],
   "source": [
    "# Output"
   ]
  },
  {
   "cell_type": "code",
   "execution_count": null,
   "metadata": {},
   "outputs": [],
   "source": [
    "# Output"
   ]
  },
  {
   "cell_type": "code",
   "execution_count": null,
   "metadata": {},
   "outputs": [],
   "source": [
    "# Output"
   ]
  },
  {
   "cell_type": "code",
   "execution_count": null,
   "metadata": {},
   "outputs": [],
   "source": [
    "# Output"
   ]
  },
  {
   "cell_type": "code",
   "execution_count": null,
   "metadata": {},
   "outputs": [],
   "source": [
    "# Output"
   ]
  },
  {
   "cell_type": "code",
   "execution_count": null,
   "metadata": {},
   "outputs": [],
   "source": [
    "# Output"
   ]
  },
  {
   "cell_type": "code",
   "execution_count": null,
   "metadata": {},
   "outputs": [],
   "source": [
    "# Output"
   ]
  },
  {
   "cell_type": "code",
   "execution_count": null,
   "metadata": {},
   "outputs": [],
   "source": [
    "# Output"
   ]
  },
  {
   "cell_type": "code",
   "execution_count": null,
   "metadata": {},
   "outputs": [],
   "source": [
    "# Output"
   ]
  },
  {
   "cell_type": "code",
   "execution_count": 1,
   "metadata": {},
   "outputs": [],
   "source": [
    "# Output"
   ]
  },
  {
   "cell_type": "markdown",
   "metadata": {},
   "source": [
    "## Call_Query_Team_Totals\n",
    "### `call_query_all_team_totals_sid():`\n",
    "### `call_query_all_team_totals_tid():`\n",
    "### `call_query_all_team_totals_sid_tid():`\n",
    "### `call_query_all_team_totals_name():`\n",
    "### `call_query_all_team_totals_ABV():`\n",
    "### `call_query_all_team_totals_both_sid():`\n",
    "### `call_query_all_team_totals_both_tid():`\n",
    "### `call_query_all_team_totals_both_sid_tid():`\n",
    "### `call_query_all_team_totals_both_name():`\n",
    "### `call_query_all_team_totals_both_ABV():`"
   ]
  },
  {
   "cell_type": "markdown",
   "metadata": {},
   "source": [
    "### <font color='red'>Import the Functions from Call_Query_Team_Totals</font>"
   ]
  },
  {
   "cell_type": "code",
   "execution_count": null,
   "metadata": {},
   "outputs": [],
   "source": []
  },
  {
   "cell_type": "markdown",
   "metadata": {},
   "source": [
    "### Output for Call_Query_Team_Totals"
   ]
  },
  {
   "cell_type": "code",
   "execution_count": null,
   "metadata": {},
   "outputs": [],
   "source": [
    "# Output"
   ]
  },
  {
   "cell_type": "code",
   "execution_count": null,
   "metadata": {},
   "outputs": [],
   "source": [
    "# Output"
   ]
  },
  {
   "cell_type": "code",
   "execution_count": null,
   "metadata": {},
   "outputs": [],
   "source": [
    "# Output"
   ]
  },
  {
   "cell_type": "code",
   "execution_count": null,
   "metadata": {},
   "outputs": [],
   "source": [
    "# Output"
   ]
  },
  {
   "cell_type": "code",
   "execution_count": null,
   "metadata": {},
   "outputs": [],
   "source": [
    "# Output"
   ]
  },
  {
   "cell_type": "code",
   "execution_count": null,
   "metadata": {},
   "outputs": [],
   "source": [
    "# Output"
   ]
  },
  {
   "cell_type": "code",
   "execution_count": null,
   "metadata": {},
   "outputs": [],
   "source": [
    "# Output"
   ]
  },
  {
   "cell_type": "code",
   "execution_count": null,
   "metadata": {},
   "outputs": [],
   "source": [
    "# Output"
   ]
  },
  {
   "cell_type": "code",
   "execution_count": null,
   "metadata": {},
   "outputs": [],
   "source": [
    "# Output"
   ]
  },
  {
   "cell_type": "code",
   "execution_count": null,
   "metadata": {},
   "outputs": [],
   "source": [
    "# Output"
   ]
  },
  {
   "cell_type": "markdown",
   "metadata": {},
   "source": [
    "## Call_Query_Player_Stats\n",
    "### `call_query_player_stats_one_pid():`\n",
    "### `call_query_player_stats_two_pid():`\n",
    "### `call_query_player_stats_three_pid():`\n",
    "### `call_query_player_stats_primary_pid():`\n",
    "### `call_query_player_stats_one_above_pid():`\n",
    "### `call_query_player_stats_two_above_pid():`\n",
    "### `call_query_player_stats_three_above_pid():`\n",
    "\n",
    "### `call_query_player_stats_one_tid_pid():`\n",
    "### `call_query_player_stats_two_tid_pid():`\n",
    "### `call_query_player_stats_three_tid_pid():`\n",
    "### `call_query_player_stats_primary_tid_pid():`\n",
    "### `call_query_player_stats_one_above_tid_pid():`\n",
    "### `call_query_player_stats_two_above_tid_pid():`\n",
    "### `call_query_player_stats_three_above_tid_pid():`\n",
    "\n",
    "### `call_query_player_stats_one_sid_pid():`\n",
    "### `call_query_player_stats_two_sid_pid():`\n",
    "### `call_query_player_stats_three_sid_pid():`\n",
    "### `call_query_player_stats_primary_sid_pid():`\n",
    "\n",
    "### `call_query_player_stats_one_both_pid():`\n",
    "### `call_query_player_stats_two_both_pid():`\n",
    "### `call_query_player_stats_three_both_pid():`\n",
    "### `call_query_player_stats_primary_both_pid():`\n",
    "### `call_query_player_stats_one_both_above_pid():`\n",
    "### `call_query_player_stats_two_both_above_pid():`\n",
    "### `call_query_player_stats_three_both_above_pid():`\n",
    "\n",
    "### `call_query_player_stats_one_both_tid_pid():`\n",
    "### `call_query_player_stats_two_both_tid_pid():`\n",
    "### `call_query_player_stats_three_both_tid_pid():`\n",
    "### `call_query_player_stats_primary_both_tid_pid():`\n",
    "### `call_query_player_stats_one_both_above_tid_pid():`\n",
    "### `call_query_player_stats_two_both_above_tid_pid():`\n",
    "### `call_query_player_stats_three_both_above_tid_pid():`\n",
    "\n",
    "### `call_query_player_stats_one_both_sid_pid():`\n",
    "### `call_query_player_stats_two_both_sid_pid():`\n",
    "### `call_query_player_stats_three_both_sid_pid():`\n",
    "### `call_query_player_stats_primary_both_sid_pid():`"
   ]
  },
  {
   "cell_type": "markdown",
   "metadata": {},
   "source": [
    "### <font color='red'>Import the Functions from Call_Query_Player_Stats</font>"
   ]
  },
  {
   "cell_type": "code",
   "execution_count": null,
   "metadata": {},
   "outputs": [],
   "source": []
  },
  {
   "cell_type": "markdown",
   "metadata": {},
   "source": [
    "### Output for Call_Query_Player_Stats"
   ]
  },
  {
   "cell_type": "code",
   "execution_count": null,
   "metadata": {},
   "outputs": [],
   "source": [
    "# Output"
   ]
  },
  {
   "cell_type": "code",
   "execution_count": null,
   "metadata": {},
   "outputs": [],
   "source": [
    "# Output"
   ]
  },
  {
   "cell_type": "code",
   "execution_count": null,
   "metadata": {},
   "outputs": [],
   "source": [
    "# Output"
   ]
  },
  {
   "cell_type": "code",
   "execution_count": null,
   "metadata": {},
   "outputs": [],
   "source": [
    "# Output"
   ]
  },
  {
   "cell_type": "code",
   "execution_count": null,
   "metadata": {},
   "outputs": [],
   "source": [
    "# Output"
   ]
  },
  {
   "cell_type": "code",
   "execution_count": null,
   "metadata": {},
   "outputs": [],
   "source": [
    "# Output"
   ]
  },
  {
   "cell_type": "code",
   "execution_count": null,
   "metadata": {},
   "outputs": [],
   "source": [
    "# Output"
   ]
  },
  {
   "cell_type": "code",
   "execution_count": null,
   "metadata": {},
   "outputs": [],
   "source": [
    "# Output"
   ]
  },
  {
   "cell_type": "code",
   "execution_count": null,
   "metadata": {},
   "outputs": [],
   "source": [
    "# Output"
   ]
  },
  {
   "cell_type": "code",
   "execution_count": null,
   "metadata": {},
   "outputs": [],
   "source": [
    "# Output"
   ]
  },
  {
   "cell_type": "code",
   "execution_count": null,
   "metadata": {},
   "outputs": [],
   "source": [
    "# Output"
   ]
  },
  {
   "cell_type": "code",
   "execution_count": null,
   "metadata": {},
   "outputs": [],
   "source": [
    "# Output"
   ]
  },
  {
   "cell_type": "code",
   "execution_count": null,
   "metadata": {},
   "outputs": [],
   "source": [
    "# Output"
   ]
  },
  {
   "cell_type": "code",
   "execution_count": null,
   "metadata": {},
   "outputs": [],
   "source": [
    "# Output"
   ]
  },
  {
   "cell_type": "code",
   "execution_count": null,
   "metadata": {},
   "outputs": [],
   "source": [
    "# Output"
   ]
  },
  {
   "cell_type": "code",
   "execution_count": null,
   "metadata": {},
   "outputs": [],
   "source": [
    "# Output"
   ]
  },
  {
   "cell_type": "code",
   "execution_count": null,
   "metadata": {},
   "outputs": [],
   "source": [
    "# Output"
   ]
  },
  {
   "cell_type": "code",
   "execution_count": null,
   "metadata": {},
   "outputs": [],
   "source": [
    "# Output"
   ]
  },
  {
   "cell_type": "code",
   "execution_count": null,
   "metadata": {},
   "outputs": [],
   "source": [
    "# Output"
   ]
  },
  {
   "cell_type": "code",
   "execution_count": null,
   "metadata": {},
   "outputs": [],
   "source": [
    "# Output"
   ]
  },
  {
   "cell_type": "code",
   "execution_count": null,
   "metadata": {},
   "outputs": [],
   "source": [
    "# Output"
   ]
  },
  {
   "cell_type": "code",
   "execution_count": null,
   "metadata": {},
   "outputs": [],
   "source": [
    "# Output"
   ]
  },
  {
   "cell_type": "code",
   "execution_count": null,
   "metadata": {},
   "outputs": [],
   "source": [
    "# Output"
   ]
  },
  {
   "cell_type": "code",
   "execution_count": null,
   "metadata": {},
   "outputs": [],
   "source": [
    "# Output"
   ]
  },
  {
   "cell_type": "code",
   "execution_count": null,
   "metadata": {},
   "outputs": [],
   "source": [
    "# Output"
   ]
  },
  {
   "cell_type": "code",
   "execution_count": null,
   "metadata": {},
   "outputs": [],
   "source": [
    "# Output"
   ]
  },
  {
   "cell_type": "code",
   "execution_count": null,
   "metadata": {},
   "outputs": [],
   "source": [
    "# Output"
   ]
  },
  {
   "cell_type": "code",
   "execution_count": null,
   "metadata": {},
   "outputs": [],
   "source": [
    "# Output"
   ]
  },
  {
   "cell_type": "code",
   "execution_count": null,
   "metadata": {},
   "outputs": [],
   "source": [
    "# Output"
   ]
  },
  {
   "cell_type": "code",
   "execution_count": null,
   "metadata": {},
   "outputs": [],
   "source": [
    "# Output"
   ]
  },
  {
   "cell_type": "code",
   "execution_count": null,
   "metadata": {},
   "outputs": [],
   "source": [
    "# Output"
   ]
  },
  {
   "cell_type": "code",
   "execution_count": null,
   "metadata": {},
   "outputs": [],
   "source": [
    "# Output"
   ]
  },
  {
   "cell_type": "code",
   "execution_count": null,
   "metadata": {},
   "outputs": [],
   "source": [
    "# Output"
   ]
  },
  {
   "cell_type": "code",
   "execution_count": null,
   "metadata": {},
   "outputs": [],
   "source": [
    "# Output"
   ]
  },
  {
   "cell_type": "code",
   "execution_count": null,
   "metadata": {},
   "outputs": [],
   "source": [
    "# Output"
   ]
  },
  {
   "cell_type": "code",
   "execution_count": null,
   "metadata": {},
   "outputs": [],
   "source": [
    "# Output"
   ]
  },
  {
   "cell_type": "markdown",
   "metadata": {},
   "source": [
    "## Call_Query_Player_Advanced\n",
    "### `call_query_all_player_advanced_pid():`\n",
    "\n",
    "### `call_query_all_player_advanced_sid_pid():`\n",
    "\n",
    "### `call_query_all_player_advanced_tid_pid():`\n",
    "\n",
    "### `call_query_all_player_advanced_pname():`\n",
    "\n",
    "### `call_query_all_player_advanced_pname_sid():`\n",
    "\n",
    "### `call_query_all_player_advanced_pname_tid():`\n",
    "\n",
    "### `call_query_all_player_advanced_both_pid():`\n",
    "\n",
    "### `call_query_all_player_advanced_both_sid_pid():`\n",
    "\n",
    "### `call_query_all_player_advanced_both_tid_pid():`\n",
    "\n",
    "### `call_query_all_player_advanced_both_pname():`\n",
    "\n",
    "### `call_query_all_player_advanced_both_pname_sid():`\n",
    "\n",
    "### `call_query_all_player_advanced_both_pname_tid():`"
   ]
  },
  {
   "cell_type": "markdown",
   "metadata": {},
   "source": [
    "### <font color='red'>Import the Functions from Call_Query_Player_Advanced</font>"
   ]
  },
  {
   "cell_type": "code",
   "execution_count": null,
   "metadata": {},
   "outputs": [],
   "source": []
  },
  {
   "cell_type": "markdown",
   "metadata": {},
   "source": [
    "### Output for Call_Query_Player_Advanced"
   ]
  },
  {
   "cell_type": "code",
   "execution_count": null,
   "metadata": {},
   "outputs": [],
   "source": [
    "# Output "
   ]
  },
  {
   "cell_type": "code",
   "execution_count": null,
   "metadata": {},
   "outputs": [],
   "source": [
    "# Output "
   ]
  },
  {
   "cell_type": "code",
   "execution_count": null,
   "metadata": {},
   "outputs": [],
   "source": [
    "# Output "
   ]
  },
  {
   "cell_type": "code",
   "execution_count": null,
   "metadata": {},
   "outputs": [],
   "source": [
    "# Output "
   ]
  },
  {
   "cell_type": "code",
   "execution_count": null,
   "metadata": {},
   "outputs": [],
   "source": [
    "# Output "
   ]
  },
  {
   "cell_type": "code",
   "execution_count": null,
   "metadata": {},
   "outputs": [],
   "source": [
    "# Output "
   ]
  },
  {
   "cell_type": "code",
   "execution_count": null,
   "metadata": {},
   "outputs": [],
   "source": [
    "# Output "
   ]
  },
  {
   "cell_type": "code",
   "execution_count": null,
   "metadata": {},
   "outputs": [],
   "source": [
    "# Output "
   ]
  },
  {
   "cell_type": "code",
   "execution_count": null,
   "metadata": {},
   "outputs": [],
   "source": [
    "# Output "
   ]
  },
  {
   "cell_type": "code",
   "execution_count": null,
   "metadata": {},
   "outputs": [],
   "source": [
    "# Output "
   ]
  },
  {
   "cell_type": "code",
   "execution_count": null,
   "metadata": {},
   "outputs": [],
   "source": [
    "# Output "
   ]
  },
  {
   "cell_type": "code",
   "execution_count": null,
   "metadata": {},
   "outputs": [],
   "source": [
    "# Output "
   ]
  },
  {
   "cell_type": "markdown",
   "metadata": {},
   "source": [
    "## Call_Query_Player_Per_Game\n",
    "### `call_query_all_player_per_game_pid():`\n",
    "\n",
    "### `call_query_all_player_per_game_sid_pid():`\n",
    "\n",
    "### `call_query_all_player_per_game_tid_pid():`\n",
    "\n",
    "### `call_query_all_player_per_game_pname():`\n",
    "\n",
    "### `call_query_all_player_per_game_pname_sid():`\n",
    "\n",
    "### `call_query_all_player_per_game_pname_tid():`\n",
    "\n",
    "### `call_query_all_player_per_game_both_pid():`\n",
    "\n",
    "### `call_query_all_player_per_game_both_sid_pid():`\n",
    "\n",
    "### `call_query_all_player_per_game_both_tid_pid():`\n",
    "\n",
    "### `call_query_all_player_per_game_both_pname():`\n",
    "\n",
    "### `call_query_all_player_per_game_both_pname_sid():`\n",
    "\n",
    "### `call_query_all_player_per_game_both_pname_tid():`"
   ]
  },
  {
   "cell_type": "markdown",
   "metadata": {},
   "source": [
    "### <font color='red'>Import the Functions from Call_Query_Player_Per_Game</font>"
   ]
  },
  {
   "cell_type": "code",
   "execution_count": null,
   "metadata": {},
   "outputs": [],
   "source": []
  },
  {
   "cell_type": "markdown",
   "metadata": {},
   "source": [
    "### Output for Call_Query_Player_Per_Game"
   ]
  },
  {
   "cell_type": "code",
   "execution_count": null,
   "metadata": {},
   "outputs": [],
   "source": [
    "# Output "
   ]
  },
  {
   "cell_type": "code",
   "execution_count": null,
   "metadata": {},
   "outputs": [],
   "source": [
    "# Output "
   ]
  },
  {
   "cell_type": "code",
   "execution_count": null,
   "metadata": {},
   "outputs": [],
   "source": [
    "# Output "
   ]
  },
  {
   "cell_type": "code",
   "execution_count": null,
   "metadata": {},
   "outputs": [],
   "source": [
    "# Output "
   ]
  },
  {
   "cell_type": "code",
   "execution_count": null,
   "metadata": {},
   "outputs": [],
   "source": [
    "# Output "
   ]
  },
  {
   "cell_type": "code",
   "execution_count": null,
   "metadata": {},
   "outputs": [],
   "source": [
    "# Output "
   ]
  },
  {
   "cell_type": "code",
   "execution_count": null,
   "metadata": {},
   "outputs": [],
   "source": [
    "# Output "
   ]
  },
  {
   "cell_type": "code",
   "execution_count": null,
   "metadata": {},
   "outputs": [],
   "source": [
    "# Output "
   ]
  },
  {
   "cell_type": "code",
   "execution_count": null,
   "metadata": {},
   "outputs": [],
   "source": [
    "# Output "
   ]
  },
  {
   "cell_type": "code",
   "execution_count": null,
   "metadata": {},
   "outputs": [],
   "source": [
    "# Output "
   ]
  },
  {
   "cell_type": "code",
   "execution_count": null,
   "metadata": {},
   "outputs": [],
   "source": [
    "# Output "
   ]
  },
  {
   "cell_type": "code",
   "execution_count": null,
   "metadata": {},
   "outputs": [],
   "source": [
    "# Output "
   ]
  },
  {
   "cell_type": "markdown",
   "metadata": {},
   "source": [
    "## Call_Query_Player_Per_Minute\n",
    "### `call_query_all_player_per_minute_pid():`\n",
    "\n",
    "### `call_query_all_player_per_minute_sid_pid():`\n",
    "\n",
    "### `call_query_all_player_per_minute_tid_pid():`\n",
    "\n",
    "### `call_query_all_player_per_minute_pname():`\n",
    "\n",
    "### `call_query_all_player_per_minute_pname_sid():`\n",
    "\n",
    "### `call_query_all_player_per_minute_pname_tid():`\n",
    "\n",
    "### `call_query_all_player_per_minute_both_pid():`\n",
    "\n",
    "### `call_query_all_player_per_minute_both_sid_pid():`\n",
    "\n",
    "### `call_query_all_player_per_minute_both_tid_pid():`\n",
    "\n",
    "### `call_query_all_player_per_minute_both_pname():`\n",
    "\n",
    "### `call_query_all_player_per_minute_both_pname_sid():`\n",
    "\n",
    "### `call_query_all_player_per_minute_both_pname_tid():`"
   ]
  },
  {
   "cell_type": "markdown",
   "metadata": {},
   "source": [
    "### <font color='red'>Import the Functions from Call_Query_Player_Per_Minute</font>"
   ]
  },
  {
   "cell_type": "code",
   "execution_count": null,
   "metadata": {},
   "outputs": [],
   "source": []
  },
  {
   "cell_type": "markdown",
   "metadata": {},
   "source": [
    "### Output for Call_Query_Player_Per_Minute"
   ]
  },
  {
   "cell_type": "code",
   "execution_count": null,
   "metadata": {},
   "outputs": [],
   "source": [
    "# Output "
   ]
  },
  {
   "cell_type": "code",
   "execution_count": null,
   "metadata": {},
   "outputs": [],
   "source": [
    "# Output "
   ]
  },
  {
   "cell_type": "code",
   "execution_count": null,
   "metadata": {},
   "outputs": [],
   "source": [
    "# Output "
   ]
  },
  {
   "cell_type": "code",
   "execution_count": null,
   "metadata": {},
   "outputs": [],
   "source": [
    "# Output "
   ]
  },
  {
   "cell_type": "code",
   "execution_count": null,
   "metadata": {},
   "outputs": [],
   "source": [
    "# Output "
   ]
  },
  {
   "cell_type": "code",
   "execution_count": null,
   "metadata": {},
   "outputs": [],
   "source": [
    "# Output "
   ]
  },
  {
   "cell_type": "code",
   "execution_count": null,
   "metadata": {},
   "outputs": [],
   "source": [
    "# Output "
   ]
  },
  {
   "cell_type": "code",
   "execution_count": null,
   "metadata": {},
   "outputs": [],
   "source": [
    "# Output "
   ]
  },
  {
   "cell_type": "code",
   "execution_count": null,
   "metadata": {},
   "outputs": [],
   "source": [
    "# Output "
   ]
  },
  {
   "cell_type": "code",
   "execution_count": null,
   "metadata": {},
   "outputs": [],
   "source": [
    "# Output "
   ]
  },
  {
   "cell_type": "code",
   "execution_count": null,
   "metadata": {},
   "outputs": [],
   "source": [
    "# Output "
   ]
  },
  {
   "cell_type": "code",
   "execution_count": null,
   "metadata": {},
   "outputs": [],
   "source": [
    "# Output "
   ]
  },
  {
   "cell_type": "markdown",
   "metadata": {},
   "source": [
    "## Call_Query_Player_Per_Poss\n",
    "### `call_query_all_player_per_poss_pid():`\n",
    "\n",
    "### `call_query_all_player_per_poss_sid_pid():`\n",
    "\n",
    "### `call_query_all_player_per_poss_tid_pid():`\n",
    "\n",
    "### `call_query_all_player_per_poss_pname():`\n",
    "\n",
    "### `call_query_all_player_per_poss_pname_sid():`\n",
    "\n",
    "### `call_query_all_player_per_poss_pname_tid():`\n",
    "\n",
    "### `call_query_all_player_per_poss_both_pid():`\n",
    "\n",
    "### `call_query_all_player_per_poss_both_sid_pid():`\n",
    "\n",
    "### `call_query_all_player_per_poss_both_tid_pid():`\n",
    "\n",
    "### `call_query_all_player_per_poss_both_pname():`\n",
    "\n",
    "### `call_query_all_player_per_poss_both_pname_sid():`\n",
    "\n",
    "### `call_query_all_player_per_poss_both_pname_tid():`"
   ]
  },
  {
   "cell_type": "markdown",
   "metadata": {},
   "source": [
    "### <font color='red'>Import the Functions from Call_Query_Player_Per_Poss</font>"
   ]
  },
  {
   "cell_type": "code",
   "execution_count": null,
   "metadata": {},
   "outputs": [],
   "source": []
  },
  {
   "cell_type": "markdown",
   "metadata": {},
   "source": [
    "### Output for Call_Query_Player_Per_Poss"
   ]
  },
  {
   "cell_type": "code",
   "execution_count": null,
   "metadata": {},
   "outputs": [],
   "source": [
    "# Output "
   ]
  },
  {
   "cell_type": "code",
   "execution_count": null,
   "metadata": {},
   "outputs": [],
   "source": [
    "# Output "
   ]
  },
  {
   "cell_type": "code",
   "execution_count": null,
   "metadata": {},
   "outputs": [],
   "source": [
    "# Output "
   ]
  },
  {
   "cell_type": "code",
   "execution_count": null,
   "metadata": {},
   "outputs": [],
   "source": [
    "# Output "
   ]
  },
  {
   "cell_type": "code",
   "execution_count": null,
   "metadata": {},
   "outputs": [],
   "source": [
    "# Output "
   ]
  },
  {
   "cell_type": "code",
   "execution_count": null,
   "metadata": {},
   "outputs": [],
   "source": [
    "# Output "
   ]
  },
  {
   "cell_type": "code",
   "execution_count": null,
   "metadata": {},
   "outputs": [],
   "source": [
    "# Output "
   ]
  },
  {
   "cell_type": "code",
   "execution_count": null,
   "metadata": {},
   "outputs": [],
   "source": [
    "# Output "
   ]
  },
  {
   "cell_type": "code",
   "execution_count": null,
   "metadata": {},
   "outputs": [],
   "source": [
    "# Output "
   ]
  },
  {
   "cell_type": "code",
   "execution_count": null,
   "metadata": {},
   "outputs": [],
   "source": [
    "# Output "
   ]
  },
  {
   "cell_type": "code",
   "execution_count": null,
   "metadata": {},
   "outputs": [],
   "source": [
    "# Output "
   ]
  },
  {
   "cell_type": "code",
   "execution_count": null,
   "metadata": {},
   "outputs": [],
   "source": [
    "# Output "
   ]
  },
  {
   "cell_type": "markdown",
   "metadata": {},
   "source": [
    "## Call_Query_Player_Totals\n",
    "### `call_query_all_player_totals_pid():`\n",
    "\n",
    "### `call_query_all_player_totals_sid_pid():`\n",
    "\n",
    "### `call_query_all_player_totals_tid_pid():`\n",
    "\n",
    "### `call_query_all_player_totals_pname():`\n",
    "\n",
    "### `call_query_all_player_totals_pname_sid():`\n",
    "\n",
    "### `call_query_all_player_totals_pname_tid():`\n",
    "\n",
    "### `call_query_all_player_totals_both_pid():`\n",
    "\n",
    "### `call_query_all_player_totals_both_sid_pid():`\n",
    "\n",
    "### `call_query_all_player_totals_both_tid_pid():`\n",
    "\n",
    "### `call_query_all_player_totals_both_pname():`\n",
    "\n",
    "### `call_query_all_player_totals_both_pname_sid():`\n",
    "\n",
    "### `call_query_all_player_totals_both_pname_tid():`\n"
   ]
  },
  {
   "cell_type": "markdown",
   "metadata": {},
   "source": [
    "### <font color='red'>Import the Functions from Call_Query_Player_Totals</font>"
   ]
  },
  {
   "cell_type": "code",
   "execution_count": null,
   "metadata": {},
   "outputs": [],
   "source": []
  },
  {
   "cell_type": "markdown",
   "metadata": {},
   "source": [
    "### Output for Call_Query_Player_Totals"
   ]
  },
  {
   "cell_type": "code",
   "execution_count": null,
   "metadata": {},
   "outputs": [],
   "source": [
    "# Output "
   ]
  },
  {
   "cell_type": "code",
   "execution_count": null,
   "metadata": {},
   "outputs": [],
   "source": [
    "# Output "
   ]
  },
  {
   "cell_type": "code",
   "execution_count": null,
   "metadata": {},
   "outputs": [],
   "source": [
    "# Output "
   ]
  },
  {
   "cell_type": "code",
   "execution_count": null,
   "metadata": {},
   "outputs": [],
   "source": [
    "# Output "
   ]
  },
  {
   "cell_type": "code",
   "execution_count": null,
   "metadata": {},
   "outputs": [],
   "source": [
    "# Output "
   ]
  },
  {
   "cell_type": "code",
   "execution_count": null,
   "metadata": {},
   "outputs": [],
   "source": [
    "# Output "
   ]
  },
  {
   "cell_type": "code",
   "execution_count": null,
   "metadata": {},
   "outputs": [],
   "source": [
    "# Output "
   ]
  },
  {
   "cell_type": "code",
   "execution_count": null,
   "metadata": {},
   "outputs": [],
   "source": [
    "# Output "
   ]
  },
  {
   "cell_type": "code",
   "execution_count": null,
   "metadata": {},
   "outputs": [],
   "source": [
    "# Output "
   ]
  },
  {
   "cell_type": "code",
   "execution_count": null,
   "metadata": {},
   "outputs": [],
   "source": [
    "# Output "
   ]
  },
  {
   "cell_type": "code",
   "execution_count": null,
   "metadata": {},
   "outputs": [],
   "source": [
    "# Output "
   ]
  },
  {
   "cell_type": "code",
   "execution_count": null,
   "metadata": {},
   "outputs": [],
   "source": [
    "# Output "
   ]
  },
  {
   "cell_type": "markdown",
   "metadata": {},
   "source": [
    "## Call_Query_Player_Career_Stats\n",
    "### `call_query_player_career_stats_one_pid():`\n",
    "\n",
    "### `call_query_player_career_stats_two_pid():`\n",
    "\n",
    "### `call_query_player_career_stats_three_pid():`\n",
    "\n",
    "### `call_query_player_career_stats_primary_pid():`\n",
    "\n",
    "### `call_query_player_career_stats_one_both_pid():`\n",
    "\n",
    "### `call_query_player_career_stats_two_both_pid():`\n",
    "\n",
    "### `call_query_player_career_stats_three_both_pid():`\n",
    "\n",
    "### `call_query_player_career_stats_primary_both_pid():`"
   ]
  },
  {
   "cell_type": "markdown",
   "metadata": {},
   "source": [
    "### <font color='red'>Import the Functions from Call_Query_Player_Career_Stats</font>"
   ]
  },
  {
   "cell_type": "code",
   "execution_count": null,
   "metadata": {},
   "outputs": [],
   "source": []
  },
  {
   "cell_type": "markdown",
   "metadata": {},
   "source": [
    "## Output for Call_Query_Player_Career_Stats"
   ]
  },
  {
   "cell_type": "code",
   "execution_count": null,
   "metadata": {},
   "outputs": [],
   "source": [
    "# Output "
   ]
  },
  {
   "cell_type": "code",
   "execution_count": null,
   "metadata": {},
   "outputs": [],
   "source": [
    "# Output "
   ]
  },
  {
   "cell_type": "code",
   "execution_count": null,
   "metadata": {},
   "outputs": [],
   "source": [
    "# Output "
   ]
  },
  {
   "cell_type": "code",
   "execution_count": null,
   "metadata": {},
   "outputs": [],
   "source": [
    "# Output "
   ]
  },
  {
   "cell_type": "code",
   "execution_count": null,
   "metadata": {},
   "outputs": [],
   "source": [
    "# Output "
   ]
  },
  {
   "cell_type": "code",
   "execution_count": null,
   "metadata": {},
   "outputs": [],
   "source": [
    "# Output "
   ]
  },
  {
   "cell_type": "code",
   "execution_count": null,
   "metadata": {},
   "outputs": [],
   "source": [
    "# Output "
   ]
  },
  {
   "cell_type": "code",
   "execution_count": null,
   "metadata": {},
   "outputs": [],
   "source": [
    "# Output "
   ]
  },
  {
   "cell_type": "markdown",
   "metadata": {},
   "source": [
    "## Call_Query_Player_Career_Advanced\n",
    "### `call_query_player_career_advanced_pid():`\n",
    "\n",
    "### `call_query_player_career_advanced_pname():`\n",
    "\n",
    "### `call_query_player_career_advanced_both_pid():`\n",
    "\n",
    "### `call_query_player_career_advanced_both_pname():`"
   ]
  },
  {
   "cell_type": "markdown",
   "metadata": {},
   "source": [
    "### <font color='red'>Import the Functions from Call_Query_Player_Career_Advanced</font>"
   ]
  },
  {
   "cell_type": "code",
   "execution_count": null,
   "metadata": {},
   "outputs": [],
   "source": []
  },
  {
   "cell_type": "markdown",
   "metadata": {},
   "source": [
    "### Output for Call_Query_Player_Career_Advanced"
   ]
  },
  {
   "cell_type": "code",
   "execution_count": null,
   "metadata": {},
   "outputs": [],
   "source": [
    "# Output "
   ]
  },
  {
   "cell_type": "code",
   "execution_count": null,
   "metadata": {},
   "outputs": [],
   "source": [
    "# Output "
   ]
  },
  {
   "cell_type": "code",
   "execution_count": null,
   "metadata": {},
   "outputs": [],
   "source": [
    "# Output "
   ]
  },
  {
   "cell_type": "code",
   "execution_count": null,
   "metadata": {},
   "outputs": [],
   "source": [
    "# Output "
   ]
  },
  {
   "cell_type": "markdown",
   "metadata": {},
   "source": [
    "## Call_Query_Player_Career_Per_Game\n",
    "### `call_query_player_career_per_game_pid():`\n",
    "\n",
    "### `call_query_player_career_per_game_pname():`\n",
    "\n",
    "### `call_query_player_career_per_game_both_pid():`\n",
    "\n",
    "### `call_query_player_career_per_game_both_pname():`"
   ]
  },
  {
   "cell_type": "markdown",
   "metadata": {},
   "source": [
    "### <font color='red'>Import the Functions from Call_Query_Player_Career_Per_Game</font>"
   ]
  },
  {
   "cell_type": "code",
   "execution_count": null,
   "metadata": {},
   "outputs": [],
   "source": []
  },
  {
   "cell_type": "markdown",
   "metadata": {},
   "source": [
    "### Output for Call_Query_Player_Career_Per_Game"
   ]
  },
  {
   "cell_type": "code",
   "execution_count": null,
   "metadata": {},
   "outputs": [],
   "source": [
    "# Output "
   ]
  },
  {
   "cell_type": "code",
   "execution_count": null,
   "metadata": {},
   "outputs": [],
   "source": [
    "# Output "
   ]
  },
  {
   "cell_type": "code",
   "execution_count": null,
   "metadata": {},
   "outputs": [],
   "source": [
    "# Output "
   ]
  },
  {
   "cell_type": "code",
   "execution_count": null,
   "metadata": {},
   "outputs": [],
   "source": [
    "# Output "
   ]
  },
  {
   "cell_type": "markdown",
   "metadata": {},
   "source": [
    "## Call_Query_Player_Career_Per_Minute\n",
    "### `call_query_player_career_per_minute_pid():`\n",
    "\n",
    "### `call_query_player_career_per_minute_pname():`\n",
    "\n",
    "### `call_query_player_career_per_minute_both_pid():`\n",
    "\n",
    "### `call_query_player_career_per_minute_both_pname():`"
   ]
  },
  {
   "cell_type": "markdown",
   "metadata": {},
   "source": [
    "### <font color='red'>Import the Functions from Call_Query_Player_Career_Per_Minute</font>"
   ]
  },
  {
   "cell_type": "code",
   "execution_count": null,
   "metadata": {},
   "outputs": [],
   "source": []
  },
  {
   "cell_type": "markdown",
   "metadata": {},
   "source": [
    "### Output for Call_Query_Player_Career_Per_Minute"
   ]
  },
  {
   "cell_type": "code",
   "execution_count": null,
   "metadata": {},
   "outputs": [],
   "source": [
    "# Output "
   ]
  },
  {
   "cell_type": "code",
   "execution_count": null,
   "metadata": {},
   "outputs": [],
   "source": [
    "# Output "
   ]
  },
  {
   "cell_type": "code",
   "execution_count": null,
   "metadata": {},
   "outputs": [],
   "source": [
    "# Output "
   ]
  },
  {
   "cell_type": "code",
   "execution_count": null,
   "metadata": {},
   "outputs": [],
   "source": [
    "# Output "
   ]
  },
  {
   "cell_type": "markdown",
   "metadata": {},
   "source": [
    "## Call_Query_Player_Career_Per_Poss\n",
    "### `call_query_player_career_per_poss_pid():`\n",
    "\n",
    "### `call_query_player_career_per_poss_pname():`\n",
    "\n",
    "### `call_query_player_career_per_poss_both_pid():`\n",
    "\n",
    "### `call_query_player_career_per_poss_both_pname():`"
   ]
  },
  {
   "cell_type": "markdown",
   "metadata": {},
   "source": [
    "### <font color='red'>Import the Functions from Call_Query_Player_Career_Per_Poss</font>"
   ]
  },
  {
   "cell_type": "code",
   "execution_count": null,
   "metadata": {},
   "outputs": [],
   "source": []
  },
  {
   "cell_type": "markdown",
   "metadata": {},
   "source": [
    "### Output for Call_Query_Player_Career_Per_Poss"
   ]
  },
  {
   "cell_type": "code",
   "execution_count": null,
   "metadata": {},
   "outputs": [],
   "source": [
    "# Output "
   ]
  },
  {
   "cell_type": "code",
   "execution_count": null,
   "metadata": {},
   "outputs": [],
   "source": [
    "# Output "
   ]
  },
  {
   "cell_type": "code",
   "execution_count": null,
   "metadata": {},
   "outputs": [],
   "source": [
    "# Output "
   ]
  },
  {
   "cell_type": "code",
   "execution_count": null,
   "metadata": {},
   "outputs": [],
   "source": [
    "# Output "
   ]
  },
  {
   "cell_type": "markdown",
   "metadata": {},
   "source": [
    "## Call_Query_Player_Career_Totals\n",
    "### `call_query_player_career_totals_pid():`\n",
    "\n",
    "### `call_query_player_career_totals_pname():`\n",
    "\n",
    "### `call_query_player_career_totals_both_pid():`\n",
    "\n",
    "### `call_query_player_career_totals_both_pname():`"
   ]
  },
  {
   "cell_type": "markdown",
   "metadata": {},
   "source": [
    "### <font color='red'>Import the Functions from Call_Query_Player_Career_Totals</font>"
   ]
  },
  {
   "cell_type": "code",
   "execution_count": null,
   "metadata": {},
   "outputs": [],
   "source": []
  },
  {
   "cell_type": "markdown",
   "metadata": {},
   "source": [
    "### Output for Call_Query_Player_Career_Totals"
   ]
  },
  {
   "cell_type": "code",
   "execution_count": null,
   "metadata": {},
   "outputs": [],
   "source": [
    "# Output "
   ]
  },
  {
   "cell_type": "code",
   "execution_count": null,
   "metadata": {},
   "outputs": [],
   "source": [
    "# Output "
   ]
  },
  {
   "cell_type": "code",
   "execution_count": null,
   "metadata": {},
   "outputs": [],
   "source": [
    "# Output "
   ]
  },
  {
   "cell_type": "code",
   "execution_count": null,
   "metadata": {},
   "outputs": [],
   "source": [
    "# Output "
   ]
  },
  {
   "cell_type": "markdown",
   "metadata": {},
   "source": [
    "## Constants"
   ]
  },
  {
   "cell_type": "code",
   "execution_count": null,
   "metadata": {},
   "outputs": [],
   "source": []
  },
  {
   "cell_type": "code",
   "execution_count": null,
   "metadata": {},
   "outputs": [],
   "source": []
  },
  {
   "cell_type": "markdown",
   "metadata": {},
   "source": [
    "## Regular_Expression"
   ]
  },
  {
   "cell_type": "code",
   "execution_count": null,
   "metadata": {},
   "outputs": [],
   "source": []
  },
  {
   "cell_type": "code",
   "execution_count": null,
   "metadata": {},
   "outputs": [],
   "source": []
  },
  {
   "cell_type": "markdown",
   "metadata": {},
   "source": [
    "#  <font color='blue'>/Queries</font>"
   ]
  },
  {
   "cell_type": "markdown",
   "metadata": {},
   "source": [
    "## Create_All_Queries.py"
   ]
  },
  {
   "cell_type": "markdown",
   "metadata": {},
   "source": [
    "### <font color='red'>Import the Functions from Create_All_Queries.py</font>"
   ]
  },
  {
   "cell_type": "code",
   "execution_count": null,
   "metadata": {},
   "outputs": [],
   "source": []
  },
  {
   "cell_type": "code",
   "execution_count": null,
   "metadata": {},
   "outputs": [],
   "source": [
    "# Output"
   ]
  },
  {
   "cell_type": "markdown",
   "metadata": {},
   "source": [
    "## Drop_All_Queries.py"
   ]
  },
  {
   "cell_type": "markdown",
   "metadata": {},
   "source": [
    "### <font color='red'>Import the Functions from Drop_All_Queries.py</font>"
   ]
  },
  {
   "cell_type": "code",
   "execution_count": null,
   "metadata": {},
   "outputs": [],
   "source": []
  },
  {
   "cell_type": "code",
   "execution_count": null,
   "metadata": {},
   "outputs": [],
   "source": [
    "# Output"
   ]
  },
  {
   "cell_type": "markdown",
   "metadata": {},
   "source": [
    "## <font color='blue'> Primary Queries</font>"
   ]
  },
  {
   "cell_type": "markdown",
   "metadata": {},
   "source": [
    "## Query_Team.py\n",
    "### `create_query_all_team_sid():`\n",
    "\n",
    "### `create_query_all_team_tid():`\n",
    "\n",
    "### `create_query_all_team_name():`\n",
    "\n",
    "### `create_query_all_team_ABV():`\n",
    "\n",
    "### `create_query_team_name():`\n",
    "\n",
    "### `create_query_team_abv():`\n",
    "\n",
    "### `create_team_query():`\n",
    "\n",
    "### `drop_query_all_team_sid():`\n",
    "\n",
    "### `drop_query_all_team_tid():`\n",
    "\n",
    "### `drop_query_all_team_name():`\n",
    "\n",
    "### `drop_query_all_team_ABV():`\n",
    "\n",
    "### `drop_query_team_name():`\n",
    "\n",
    "### `drops_query_team_abv():`\n",
    "\n",
    "### `drop_team_query():`"
   ]
  },
  {
   "cell_type": "markdown",
   "metadata": {},
   "source": [
    "### <font color='red'>Import the Functions from Query_Team.py</font>"
   ]
  },
  {
   "cell_type": "code",
   "execution_count": 11,
   "metadata": {},
   "outputs": [
    {
     "ename": "ModuleNotFoundError",
     "evalue": "No module named 'Call_Query_Team'",
     "output_type": "error",
     "traceback": [
      "\u001b[1;31m---------------------------------------------------------------------------\u001b[0m",
      "\u001b[1;31mModuleNotFoundError\u001b[0m                       Traceback (most recent call last)",
      "\u001b[1;32m<ipython-input-11-070937820436>\u001b[0m in \u001b[0;36m<module>\u001b[1;34m\u001b[0m\n\u001b[1;32m----> 1\u001b[1;33m \u001b[1;32mimport\u001b[0m \u001b[0mCall_Query_Team\u001b[0m\u001b[1;33m\u001b[0m\u001b[1;33m\u001b[0m\u001b[0m\n\u001b[0m",
      "\u001b[1;31mModuleNotFoundError\u001b[0m: No module named 'Call_Query_Team'"
     ]
    }
   ],
   "source": [
    "import Call_Query_Team"
   ]
  },
  {
   "cell_type": "code",
   "execution_count": null,
   "metadata": {},
   "outputs": [],
   "source": [
    "# Output"
   ]
  },
  {
   "cell_type": "code",
   "execution_count": null,
   "metadata": {},
   "outputs": [],
   "source": [
    "# Output"
   ]
  },
  {
   "cell_type": "code",
   "execution_count": null,
   "metadata": {},
   "outputs": [],
   "source": [
    "# Output"
   ]
  },
  {
   "cell_type": "code",
   "execution_count": null,
   "metadata": {},
   "outputs": [],
   "source": [
    "# Output"
   ]
  },
  {
   "cell_type": "markdown",
   "metadata": {},
   "source": [
    "## Query_Player.py\n",
    "### `create_query_all_player_pid():`\n",
    "\n",
    "### `create_query_all_player_name_dob():`\n",
    "\n",
    "### `create_query_player_name():`\n",
    "\n",
    "### `create_player_query():`\n",
    "\n",
    "### `drop_query_all_player_pid():`\n",
    "\n",
    "### `drop_query_all_player_name_dob():`\n",
    "\n",
    "### `drop_query_player_name():`\n",
    "\n",
    "### `drop_player_query():`"
   ]
  },
  {
   "cell_type": "markdown",
   "metadata": {},
   "source": [
    "### <font color='red'>Import the Functions from Query_Player.py</font>"
   ]
  },
  {
   "cell_type": "code",
   "execution_count": null,
   "metadata": {},
   "outputs": [],
   "source": []
  },
  {
   "cell_type": "code",
   "execution_count": null,
   "metadata": {},
   "outputs": [],
   "source": [
    "# Output"
   ]
  },
  {
   "cell_type": "code",
   "execution_count": null,
   "metadata": {},
   "outputs": [],
   "source": [
    "# Output"
   ]
  },
  {
   "cell_type": "code",
   "execution_count": null,
   "metadata": {},
   "outputs": [],
   "source": [
    "# Output"
   ]
  },
  {
   "cell_type": "code",
   "execution_count": null,
   "metadata": {},
   "outputs": [],
   "source": [
    "# Output"
   ]
  },
  {
   "cell_type": "markdown",
   "metadata": {},
   "source": [
    "## <font color='blue'> Season Queries</font>"
   ]
  },
  {
   "cell_type": "markdown",
   "metadata": {},
   "source": [
    "## Query_Conference_Standings.py\n",
    "### `create_query_all_cs_sid():`\n",
    "\n",
    "### `create_query_all_cs_tid():`\n",
    "\n",
    "### `create_query_all_cs_name():`\n",
    "\n",
    "### `create_query_all_cs_ABV():`\n",
    "\n",
    "### `create_query_all_cs_win():`\n",
    "\n",
    "### `create_query_all_cs_wl():`\n",
    "\n",
    "### `create_query_all_cs_sid_ew():`\n",
    "\n",
    "### `create_query_cs_win():`\n",
    "\n",
    "### `create_cs_query():`\n",
    "\n",
    "### `drop_query_all_cs_sid():`\n",
    "\n",
    "### `drop_query_all_cs_tid():`\n",
    "\n",
    "### `drop_query_all_cs_name():`\n",
    "\n",
    "### `drop_query_all_cs_ABV():`\n",
    "\n",
    "### `drop_query_all_cs_win():`\n",
    "\n",
    "### `drop_query_all_cs_wl():`\n",
    "\n",
    "### `drop_query_all_cs_sid_ew():`\n",
    "\n",
    "### `drop_query_cs_win():`\n",
    "\n",
    "### `drop_cs_query():`"
   ]
  },
  {
   "cell_type": "markdown",
   "metadata": {},
   "source": [
    "### <font color='red'>Import the Functions from Query_Conference_Stadings.py</font>"
   ]
  },
  {
   "cell_type": "code",
   "execution_count": null,
   "metadata": {},
   "outputs": [],
   "source": []
  },
  {
   "cell_type": "code",
   "execution_count": null,
   "metadata": {},
   "outputs": [],
   "source": [
    "# Output"
   ]
  },
  {
   "cell_type": "code",
   "execution_count": null,
   "metadata": {},
   "outputs": [],
   "source": [
    "# Output"
   ]
  },
  {
   "cell_type": "code",
   "execution_count": null,
   "metadata": {},
   "outputs": [],
   "source": [
    "# Output"
   ]
  },
  {
   "cell_type": "code",
   "execution_count": null,
   "metadata": {},
   "outputs": [],
   "source": [
    "# Output"
   ]
  },
  {
   "cell_type": "markdown",
   "metadata": {},
   "source": [
    "## <font color='blue'> Team Queries</font>"
   ]
  },
  {
   "cell_type": "markdown",
   "metadata": {},
   "source": [
    "## Query_Roster.py\n",
    "### `create_query_all_roster_sid():`\n",
    "\n",
    "### `create_query_all_roster_tid():`\n",
    "\n",
    "### `create_query_all_roster_pid():`\n",
    "\n",
    "### `create_query_all_roster_pname():`\n",
    "\n",
    "### `create_query_all_roster_tname():`\n",
    "\n",
    "### `create_query_all_roster_abv():`\n",
    "\n",
    "### `create_query_all_roster_college():`\n",
    "\n",
    "### `create_query_all_roster_sid_tid():`\n",
    "\n",
    "### `create_query_all_roster_tid_pid():`\n",
    "\n",
    "### `create_query_all_roster_sid_tid_pid():`\n",
    "\n",
    "### `create_roster_query():`\n",
    "\n",
    "### `drop_query_all_roster_sid():`\n",
    "\n",
    "### `drop_query_all_roster_tid():`\n",
    "\n",
    "### `drop_query_all_roster_pid():`\n",
    "\n",
    "### `drop_query_all_roster_pname():`\n",
    "\n",
    "### `drop_query_all_roster_tname():`\n",
    "\n",
    "### `drop_query_all_roster_abv():`\n",
    "\n",
    "### `drop_query_all_roster_college():`\n",
    "\n",
    "### `drop_query_all_roster_sid_tid():`\n",
    "\n",
    "### `drop_query_all_roster_tid_pid():`\n",
    "\n",
    "### `drop_query_all_roster_sid_tid_pid():`\n",
    "\n",
    "###  `drop_roster_query():`"
   ]
  },
  {
   "cell_type": "markdown",
   "metadata": {},
   "source": [
    "### <font color='red'>Import the Functions from Query_Roster.py</font>"
   ]
  },
  {
   "cell_type": "code",
   "execution_count": null,
   "metadata": {},
   "outputs": [],
   "source": []
  },
  {
   "cell_type": "code",
   "execution_count": null,
   "metadata": {},
   "outputs": [],
   "source": [
    "# Output"
   ]
  },
  {
   "cell_type": "code",
   "execution_count": null,
   "metadata": {},
   "outputs": [],
   "source": [
    "# Output"
   ]
  },
  {
   "cell_type": "code",
   "execution_count": null,
   "metadata": {},
   "outputs": [],
   "source": [
    "# Output"
   ]
  },
  {
   "cell_type": "code",
   "execution_count": null,
   "metadata": {},
   "outputs": [],
   "source": [
    "# Output"
   ]
  },
  {
   "cell_type": "markdown",
   "metadata": {},
   "source": [
    "## Query_Team_Stats.py\n",
    "### `create_query_team_stats_minor_one():`\n",
    "### `create_query_team_stats_minor_two():`\n",
    "### `create_query_team_stats_minor_three():`\n",
    "\n",
    "### `create_query_team_stats_major_one():`\n",
    "### `create_query_team_stats_major_two():`\n",
    "### `create_query_team_stats_major_three():`\n",
    "\n",
    "### `create_query_team_stats_major_op_one():`\n",
    "### `create_query_team_stats_major_op_two():`\n",
    "### `create_query_team_stats_major_op_three():`\n",
    "\n",
    "### `create_query_team_stats_primary_sid():`\n",
    "### `create_query_team_stats_primary_tid():`\n",
    "### `create_query_team_stats_primary_sid_tid():`\n",
    "\n",
    "### `create_query_team_stats_major_compare_one():`\n",
    "### `create_query_team_stats_major_compare_two():`\n",
    "### `create_query_team_stats_major_compare_three():`\n",
    "### `create_team_stats_query():`\n",
    "\n",
    "### `drop_query_team_stats_minor_one():`\n",
    "### `drop_query_team_stats_minor_two():`\n",
    "### `drop_query_team_stats_minor_three():`\n",
    "\n",
    "### `drop_query_team_stats_major_one():`\n",
    "### `drop_query_team_stats_major_two():`\n",
    "### `drop_query_team_stats_major_three():`\n",
    "\n",
    "### `drop_query_team_stats_major_op_one():`\n",
    "### `drop_query_team_stats_major_op_two():`\n",
    "### `drop_query_team_stats_major_op_three():`\n",
    "\n",
    "### `drop_query_team_stats_primary_sid():`\n",
    "### `drop_query_team_stats_primary_tid():`\n",
    "### `drop_query_team_stats_primary_sid_tid():`\n",
    "\n",
    "### `drop_query_team_stats_major_compare_one():`\n",
    "### `drop_query_team_stats_major_compare_two():`\n",
    "### `drop_query_team_stats_major_compare_three():`"
   ]
  },
  {
   "cell_type": "markdown",
   "metadata": {},
   "source": [
    "### <font color='red'>Import the Functions from Query_Team_Stats.py</font>"
   ]
  },
  {
   "cell_type": "code",
   "execution_count": 8,
   "metadata": {},
   "outputs": [
    {
     "ename": "SyntaxError",
     "evalue": "invalid syntax (<ipython-input-8-edd0dda2e04a>, line 1)",
     "output_type": "error",
     "traceback": [
      "\u001b[1;36m  File \u001b[1;32m\"<ipython-input-8-edd0dda2e04a>\"\u001b[1;36m, line \u001b[1;32m1\u001b[0m\n\u001b[1;33m    from Python Scripts.Helper_DB import create_connection, test_connection, check_table\u001b[0m\n\u001b[1;37m                ^\u001b[0m\n\u001b[1;31mSyntaxError\u001b[0m\u001b[1;31m:\u001b[0m invalid syntax\n"
     ]
    }
   ],
   "source": []
  },
  {
   "cell_type": "code",
   "execution_count": null,
   "metadata": {},
   "outputs": [],
   "source": [
    "# Output"
   ]
  },
  {
   "cell_type": "code",
   "execution_count": null,
   "metadata": {},
   "outputs": [],
   "source": [
    "# Output"
   ]
  },
  {
   "cell_type": "code",
   "execution_count": null,
   "metadata": {},
   "outputs": [],
   "source": [
    "# Output"
   ]
  },
  {
   "cell_type": "code",
   "execution_count": null,
   "metadata": {},
   "outputs": [],
   "source": [
    "# Output"
   ]
  },
  {
   "cell_type": "markdown",
   "metadata": {},
   "source": [
    "## Query_Team_Advanced.py\n",
    "### `create_query_all_team_advanced_sid():`\n",
    "### `create_query_all_team_advanced_tid():`\n",
    "### `create_query_all_team_advanced_sid_tid():`\n",
    "### `create_query_all_team_advanced_name():`\n",
    "### `create_query_all_team_advanced_ABV():`\n",
    "### `create_team_advanced_query():`\n",
    "\n",
    "### `drop_query_all_team_advanced_sid():`\n",
    "### `drop_query_all_team_advanced_tid():`\n",
    "### `drop_query_all_team_advanced_sid_tid():`\n",
    "### `drop_query_all_team_advanced_name():`\n",
    "### `drop_query_all_team_advanced_ABV():`\n",
    "### `drop_team_advanced_query():`"
   ]
  },
  {
   "cell_type": "markdown",
   "metadata": {},
   "source": [
    "### <font color='red'>Import the Functions from Query_Team_Advanced.py</font>"
   ]
  },
  {
   "cell_type": "code",
   "execution_count": null,
   "metadata": {},
   "outputs": [],
   "source": []
  },
  {
   "cell_type": "code",
   "execution_count": 2,
   "metadata": {},
   "outputs": [],
   "source": [
    "# Output"
   ]
  },
  {
   "cell_type": "code",
   "execution_count": 3,
   "metadata": {},
   "outputs": [],
   "source": [
    "# Output"
   ]
  },
  {
   "cell_type": "code",
   "execution_count": 4,
   "metadata": {},
   "outputs": [],
   "source": [
    "# Output"
   ]
  },
  {
   "cell_type": "code",
   "execution_count": 5,
   "metadata": {},
   "outputs": [],
   "source": [
    "# Output"
   ]
  },
  {
   "cell_type": "markdown",
   "metadata": {},
   "source": [
    "## Query_Team_Per_Game.py\n",
    "\n",
    "### `create_query_all_team_per_game_sid():`\n",
    "### `create_query_all_team_per_game_tid():`\n",
    "### `create_query_all_team_per_game_sid_tid():`\n",
    "### `create_query_all_team_per_game_name():`\n",
    "### `create_query_all_team_per_game_ABV():`\n",
    "\n",
    "### `create_query_all_team_per_game_both_sid():`\n",
    "### `create_query_all_team_per_game_both_tid():`\n",
    "### `create_query_all_team_per_game_both_sid_tid():`\n",
    "### `create_query_all_team_per_game_both_name():`\n",
    "### `create_query_all_team_per_game_both_ABV():`\n",
    "### `create_team_per_game_query():`\n",
    "### `drop_query_all_team_per_game_sid():`\n",
    "### `drop_query_all_team_per_game_tid():`\n",
    "### `drop_query_all_team_per_game_sid_tid():`\n",
    "### `drop_query_all_team_per_game_name():`\n",
    "### `drop_query_all_team_per_game_ABV():`\n",
    "\n",
    "### `drop_query_all_team_per_game_both_sid():`\n",
    "### `drop_query_all_team_per_game_both_tid():`\n",
    "### `drop_query_all_team_per_game_both_sid_tid():`\n",
    "### `drop_query_all_team_per_game_both_name():`\n",
    "### `drop_query_all_team_per_game_both_ABV():`\n",
    "### `drop_team_per_game_query():`"
   ]
  },
  {
   "cell_type": "markdown",
   "metadata": {},
   "source": [
    "### <font color='red'>Import the Functions from Query_Team_Per_Game.py</font>"
   ]
  },
  {
   "cell_type": "code",
   "execution_count": null,
   "metadata": {},
   "outputs": [],
   "source": []
  },
  {
   "cell_type": "code",
   "execution_count": 6,
   "metadata": {},
   "outputs": [],
   "source": [
    "# Output"
   ]
  },
  {
   "cell_type": "code",
   "execution_count": 7,
   "metadata": {},
   "outputs": [],
   "source": [
    "# Output"
   ]
  },
  {
   "cell_type": "code",
   "execution_count": 8,
   "metadata": {},
   "outputs": [],
   "source": [
    "# Output"
   ]
  },
  {
   "cell_type": "code",
   "execution_count": 9,
   "metadata": {},
   "outputs": [],
   "source": [
    "# Output"
   ]
  },
  {
   "cell_type": "markdown",
   "metadata": {},
   "source": [
    "## Query_Team_Per_Poss.py\n",
    "### `create_team_per_poss_query():`\n",
    "### `create_query_all_team_per_poss_sid():`\n",
    "### `create_query_all_team_per_poss_tid():`\n",
    "### `create_query_all_team_per_poss_sid_tid():`\n",
    "### `create_query_all_team_per_poss_name():`\n",
    "### `create_query_all_team_per_poss_ABV():`\n",
    "\n",
    "### `create_query_all_team_per_poss_both_sid():`\n",
    "### `create_query_all_team_per_poss_both_tid():`\n",
    "### `create_query_all_team_per_poss_both_sid_tid():`\n",
    "### `create_query_all_team_per_poss_both_name():`\n",
    "### `create_query_all_team_per_poss_both_ABV():`\n",
    "### `drop_query_all_team_per_poss_sid():`\n",
    "### `drop_query_all_team_per_poss_tid():`\n",
    "### `drop_query_all_team_per_poss_sid_tid():`\n",
    "### `drop_query_all_team_per_poss_name():`\n",
    "### `drop_query_all_team_per_poss_ABV():`\n",
    "\n",
    "### `drop_query_all_team_per_poss_both_sid():`\n",
    "### `drop_query_all_team_per_poss_both_tid():`\n",
    "### `drop_query_all_team_per_poss_both_sid_tid():`\n",
    "### `drop_query_all_team_per_poss_both_name():`\n",
    "### `drop_query_all_team_per_poss_both_ABV():`\n",
    "### `drop_team_per_poss_query():`"
   ]
  },
  {
   "cell_type": "markdown",
   "metadata": {},
   "source": [
    "### <font color='red'>Import the Functions from Query_Team_Per_Poss.py</font>"
   ]
  },
  {
   "cell_type": "code",
   "execution_count": null,
   "metadata": {},
   "outputs": [],
   "source": []
  },
  {
   "cell_type": "code",
   "execution_count": 10,
   "metadata": {},
   "outputs": [],
   "source": [
    "# Output"
   ]
  },
  {
   "cell_type": "code",
   "execution_count": 11,
   "metadata": {},
   "outputs": [],
   "source": [
    "# Output"
   ]
  },
  {
   "cell_type": "code",
   "execution_count": 12,
   "metadata": {},
   "outputs": [],
   "source": [
    "# Output"
   ]
  },
  {
   "cell_type": "code",
   "execution_count": 13,
   "metadata": {},
   "outputs": [],
   "source": [
    "# Output"
   ]
  },
  {
   "cell_type": "markdown",
   "metadata": {},
   "source": [
    "## Query_Team_Totals.py\n",
    "### `create_query_all_team_totals_sid():`\n",
    "### `create_query_all_team_totals_tid():`\n",
    "### `create_query_all_team_totals_sid_tid():`\n",
    "### `create_query_all_team_totals_name():`\n",
    "### `create_query_all_team_totals_ABV():`\n",
    "### `create_query_all_team_totals_both_sid():`\n",
    "### `create_query_all_team_totals_both_tid():`\n",
    "### `create_query_all_team_totals_both_sid_tid():`\n",
    "### `create_query_all_team_totals_both_name():`\n",
    "### `create_query_all_team_totals_both_ABV():`\n",
    "### `create_team_totals_query():`\n",
    "### `drop_query_all_team_totals_sid():`\n",
    "### `drop_query_all_team_totals_tid():`\n",
    "### `drop_query_all_team_totals_sid_tid():`\n",
    "### `drop_query_all_team_totals_name():`\n",
    "### `drop_query_all_team_totals_ABV():`\n",
    "### `drop_query_all_team_totals_both_sid():`\n",
    "### `drop_query_all_team_totals_both_tid():`\n",
    "### `drop_query_all_team_totals_both_sid_tid():`\n",
    "### `drop_query_all_team_totals_both_name():`\n",
    "### `drop_query_all_team_totals_both_ABV():`\n",
    "### `drop_team_totals_query():`"
   ]
  },
  {
   "cell_type": "markdown",
   "metadata": {},
   "source": [
    "### <font color='red'>Import the Functions from Query_Team_Totals.py</font>"
   ]
  },
  {
   "cell_type": "code",
   "execution_count": null,
   "metadata": {},
   "outputs": [],
   "source": []
  },
  {
   "cell_type": "code",
   "execution_count": 14,
   "metadata": {},
   "outputs": [],
   "source": [
    "# Output"
   ]
  },
  {
   "cell_type": "code",
   "execution_count": 15,
   "metadata": {},
   "outputs": [],
   "source": [
    "# Output"
   ]
  },
  {
   "cell_type": "code",
   "execution_count": 16,
   "metadata": {},
   "outputs": [],
   "source": [
    "# Output"
   ]
  },
  {
   "cell_type": "code",
   "execution_count": 17,
   "metadata": {},
   "outputs": [],
   "source": [
    "# Output"
   ]
  },
  {
   "cell_type": "markdown",
   "metadata": {},
   "source": [
    "##  <font color='blue'> Player Stats Queries</font>"
   ]
  },
  {
   "cell_type": "markdown",
   "metadata": {},
   "source": [
    "## Query_Player_Stats.py\n",
    "### `create_query_player_stats_one_pid():`\n",
    "### `create_query_player_stats_two_pid():`\n",
    "### `create_query_player_stats_three_pid():`\n",
    "### `create_query_player_stats_primary_pid():`\n",
    "### `create_query_player_stats_one_above_pid():`\n",
    "### `create_query_player_stats_two_above_pid():`\n",
    "### `create_query_player_stats_three_above_pid():`\n",
    "\n",
    "### `create_query_player_stats_one_tid_pid():`\n",
    "### `create_query_player_stats_two_tid_pid():`\n",
    "### `create_query_player_stats_three_tid_pid():`\n",
    "### `create_query_player_stats_primary_tid_pid():`\n",
    "### `create_query_player_stats_one_above_tid_pid():`\n",
    "### `create_query_player_stats_two_above_tid_pid():`\n",
    "### `create_query_player_stats_three_above_tid_pid():`\n",
    "\n",
    "### `create_query_player_stats_one_sid_pid():`\n",
    "### `create_query_player_stats_two_sid_pid():`\n",
    "### `create_query_player_stats_three_sid_pid():`\n",
    "### `create_query_player_stats_primary_sid_pid():`\n",
    "\n",
    "### `create_query_player_stats_one_both_pid():`\n",
    "### `create_query_player_stats_two_both_pid():`\n",
    "### `create_query_player_stats_three_both_pid():`\n",
    "### `create_query_player_stats_primary_both_pid():`\n",
    "### `create_query_player_stats_one_both_above_pid():`\n",
    "### `create_query_player_stats_two_both_above_pid():`\n",
    "### `create_query_player_stats_three_both_above_pid():`\n",
    "\n",
    "### `create_query_player_stats_one_both_tid_pid():`\n",
    "### `create_query_player_stats_two_both_tid_pid():`\n",
    "### `create_query_player_stats_three_both_tid_pid():`\n",
    "### `create_query_player_stats_primary_both_tid_pid():`\n",
    "### `create_query_player_stats_one_both_above_tid_pid():`\n",
    "### `create_query_player_stats_two_both_above_tid_pid():`\n",
    "### `create_query_player_stats_three_both_above_tid_pid():`\n",
    "\n",
    "### `create_query_player_stats_one_both_sid_pid():`\n",
    "### `create_query_player_stats_two_both_sid_pid():`\n",
    "### `create_query_player_stats_three_both_sid_pid():`\n",
    "### `create_query_player_stats_primary_both_sid_pid():`\n",
    "### `create_player_stats_query():`\n",
    "### `drop_query_player_stats_one_pid():`\n",
    "### `drop_query_player_stats_two_pid():`\n",
    "### `drop_query_player_stats_three_pid():`\n",
    "### `drop_query_player_stats_primary_pid():`\n",
    "### `drop_query_player_stats_one_above_pid():`\n",
    "### `drop_query_player_stats_two_above_pid():`\n",
    "### `drop_query_player_stats_three_above_pid():`\n",
    "\n",
    "### `drop_query_player_stats_one_tid_pid():`\n",
    "### `drop_query_player_stats_two_tid_pid():`\n",
    "### `drop_query_player_stats_three_tid_pid():`\n",
    "### `drop_query_player_stats_primary_tid_pid():`\n",
    "### `drop_query_player_stats_one_above_tid_pid():`\n",
    "### `drop_query_player_stats_two_above_tid_pid():`\n",
    "### `drop_query_player_stats_three_above_tid_pid():`\n",
    "\n",
    "### `drop_query_player_stats_one_sid_pid():`\n",
    "### `drop_query_player_stats_two_sid_pid():`\n",
    "### `drop_query_player_stats_three_sid_pid():`\n",
    "### `drop_query_player_stats_primary_sid_pid():`\n",
    "\n",
    "### `drop_query_player_stats_one_both_pid():`\n",
    "### `drop_query_player_stats_two_both_pid():`\n",
    "### `drop_query_player_stats_three_both_pid():`\n",
    "### `drop_query_player_stats_primary_both_pid():`\n",
    "### `drop_query_player_stats_one_both_above_pid():`\n",
    "### `drop_query_player_stats_two_both_above_pid():`\n",
    "### `drop_query_player_stats_three_both_above_pid():`\n",
    "\n",
    "### `drop_query_player_stats_one_both_tid_pid():`\n",
    "### `drop_query_player_stats_two_both_tid_pid():`\n",
    "### `drop_query_player_stats_three_both_tid_pid():`\n",
    "### `drop_query_player_stats_primary_both_tid_pid():`\n",
    "### `drop_query_player_stats_one_both_above_tid_pid():`\n",
    "### `drop_query_player_stats_two_both_above_tid_pid():`\n",
    "### `drop_query_player_stats_three_both_above_tid_pid():`\n",
    "\n",
    "### `drop_query_player_stats_one_both_sid_pid():`\n",
    "### `drop_query_player_stats_two_both_sid_pid():`\n",
    "### `drop_query_player_stats_three_both_sid_pid():`\n",
    "### `drop_query_player_stats_primary_both_sid_pid():`\n",
    "### `drop_player_stats_query():`"
   ]
  },
  {
   "cell_type": "markdown",
   "metadata": {},
   "source": [
    "### <font color='red'>Import the Functions from Query_Player_Stats.py</font>"
   ]
  },
  {
   "cell_type": "code",
   "execution_count": null,
   "metadata": {},
   "outputs": [],
   "source": []
  },
  {
   "cell_type": "code",
   "execution_count": 18,
   "metadata": {},
   "outputs": [],
   "source": [
    "# Output"
   ]
  },
  {
   "cell_type": "code",
   "execution_count": 19,
   "metadata": {},
   "outputs": [],
   "source": [
    "# Output"
   ]
  },
  {
   "cell_type": "code",
   "execution_count": 20,
   "metadata": {},
   "outputs": [],
   "source": [
    "# Output"
   ]
  },
  {
   "cell_type": "code",
   "execution_count": 21,
   "metadata": {},
   "outputs": [],
   "source": [
    "# Output"
   ]
  },
  {
   "cell_type": "markdown",
   "metadata": {},
   "source": [
    "## Query_Player_Advanced.py\n",
    "### `create_query_all_player_advanced_pid():`\n",
    "### `create_query_all_player_advanced_sid_pid():`\n",
    "### `create_query_all_player_advanced_tid_pid():`\n",
    "### `create_query_all_player_advanced_pname():`\n",
    "### `create_query_all_player_advanced_pname_sid():`\n",
    "### `create_query_all_player_advanced_pname_tid():`\n",
    "\n",
    "### `create_query_all_player_advanced_both_pid():`\n",
    "### `create_query_all_player_advanced_both_sid_pid():`\n",
    "### `create_query_all_player_advanced_both_tid_pid():`\n",
    "### `create_query_all_player_advanced_both_pname():`\n",
    "### `create_query_all_player_advanced_both_pname_sid():`\n",
    "### `create_query_all_player_advanced_both_pname_tid():`\n",
    "### `create_player_advanced_query():`\n",
    "### `drop_query_all_player_advanced_pid():`\n",
    "### `drop_query_all_player_advanced_sid_pid():`\n",
    "### `drop_query_all_player_advanced_tid_pid():`\n",
    "### `drop_query_all_player_advanced_pname():`\n",
    "### `drop_query_all_player_advanced_pname_sid():`\n",
    "### `drop_query_all_player_advanced_pname_tid():`\n",
    "\n",
    "### `drop_query_all_player_advanced_both_pid():`\n",
    "### `drop_query_all_player_advanced_both_sid_pid():`\n",
    "### `drop_query_all_player_advanced_both_tid_pid():`\n",
    "### `drop_query_all_player_advanced_both_pname():`\n",
    "### `drop_query_all_player_advanced_both_pname_sid():`\n",
    "### `drop_query_all_player_advanced_both_pname_tid():`\n",
    "### `drop_player_advanced_query():`"
   ]
  },
  {
   "cell_type": "markdown",
   "metadata": {},
   "source": [
    "### <font color='red'>Import the Functions from Query_Player_Advanced.py</font>"
   ]
  },
  {
   "cell_type": "code",
   "execution_count": null,
   "metadata": {},
   "outputs": [],
   "source": []
  },
  {
   "cell_type": "code",
   "execution_count": 22,
   "metadata": {},
   "outputs": [],
   "source": [
    "# Output"
   ]
  },
  {
   "cell_type": "code",
   "execution_count": 23,
   "metadata": {},
   "outputs": [],
   "source": [
    "# Output"
   ]
  },
  {
   "cell_type": "code",
   "execution_count": 24,
   "metadata": {},
   "outputs": [],
   "source": [
    "# Output"
   ]
  },
  {
   "cell_type": "code",
   "execution_count": 25,
   "metadata": {},
   "outputs": [],
   "source": [
    "# Output"
   ]
  },
  {
   "cell_type": "markdown",
   "metadata": {},
   "source": [
    "## Query_Player_Per_Game.py\n",
    "### `create_query_all_player_per_game_pid():`\n",
    "\n",
    "### `create_query_all_player_per_game_sid_pid():`\n",
    "\n",
    "### `create_query_all_player_per_game_tid_pid():`\n",
    "\n",
    "### `create_query_all_player_per_game_pname():`\n",
    "\n",
    "### `create_query_all_player_per_game_pname_sid():`\n",
    "\n",
    "### `create_query_all_player_per_game_pname_tid():`\n",
    "\n",
    "### `create_query_all_player_per_game_both_pid():`\n",
    "\n",
    "### `create_query_all_player_per_game_both_sid_pid():`\n",
    "\n",
    "### `create_query_all_player_per_game_both_tid_pid():`\n",
    "\n",
    "### `create_query_all_player_per_game_both_pname():`\n",
    "\n",
    "### `create_query_all_player_per_game_both_pname_sid():`\n",
    "\n",
    "### `create_query_all_player_per_game_both_pname_tid():`\n",
    "\n",
    "### `create_player_per_game_query():`\n",
    "\n",
    "### `drop_query_all_player_per_game_pid():`\n",
    "\n",
    "### `drop_query_all_player_per_game_sid_pid():`\n",
    "\n",
    "### `drop_query_all_player_per_game_tid_pid():`\n",
    "\n",
    "### `drop_query_all_player_per_game_pname():`\n",
    "\n",
    "### `drop_query_all_player_per_game_pname_sid():`\n",
    "\n",
    "### `drop_query_all_player_per_game_pname_tid():`\n",
    "\n",
    "### `drop_query_all_player_per_game_both_pid():`\n",
    "\n",
    "### `drop_query_all_player_per_game_both_sid_pid():`\n",
    "\n",
    "### `drop_query_all_player_per_game_both_tid_pid():`\n",
    "\n",
    "### `drop_query_all_player_per_game_both_pname():`\n",
    "\n",
    "### `drop_query_all_player_per_game_both_pname_sid():`\n",
    "\n",
    "### `drop_query_all_player_per_game_both_pname_tid():`\n",
    "\n",
    "### `drop_player_per_game_query():`\n"
   ]
  },
  {
   "cell_type": "markdown",
   "metadata": {},
   "source": [
    "### <font color='red'>Import the Functions from Query_Player_Per_Game.py</font>"
   ]
  },
  {
   "cell_type": "code",
   "execution_count": null,
   "metadata": {},
   "outputs": [],
   "source": []
  },
  {
   "cell_type": "code",
   "execution_count": 26,
   "metadata": {},
   "outputs": [],
   "source": [
    "# Output"
   ]
  },
  {
   "cell_type": "code",
   "execution_count": 27,
   "metadata": {},
   "outputs": [],
   "source": [
    "# Output"
   ]
  },
  {
   "cell_type": "code",
   "execution_count": 28,
   "metadata": {},
   "outputs": [],
   "source": [
    "# Output"
   ]
  },
  {
   "cell_type": "code",
   "execution_count": 29,
   "metadata": {},
   "outputs": [],
   "source": [
    "# Output"
   ]
  },
  {
   "cell_type": "markdown",
   "metadata": {},
   "source": [
    "## Query_Player_Per_Minute.py\n",
    "### `create_query_all_player_per_minute_pid():`\n",
    "\n",
    "### `create_query_all_player_per_minute_sid_pid():`\n",
    "\n",
    "### `create_query_all_player_per_minute_tid_pid():`\n",
    "\n",
    "### `create_query_all_player_per_minute_pname():`\n",
    "\n",
    "### `create_query_all_player_per_minute_pname_sid():`\n",
    "\n",
    "### `create_query_all_player_per_minute_pname_tid():`\n",
    "\n",
    "### `create_query_all_player_per_minute_both_pid():`\n",
    "\n",
    "### `create_query_all_player_per_minute_both_sid_pid():`\n",
    "\n",
    "### `create_query_all_player_per_minute_both_tid_pid():`\n",
    "\n",
    "### `create_query_all_player_per_minute_both_pname():`\n",
    "\n",
    "### `create_query_all_player_per_minute_both_pname_sid():`\n",
    "\n",
    "### `create_query_all_player_per_minute_both_pname_tid():`\n",
    "\n",
    "### `create_player_per_minute_query():`\n",
    "\n",
    "### `drop_query_all_player_per_minute_pid():`\n",
    "\n",
    "### `drop_query_all_player_per_minute_sid_pid():`\n",
    "\n",
    "### `drop_query_all_player_per_minute_tid_pid():`\n",
    "\n",
    "### `drop_query_all_player_per_minute_pname():`\n",
    "\n",
    "### `drop_query_all_player_per_minute_pname_sid():`\n",
    "\n",
    "### `drop_query_all_player_per_minute_pname_tid():`\n",
    "\n",
    "### `drop_query_all_player_per_minute_both_pid():`\n",
    "\n",
    "### `drop_query_all_player_per_minute_both_sid_pid():`\n",
    "\n",
    "### `drop_query_all_player_per_minute_both_tid_pid():`\n",
    "\n",
    "### `drop_query_all_player_per_minute_both_pname():`\n",
    "\n",
    "### `drop_query_all_player_per_minute_both_pname_sid():`\n",
    "\n",
    "### `drop_query_all_player_per_minute_both_pname_tid():`\n",
    "\n",
    "### `drop_player_per_minute_query():`"
   ]
  },
  {
   "cell_type": "markdown",
   "metadata": {},
   "source": [
    "### <font color='red'>Import the Functions from Query_Player_Per_Minute.py</font>"
   ]
  },
  {
   "cell_type": "code",
   "execution_count": null,
   "metadata": {},
   "outputs": [],
   "source": []
  },
  {
   "cell_type": "code",
   "execution_count": 30,
   "metadata": {},
   "outputs": [],
   "source": [
    "# Output"
   ]
  },
  {
   "cell_type": "code",
   "execution_count": 31,
   "metadata": {},
   "outputs": [],
   "source": [
    "# Output"
   ]
  },
  {
   "cell_type": "code",
   "execution_count": 32,
   "metadata": {},
   "outputs": [],
   "source": [
    "# Output"
   ]
  },
  {
   "cell_type": "code",
   "execution_count": 33,
   "metadata": {},
   "outputs": [],
   "source": [
    "# Output"
   ]
  },
  {
   "cell_type": "markdown",
   "metadata": {},
   "source": [
    "## Query_Player_Totals.py\n",
    "### `create_query_all_player_totals_pid():`\n",
    "\n",
    "### `create_query_all_player_totals_sid_pid():`\n",
    "\n",
    "### `create_query_all_player_totals_tid_pid():`\n",
    "\n",
    "### `create_query_all_player_totals_pname():`\n",
    "\n",
    "### `create_query_all_player_totals_pname_sid():`\n",
    "\n",
    "### `create_query_all_player_totals_pname_tid():`\n",
    "\n",
    "### `create_query_all_player_totals_both_pid():`\n",
    "\n",
    "### `create_query_all_player_totals_both_sid_pid():`\n",
    "\n",
    "### `create_query_all_player_totals_both_tid_pid():`\n",
    "\n",
    "### `create_query_all_player_totals_both_pname():`\n",
    "\n",
    "### `create_query_all_player_totals_both_pname_sid():`\n",
    "\n",
    "### `create_query_all_player_totals_both_pname_tid():`\n",
    "\n",
    "### `create_player_totals_query():`\n",
    "\n",
    "### `drop_query_all_player_totals_pid():`\n",
    "\n",
    "### `drop_query_all_player_totals_sid_pid():`\n",
    "\n",
    "### `drop_query_all_player_totals_tid_pid():`\n",
    "\n",
    "### `drop_query_all_player_totals_pname():`\n",
    "\n",
    "### `drop_query_all_player_totals_pname_sid():`\n",
    "\n",
    "### `drop_query_all_player_totals_pname_tid():`\n",
    "\n",
    "### `drop_query_all_player_totals_both_pid():`\n",
    "\n",
    "### `drop_query_all_player_totals_both_sid_pid():`\n",
    "\n",
    "### `drop_query_all_player_totals_both_tid_pid():`\n",
    "\n",
    "### `drop_query_all_player_totals_both_pname():`\n",
    "\n",
    "### `drop_query_all_player_totals_both_pname_sid():`\n",
    "\n",
    "### `drop_query_all_player_totals_both_pname_tid():`\n",
    "\n",
    "### `drop_player_totals_query():`"
   ]
  },
  {
   "cell_type": "markdown",
   "metadata": {},
   "source": [
    "### <font color='red'>Import the Functions from Query_Player_Totals.py</font>"
   ]
  },
  {
   "cell_type": "code",
   "execution_count": null,
   "metadata": {},
   "outputs": [],
   "source": []
  },
  {
   "cell_type": "code",
   "execution_count": 34,
   "metadata": {},
   "outputs": [],
   "source": [
    "# Output"
   ]
  },
  {
   "cell_type": "code",
   "execution_count": 35,
   "metadata": {},
   "outputs": [],
   "source": [
    "# Output"
   ]
  },
  {
   "cell_type": "code",
   "execution_count": 36,
   "metadata": {},
   "outputs": [],
   "source": [
    "# Output"
   ]
  },
  {
   "cell_type": "code",
   "execution_count": 37,
   "metadata": {},
   "outputs": [],
   "source": [
    "# Output"
   ]
  },
  {
   "cell_type": "markdown",
   "metadata": {},
   "source": [
    "##  <font color='blue'> Player Career Stats Queries</font>"
   ]
  },
  {
   "cell_type": "markdown",
   "metadata": {},
   "source": [
    "## Query_Player_Career_Stats.py\n",
    "### `create_query_player_career_stats_one_pid():`\n",
    "\n",
    "### `create_query_player_career_stats_two_pid():`\n",
    "\n",
    "### `create_query_player_career_stats_three_pid():`\n",
    "\n",
    "### `create_query_player_career_stats_primary_pid():`\n",
    "\n",
    "### `create_query_player_career_stats_one_both_pid():`\n",
    "\n",
    "### `create_query_player_career_stats_two_both_pid():`\n",
    "\n",
    "### `create_query_player_career_stats_three_both_pid():`\n",
    "\n",
    "### `create_query_player_career_stats_primary_both_pid():`\n",
    "\n",
    "### `create_player_career_stats_query():`\n",
    "\n",
    "### `drop_query_player_career_stats_one_pid():`\n",
    "\n",
    "### `drop_query_player_career_stats_two_pid():`\n",
    "\n",
    "### `drop_query_player_career_stats_three_pid():`\n",
    "\n",
    "### `drop_query_player_career_stats_primary_pid():`\n",
    "\n",
    "### `drop_query_player_career_stats_one_both_pid():`\n",
    "\n",
    "### `drop_query_player_career_stats_two_both_pid():`\n",
    "\n",
    "### `drop_query_player_career_stats_three_both_pid():`\n",
    "\n",
    "### `drop_query_player_career_stats_primary_both_pid():`\n",
    "\n",
    "### `drop_player_career_stats_query():"
   ]
  },
  {
   "cell_type": "markdown",
   "metadata": {},
   "source": [
    "### <font color='red'>Import the Functions from Query_Player_Career_Stats.py</font>"
   ]
  },
  {
   "cell_type": "code",
   "execution_count": null,
   "metadata": {},
   "outputs": [],
   "source": []
  },
  {
   "cell_type": "code",
   "execution_count": 38,
   "metadata": {},
   "outputs": [],
   "source": [
    "# Output"
   ]
  },
  {
   "cell_type": "code",
   "execution_count": 39,
   "metadata": {},
   "outputs": [],
   "source": [
    "# Output"
   ]
  },
  {
   "cell_type": "code",
   "execution_count": 40,
   "metadata": {},
   "outputs": [],
   "source": [
    "# Output"
   ]
  },
  {
   "cell_type": "code",
   "execution_count": 41,
   "metadata": {},
   "outputs": [],
   "source": [
    "# Output"
   ]
  },
  {
   "cell_type": "markdown",
   "metadata": {},
   "source": [
    "## Query_Player_Career_Advanced.py\n",
    "### `create_query_player_career_advanced_pid():`\n",
    "\n",
    "### `create_query_player_career_advanced_pname():`\n",
    "\n",
    "### `create_query_player_career_advanced_both_pid():`\n",
    "\n",
    "### `create_query_player_career_advanced_both_pname():`\n",
    "\n",
    "### `create_player_career_advanced_query():`\n",
    "\n",
    "### `drop_query_player_career_advanced_pid():`\n",
    "\n",
    "### `drop_query_player_career_advanced_pname():`\n",
    "\n",
    "### `drop_query_player_career_advanced_both_pid():`\n",
    "\n",
    "### `drop_query_player_career_advanced_both_pname():`\n",
    "\n",
    "### `drop_player_career_advanced_query():`"
   ]
  },
  {
   "cell_type": "markdown",
   "metadata": {},
   "source": [
    "### <font color='red'>Import the Functions from Query_Player_Career_Advanced.py</font>"
   ]
  },
  {
   "cell_type": "code",
   "execution_count": null,
   "metadata": {},
   "outputs": [],
   "source": []
  },
  {
   "cell_type": "code",
   "execution_count": 42,
   "metadata": {},
   "outputs": [],
   "source": [
    "# Output"
   ]
  },
  {
   "cell_type": "code",
   "execution_count": 43,
   "metadata": {},
   "outputs": [],
   "source": [
    "# Output"
   ]
  },
  {
   "cell_type": "code",
   "execution_count": 44,
   "metadata": {},
   "outputs": [],
   "source": [
    "# Output"
   ]
  },
  {
   "cell_type": "code",
   "execution_count": 45,
   "metadata": {},
   "outputs": [],
   "source": [
    "# Output"
   ]
  },
  {
   "cell_type": "markdown",
   "metadata": {},
   "source": [
    "## Query_Player_Career_Per_Game.py\n",
    "### `create_query_player_career_per_game_pid():`\n",
    "\n",
    "### `create_query_player_career_per_game_pname():`\n",
    "\n",
    "### `create_query_player_career_per_game_both_pid():`\n",
    "\n",
    "### `create_query_player_career_per_game_both_pname():`\n",
    "\n",
    "### `create_player_career_per_game_query():`\n",
    "\n",
    "### `drop_query_player_career_per_game_pid():`\n",
    "\n",
    "### `drop_query_player_career_per_game_pname():`\n",
    "\n",
    "### `drop_query_player_career_per_game_both_pid():`\n",
    "\n",
    "### `drop_query_player_career_per_game_both_pname():`\n",
    "\n",
    "### `drop_player_career_per_game_query():`"
   ]
  },
  {
   "cell_type": "markdown",
   "metadata": {},
   "source": [
    "### <font color='red'>Import the Functions from Query_Player_Career_Per_Game.py</font>"
   ]
  },
  {
   "cell_type": "code",
   "execution_count": null,
   "metadata": {},
   "outputs": [],
   "source": []
  },
  {
   "cell_type": "code",
   "execution_count": 46,
   "metadata": {},
   "outputs": [],
   "source": [
    "# Output"
   ]
  },
  {
   "cell_type": "code",
   "execution_count": 47,
   "metadata": {},
   "outputs": [],
   "source": [
    "# Output"
   ]
  },
  {
   "cell_type": "code",
   "execution_count": 48,
   "metadata": {},
   "outputs": [],
   "source": [
    "# Output"
   ]
  },
  {
   "cell_type": "code",
   "execution_count": 49,
   "metadata": {},
   "outputs": [],
   "source": [
    "# Output"
   ]
  },
  {
   "cell_type": "markdown",
   "metadata": {},
   "source": [
    "## Query_Player_Career_Per_Minute.py\n",
    "### `create_player_career_per_minute_query():`\n",
    "\n",
    "### `create_query_player_career_per_minute_pid():`\n",
    "\n",
    "### `create_query_player_career_per_minute_pname():`\n",
    "\n",
    "### `create_query_player_career_per_minute_both_pid():`\n",
    "\n",
    "### `create_query_player_career_per_minute_both_pname():`\n",
    "\n",
    "### `drop_query_player_career_per_minute_pid():`\n",
    "\n",
    "### `drop_query_player_career_per_minute_pname():`\n",
    "\n",
    "### `drop_query_player_career_per_minute_both_pid():`\n",
    "\n",
    "### `drop_query_player_career_per_minute_both_pname():`\n",
    "\n",
    "### `drop_player_career_per_minute_query():`"
   ]
  },
  {
   "cell_type": "markdown",
   "metadata": {},
   "source": [
    "### <font color='red'>Import the Functions from Query_Player_Career_Per_Minute.py</font>"
   ]
  },
  {
   "cell_type": "code",
   "execution_count": null,
   "metadata": {},
   "outputs": [],
   "source": []
  },
  {
   "cell_type": "code",
   "execution_count": 50,
   "metadata": {},
   "outputs": [],
   "source": [
    "# Output"
   ]
  },
  {
   "cell_type": "code",
   "execution_count": 51,
   "metadata": {},
   "outputs": [],
   "source": [
    "# Output"
   ]
  },
  {
   "cell_type": "code",
   "execution_count": 52,
   "metadata": {},
   "outputs": [],
   "source": [
    "# Output"
   ]
  },
  {
   "cell_type": "code",
   "execution_count": 53,
   "metadata": {},
   "outputs": [],
   "source": [
    "# Output"
   ]
  },
  {
   "cell_type": "markdown",
   "metadata": {},
   "source": [
    "## Query_Player_Career_Per_Poss.py\n",
    "### `create_query_player_career_per_poss_pid():`\n",
    "\n",
    "### `create_query_player_career_per_poss_pname():`\n",
    "\n",
    "### `create_query_player_career_per_poss_both_pid():`\n",
    "\n",
    "### `create_query_player_career_per_poss_both_pname():`\n",
    "\n",
    "### `create_player_career_per_poss_query():`\n",
    "\n",
    "### `drop_query_player_career_per_poss_pid():`\n",
    "\n",
    "### `drop_query_player_career_per_poss_pname():`\n",
    "\n",
    "### `drop_query_player_career_per_poss_both_pid():`\n",
    "\n",
    "### `drop_query_player_career_per_poss_both_pname():`\n",
    "\n",
    "### `drop_player_career_per_poss_query():`"
   ]
  },
  {
   "cell_type": "markdown",
   "metadata": {},
   "source": [
    "### <font color='red'>Import the Functions from Query_Player_Career_Per_Poss.py</font>"
   ]
  },
  {
   "cell_type": "code",
   "execution_count": null,
   "metadata": {},
   "outputs": [],
   "source": []
  },
  {
   "cell_type": "code",
   "execution_count": 54,
   "metadata": {},
   "outputs": [],
   "source": [
    "# Output"
   ]
  },
  {
   "cell_type": "code",
   "execution_count": 55,
   "metadata": {},
   "outputs": [],
   "source": [
    "# Output"
   ]
  },
  {
   "cell_type": "code",
   "execution_count": 56,
   "metadata": {},
   "outputs": [],
   "source": [
    "# Output"
   ]
  },
  {
   "cell_type": "code",
   "execution_count": 57,
   "metadata": {},
   "outputs": [],
   "source": [
    "# Output"
   ]
  },
  {
   "cell_type": "markdown",
   "metadata": {},
   "source": [
    "## Query_Player_Career_Totals.py\n",
    "### `create_query_player_career_totals_pid():`\n",
    "\n",
    "### `create_query_player_career_totals_pname():`\n",
    "\n",
    "### `create_query_player_career_totals_both_pid():`\n",
    "\n",
    "### `create_query_player_career_totals_both_pname():`\n",
    "\n",
    "### `create_player_career_totals_query():`\n",
    "\n",
    "### `drop_query_player_career_totals_pid():`\n",
    "\n",
    "### `drop_query_player_career_totals_pname():`\n",
    "\n",
    "### `drop_query_player_career_totals_both_pid():`\n",
    "\n",
    "### `drop_query_player_career_totals_both_pname():`\n",
    "\n",
    "### `drop_player_career_totals_query():`"
   ]
  },
  {
   "cell_type": "markdown",
   "metadata": {},
   "source": [
    "### <font color='red'>Import the Functions from Query_Player_Career_Totals.py</font>"
   ]
  },
  {
   "cell_type": "code",
   "execution_count": null,
   "metadata": {},
   "outputs": [],
   "source": []
  },
  {
   "cell_type": "code",
   "execution_count": 58,
   "metadata": {},
   "outputs": [],
   "source": [
    "# Output"
   ]
  },
  {
   "cell_type": "code",
   "execution_count": 59,
   "metadata": {},
   "outputs": [],
   "source": [
    "# Output"
   ]
  },
  {
   "cell_type": "code",
   "execution_count": 60,
   "metadata": {},
   "outputs": [],
   "source": [
    "# Output"
   ]
  },
  {
   "cell_type": "code",
   "execution_count": 61,
   "metadata": {},
   "outputs": [],
   "source": [
    "# Output"
   ]
  },
  {
   "cell_type": "markdown",
   "metadata": {},
   "source": [
    "# /Queries_Test\n",
    "\n",
    "## Query_Team_Test.py\n",
    "\n",
    "## Query_Player_Test.py\n",
    "\n",
    "## Query_Conference_Standings_Test.py\n",
    "\n",
    "## Query_Roster_Test.py\n",
    "\n",
    "## Query_Team_Stats_Test.py\n",
    "\n",
    "## Query_Team_Advanced_Test.py\n",
    "\n",
    "## Query_Team_Misc_Test.py\n",
    "\n",
    "## Query_Team_Per_Game_Test.py\n",
    "\n",
    "## Query_Team_Per_Poss_Test.py\n",
    "\n",
    "## Query_Team_Totals_Test.py\n",
    "\n",
    "## Query_Player_Stats_Test.py\n",
    "\n",
    "## Query_Player_Advanced_Test.py\n",
    "\n",
    "## Query_Player_Per_Game_Test.py\n",
    "\n",
    "## Query_Player_Per_Minute_Test.py\n",
    "\n",
    "## Query_Player_Per_Poss_Test.py\n",
    "\n",
    "## Query_Player_Totals_Test.py\n",
    "\n",
    "## Query_Player_Career_Stats_Test.py\n",
    "\n",
    "## Query_Player_Career_Advanced_Test.py\n",
    "\n",
    "## Query_Player_Career_Per_Game_Test.py\n",
    "\n",
    "## Query_Player_Career_Per_Minute_Test.py\n",
    "\n",
    "## Query_Player_Career_Per_Poss_Test.py\n",
    "\n",
    "## Query_Player_Career_Totals_Test.py"
   ]
  },
  {
   "cell_type": "markdown",
   "metadata": {},
   "source": [
    "# <font color='red'> SQL Scripts  </font>"
   ]
  },
  {
   "cell_type": "markdown",
   "metadata": {},
   "source": [
    "## Create_Database.sql\n",
    "\n",
    "## Create_Table.sql\n",
    "\n",
    "## Drop_Table.sql\n",
    "\n",
    "## Drop_Table_Procedure.sql\n",
    "\n",
    "## Queries_Insert.sql\n",
    "\n",
    "## Test_Insert.sql\n",
    "\n",
    "## Truncate_Table_Procedure.sql"
   ]
  },
  {
   "cell_type": "code",
   "execution_count": null,
   "metadata": {},
   "outputs": [],
   "source": []
  }
 ],
 "metadata": {
  "kernelspec": {
   "display_name": "Python 3",
   "language": "python",
   "name": "python3"
  },
  "language_info": {
   "codemirror_mode": {
    "name": "ipython",
    "version": 3
   },
   "file_extension": ".py",
   "mimetype": "text/x-python",
   "name": "python",
   "nbconvert_exporter": "python",
   "pygments_lexer": "ipython3",
   "version": "3.8.5"
  }
 },
 "nbformat": 4,
 "nbformat_minor": 4
}
