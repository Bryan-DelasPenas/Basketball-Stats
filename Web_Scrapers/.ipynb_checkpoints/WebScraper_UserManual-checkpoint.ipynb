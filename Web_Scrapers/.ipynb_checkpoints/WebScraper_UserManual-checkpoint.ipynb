{
 "cells": [
  {
   "cell_type": "markdown",
   "metadata": {},
   "source": [
    "# Web Scraper User Manual\n",
    "<b>By: Bryan Delas Penas</b>\n",
    "\n"
   ]
  },
  {
   "cell_type": "markdown",
   "metadata": {},
   "source": [
    "## Phase 1 Overview: Gathering the Data\n",
    "<p> The main purpose of this phase was to generate data based on each Season, Team and, Player from the National Basketball Association to be used for the next two phases. Using basketball-reference.com, I created a web scraper to scrape information.</p>\n",
    "\n",
    "<p> For <b>Season</b>, the stats being scraped is the name of teams for the given season, and the standings for the given season.</p>\n",
    "\n",
    "<p> For <b>Team</b>, the stats being scraped is a team's <b>advanced, misc, per_game, per_minute and totals</b>. With the last three, <b>per_game, per_minute, and totals</b> also having the opponent's average agaist a given team as well.</p>\n",
    "\n",
    "<p> For <b>Player</b> the stats being scraped is a player's </p>\n",
    "    \n",
    "### The Architecture of the Python Web Scrapers \n",
    "<p> </p>\n",
    "\n",
    "#### File system Organization\n",
    "<p> </p>\n",
    "\n",
    "#### Python Moduels/ Libraries \n",
    "<br>import pandas <br> "
   ]
  },
  {
   "cell_type": "markdown",
   "metadata": {},
   "source": [
    "## Python Scrapers\n",
    "<p> In total there are three main files, that contain code for the scraper. Season, Team and Player Scrapers are the main scrapers. Also in the main files</p>\n",
    "\n",
    "### Season Scraper\n",
    "\n",
    "### Team Scraper \n",
    "\n",
    "### Player Scraper\n",
    "\n",
    "### Team Constants\n",
    "\n",
    "### Create Player Names\n",
    "\n",
    "### Utlis"
   ]
  },
  {
   "cell_type": "markdown",
   "metadata": {},
   "source": [
    "## Running The Scrapers\n",
    "\n",
    "### Get Season Scraper\n",
    "\n",
    "### Get Team Scraper\n",
    "\n",
    "### Get Player Scraper"
   ]
  },
  {
   "cell_type": "markdown",
   "metadata": {},
   "source": [
    "## Testing The Scrapers\n",
    "\n",
    "### Test Season Scraper\n",
    "\n",
    "### Test Team Scraper\n",
    "\n",
    "### Test Player Scraper"
   ]
  },
  {
   "cell_type": "markdown",
   "metadata": {},
   "source": [
    "## General Basketball Defintions"
   ]
  },
  {
   "cell_type": "code",
   "execution_count": null,
   "metadata": {},
   "outputs": [],
   "source": []
  }
 ],
 "metadata": {
  "kernelspec": {
   "display_name": "Python 3",
   "language": "python",
   "name": "python3"
  },
  "language_info": {
   "codemirror_mode": {
    "name": "ipython",
    "version": 3
   },
   "file_extension": ".py",
   "mimetype": "text/x-python",
   "name": "python",
   "nbconvert_exporter": "python",
   "pygments_lexer": "ipython3",
   "version": "3.8.5"
  }
 },
 "nbformat": 4,
 "nbformat_minor": 4
}
